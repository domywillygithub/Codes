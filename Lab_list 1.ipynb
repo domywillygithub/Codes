{
 "cells": [
  {
   "cell_type": "code",
   "execution_count": 1,
   "id": "a58c5043",
   "metadata": {},
   "outputs": [
    {
     "name": "stdout",
     "output_type": "stream",
     "text": [
      "Enter a number: 79\n",
      "the input is an:  <class 'int'>\n",
      "You picked an odd number.\n"
     ]
    }
   ],
   "source": [
    "num = int(input(\"Enter a number: \"))\n",
    "print('the input is an: ',type(num))\n",
    "      \n",
    "if num % 2 != 0:\n",
    "    print(\"You picked an odd number.\")\n",
    "else:\n",
    "    print(\"You picked an even number.\")"
   ]
  },
  {
   "cell_type": "code",
   "execution_count": 39,
   "id": "9e40d98f",
   "metadata": {},
   "outputs": [
    {
     "name": "stdout",
     "output_type": "stream",
     "text": [
      "Randomised list is:  [66, 43, 48, 53, 36, 21, 15, 10, 34, 39, 12, 12, 28, 4, 82, 76, 71, 96, 74, 82]\n",
      "The maximum value is:  96\n",
      "The mean value is:  45.1\n"
     ]
    }
   ],
   "source": [
    "import random\n",
    "import numpy as np\n",
    "a=[]\n",
    "\n",
    "for i in range(20):\n",
    "    a.append(random.randint(1,99))\n",
    "    \n",
    "print('Randomised list is: ',a)\n",
    "print('The maximum value is: ',np.max(a))\n",
    "print('The mean value is: ',np.mean(a))"
   ]
  },
  {
   "cell_type": "code",
   "execution_count": 40,
   "id": "7b2b2974",
   "metadata": {},
   "outputs": [
    {
     "name": "stdout",
     "output_type": "stream",
     "text": [
      "The dot_product is:  0.674199862463242\n",
      "The angle in radian is:  0.8309155524161559\n",
      "The angle in degree is:  47.607954285227066\n"
     ]
    }
   ],
   "source": [
    "import numpy as np\n",
    "\n",
    "vector1 = [1,-1,3]\n",
    "vector2 = [0,1,2]\n",
    "\n",
    "unit_vector1 = vector1 / np.linalg.norm(vector1)\n",
    "unit_vector2 = vector2 / np.linalg.norm(vector2)\n",
    "\n",
    "dot_product = np.dot(unit_vector1, unit_vector2)\n",
    "\n",
    "angle = np.arccos(dot_product) \n",
    "\n",
    "angle_in_degrees = np.degrees(angle)\n",
    "\n",
    "print('The dot_product is: ',np.dot(unit_vector1, unit_vector2))\n",
    "\n",
    "print('The angle in radian is: ',np.arccos(dot_product))\n",
    "\n",
    "print('The angle in degree is: ',np.degrees(angle))"
   ]
  },
  {
   "cell_type": "code",
   "execution_count": 1,
   "id": "4d3caa24",
   "metadata": {},
   "outputs": [
    {
     "name": "stdout",
     "output_type": "stream",
     "text": [
      "9\n"
     ]
    }
   ],
   "source": [
    "def getMaxNum(a, b, c):\n",
    " \n",
    "    # If b % c = 0 then b is the\n",
    "    # required number\n",
    "    if (b % c == 0):\n",
    "        return b\n",
    " \n",
    "    # Else get the maximum multiple\n",
    "    # of c smaller than b\n",
    "    x = ((b //c) * c)\n",
    "     \n",
    "    if (x >= a and x <= b):\n",
    "        return x\n",
    "    else:\n",
    "        return -1\n",
    " \n",
    "a, b, c = 2, 10, 3\n",
    "print(getMaxNum(a, b, c))"
   ]
  },
  {
   "cell_type": "code",
   "execution_count": 2,
   "id": "78c7843e",
   "metadata": {},
   "outputs": [
    {
     "data": {
      "text/plain": [
       "[1, 2, 3, 5, 8, 13]"
      ]
     },
     "execution_count": 2,
     "metadata": {},
     "output_type": "execute_result"
    }
   ],
   "source": [
    "a = [1, 1, 2, 3, 5, 8, 13, 21, 34, 55, 89]\n",
    "b = [1, 2, 3, 4, 5, 6, 7, 8, 9, 10, 11, 12, 13]\n",
    "[i for i in a and b if i in a and b]"
   ]
  },
  {
   "cell_type": "code",
   "execution_count": 3,
   "id": "72c93322",
   "metadata": {},
   "outputs": [],
   "source": [
    "def rmv(x, a):\n",
    "    return ''.join(char for char in x if char != a)"
   ]
  },
  {
   "cell_type": "code",
   "execution_count": 4,
   "id": "7c490dfa",
   "metadata": {},
   "outputs": [
    {
     "data": {
      "text/plain": [
       "'brcdbr'"
      ]
     },
     "execution_count": 4,
     "metadata": {},
     "output_type": "execute_result"
    }
   ],
   "source": [
    "rmv(\"abracadabra\",\"a\")"
   ]
  },
  {
   "cell_type": "code",
   "execution_count": 1,
   "id": "4d84e78a",
   "metadata": {},
   "outputs": [
    {
     "name": "stdout",
     "output_type": "stream",
     "text": [
      "Enter a random sentence: \n",
      "kabla ya mwaka uishe ninahitaji 1000000\n",
      "Letters 27\n",
      "Digits 7\n"
     ]
    }
   ],
   "source": [
    "print(\"Enter a random sentence: \")\n",
    "sentence = input()\n",
    "\n",
    "letters_digits = {\"Letters\":0, \"Digits\":0}\n",
    "\n",
    "for x in sentence:\n",
    "    if x.isalpha():\n",
    "        letters_digits[\"Letters\"]+=1\n",
    "    elif x.isdigit():\n",
    "        letters_digits[\"Digits\"]+=1\n",
    "    else:\n",
    "        pass\n",
    "\n",
    "print(\"Letters\", letters_digits[\"Letters\"])\n",
    "print(\"Digits\", letters_digits[\"Digits\"])"
   ]
  },
  {
   "cell_type": "code",
   "execution_count": null,
   "id": "67b67caf",
   "metadata": {},
   "outputs": [],
   "source": []
  }
 ],
 "metadata": {
  "kernelspec": {
   "display_name": "Python 3 (ipykernel)",
   "language": "python",
   "name": "python3"
  },
  "language_info": {
   "codemirror_mode": {
    "name": "ipython",
    "version": 3
   },
   "file_extension": ".py",
   "mimetype": "text/x-python",
   "name": "python",
   "nbconvert_exporter": "python",
   "pygments_lexer": "ipython3",
   "version": "3.9.12"
  }
 },
 "nbformat": 4,
 "nbformat_minor": 5
}
