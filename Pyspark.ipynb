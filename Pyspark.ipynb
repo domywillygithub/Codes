{
  "nbformat": 4,
  "nbformat_minor": 0,
  "metadata": {
    "colab": {
      "provenance": [],
      "authorship_tag": "ABX9TyPbFeDcuZ+/H9OwhlA36zHX",
      "include_colab_link": true
    },
    "kernelspec": {
      "name": "python3",
      "display_name": "Python 3"
    },
    "language_info": {
      "name": "python"
    }
  },
  "cells": [
    {
      "cell_type": "markdown",
      "metadata": {
        "id": "view-in-github",
        "colab_type": "text"
      },
      "source": [
        "<a href=\"https://colab.research.google.com/github/domywillygithub/Codes/blob/main/Pyspark.ipynb\" target=\"_parent\"><img src=\"https://colab.research.google.com/assets/colab-badge.svg\" alt=\"Open In Colab\"/></a>"
      ]
    },
    {
      "cell_type": "code",
      "execution_count": 2,
      "metadata": {
        "colab": {
          "base_uri": "https://localhost:8080/"
        },
        "id": "2Pgvt0fM56TL",
        "outputId": "29f1a7e5-f006-4ebc-a1c4-be45646a1688"
      },
      "outputs": [
        {
          "output_type": "stream",
          "name": "stdout",
          "text": [
            "Looking in indexes: https://pypi.org/simple, https://us-python.pkg.dev/colab-wheels/public/simple/\n",
            "Collecting pyspark\n",
            "  Downloading pyspark-3.4.0.tar.gz (310.8 MB)\n",
            "\u001b[2K     \u001b[90m━━━━━━━━━━━━━━━━━━━━━━━━━━━━━━━━━━━━━━━\u001b[0m \u001b[32m310.8/310.8 MB\u001b[0m \u001b[31m4.4 MB/s\u001b[0m eta \u001b[36m0:00:00\u001b[0m\n",
            "\u001b[?25h  Preparing metadata (setup.py) ... \u001b[?25l\u001b[?25hdone\n",
            "Requirement already satisfied: py4j==0.10.9.7 in /usr/local/lib/python3.10/dist-packages (from pyspark) (0.10.9.7)\n",
            "Building wheels for collected packages: pyspark\n",
            "  Building wheel for pyspark (setup.py) ... \u001b[?25l\u001b[?25hdone\n",
            "  Created wheel for pyspark: filename=pyspark-3.4.0-py2.py3-none-any.whl size=311317130 sha256=6e2c2a45178ff93a41f93708601cf2386629eacc4687abaa6fa8b96f624f99c3\n",
            "  Stored in directory: /root/.cache/pip/wheels/7b/1b/4b/3363a1d04368e7ff0d408e57ff57966fcdf00583774e761327\n",
            "Successfully built pyspark\n",
            "Installing collected packages: pyspark\n",
            "Successfully installed pyspark-3.4.0\n"
          ]
        }
      ],
      "source": [
        "! pip install pyspark"
      ]
    },
    {
      "cell_type": "code",
      "source": [
        "import pyspark"
      ],
      "metadata": {
        "id": "GbUN2I6I6VKc"
      },
      "execution_count": 3,
      "outputs": []
    },
    {
      "cell_type": "code",
      "source": [
        "import pandas as pd\n",
        "pd.read_csv('/content/airline_passengers.csv')"
      ],
      "metadata": {
        "colab": {
          "base_uri": "https://localhost:8080/",
          "height": 424
        },
        "id": "oa8nh2VH6Z_a",
        "outputId": "2efba1de-f54e-4a10-d57d-a6f26d94e861"
      },
      "execution_count": 3,
      "outputs": [
        {
          "output_type": "execute_result",
          "data": {
            "text/plain": [
              "       Month  Thousands of Passengers\n",
              "0    1949-01                      112\n",
              "1    1949-02                      118\n",
              "2    1949-03                      132\n",
              "3    1949-04                      129\n",
              "4    1949-05                      121\n",
              "..       ...                      ...\n",
              "139  1960-08                      606\n",
              "140  1960-09                      508\n",
              "141  1960-10                      461\n",
              "142  1960-11                      390\n",
              "143  1960-12                      432\n",
              "\n",
              "[144 rows x 2 columns]"
            ],
            "text/html": [
              "\n",
              "  <div id=\"df-be117a63-5323-49c0-9778-a204235791d2\">\n",
              "    <div class=\"colab-df-container\">\n",
              "      <div>\n",
              "<style scoped>\n",
              "    .dataframe tbody tr th:only-of-type {\n",
              "        vertical-align: middle;\n",
              "    }\n",
              "\n",
              "    .dataframe tbody tr th {\n",
              "        vertical-align: top;\n",
              "    }\n",
              "\n",
              "    .dataframe thead th {\n",
              "        text-align: right;\n",
              "    }\n",
              "</style>\n",
              "<table border=\"1\" class=\"dataframe\">\n",
              "  <thead>\n",
              "    <tr style=\"text-align: right;\">\n",
              "      <th></th>\n",
              "      <th>Month</th>\n",
              "      <th>Thousands of Passengers</th>\n",
              "    </tr>\n",
              "  </thead>\n",
              "  <tbody>\n",
              "    <tr>\n",
              "      <th>0</th>\n",
              "      <td>1949-01</td>\n",
              "      <td>112</td>\n",
              "    </tr>\n",
              "    <tr>\n",
              "      <th>1</th>\n",
              "      <td>1949-02</td>\n",
              "      <td>118</td>\n",
              "    </tr>\n",
              "    <tr>\n",
              "      <th>2</th>\n",
              "      <td>1949-03</td>\n",
              "      <td>132</td>\n",
              "    </tr>\n",
              "    <tr>\n",
              "      <th>3</th>\n",
              "      <td>1949-04</td>\n",
              "      <td>129</td>\n",
              "    </tr>\n",
              "    <tr>\n",
              "      <th>4</th>\n",
              "      <td>1949-05</td>\n",
              "      <td>121</td>\n",
              "    </tr>\n",
              "    <tr>\n",
              "      <th>...</th>\n",
              "      <td>...</td>\n",
              "      <td>...</td>\n",
              "    </tr>\n",
              "    <tr>\n",
              "      <th>139</th>\n",
              "      <td>1960-08</td>\n",
              "      <td>606</td>\n",
              "    </tr>\n",
              "    <tr>\n",
              "      <th>140</th>\n",
              "      <td>1960-09</td>\n",
              "      <td>508</td>\n",
              "    </tr>\n",
              "    <tr>\n",
              "      <th>141</th>\n",
              "      <td>1960-10</td>\n",
              "      <td>461</td>\n",
              "    </tr>\n",
              "    <tr>\n",
              "      <th>142</th>\n",
              "      <td>1960-11</td>\n",
              "      <td>390</td>\n",
              "    </tr>\n",
              "    <tr>\n",
              "      <th>143</th>\n",
              "      <td>1960-12</td>\n",
              "      <td>432</td>\n",
              "    </tr>\n",
              "  </tbody>\n",
              "</table>\n",
              "<p>144 rows × 2 columns</p>\n",
              "</div>\n",
              "      <button class=\"colab-df-convert\" onclick=\"convertToInteractive('df-be117a63-5323-49c0-9778-a204235791d2')\"\n",
              "              title=\"Convert this dataframe to an interactive table.\"\n",
              "              style=\"display:none;\">\n",
              "        \n",
              "  <svg xmlns=\"http://www.w3.org/2000/svg\" height=\"24px\"viewBox=\"0 0 24 24\"\n",
              "       width=\"24px\">\n",
              "    <path d=\"M0 0h24v24H0V0z\" fill=\"none\"/>\n",
              "    <path d=\"M18.56 5.44l.94 2.06.94-2.06 2.06-.94-2.06-.94-.94-2.06-.94 2.06-2.06.94zm-11 1L8.5 8.5l.94-2.06 2.06-.94-2.06-.94L8.5 2.5l-.94 2.06-2.06.94zm10 10l.94 2.06.94-2.06 2.06-.94-2.06-.94-.94-2.06-.94 2.06-2.06.94z\"/><path d=\"M17.41 7.96l-1.37-1.37c-.4-.4-.92-.59-1.43-.59-.52 0-1.04.2-1.43.59L10.3 9.45l-7.72 7.72c-.78.78-.78 2.05 0 2.83L4 21.41c.39.39.9.59 1.41.59.51 0 1.02-.2 1.41-.59l7.78-7.78 2.81-2.81c.8-.78.8-2.07 0-2.86zM5.41 20L4 18.59l7.72-7.72 1.47 1.35L5.41 20z\"/>\n",
              "  </svg>\n",
              "      </button>\n",
              "      \n",
              "  <style>\n",
              "    .colab-df-container {\n",
              "      display:flex;\n",
              "      flex-wrap:wrap;\n",
              "      gap: 12px;\n",
              "    }\n",
              "\n",
              "    .colab-df-convert {\n",
              "      background-color: #E8F0FE;\n",
              "      border: none;\n",
              "      border-radius: 50%;\n",
              "      cursor: pointer;\n",
              "      display: none;\n",
              "      fill: #1967D2;\n",
              "      height: 32px;\n",
              "      padding: 0 0 0 0;\n",
              "      width: 32px;\n",
              "    }\n",
              "\n",
              "    .colab-df-convert:hover {\n",
              "      background-color: #E2EBFA;\n",
              "      box-shadow: 0px 1px 2px rgba(60, 64, 67, 0.3), 0px 1px 3px 1px rgba(60, 64, 67, 0.15);\n",
              "      fill: #174EA6;\n",
              "    }\n",
              "\n",
              "    [theme=dark] .colab-df-convert {\n",
              "      background-color: #3B4455;\n",
              "      fill: #D2E3FC;\n",
              "    }\n",
              "\n",
              "    [theme=dark] .colab-df-convert:hover {\n",
              "      background-color: #434B5C;\n",
              "      box-shadow: 0px 1px 3px 1px rgba(0, 0, 0, 0.15);\n",
              "      filter: drop-shadow(0px 1px 2px rgba(0, 0, 0, 0.3));\n",
              "      fill: #FFFFFF;\n",
              "    }\n",
              "  </style>\n",
              "\n",
              "      <script>\n",
              "        const buttonEl =\n",
              "          document.querySelector('#df-be117a63-5323-49c0-9778-a204235791d2 button.colab-df-convert');\n",
              "        buttonEl.style.display =\n",
              "          google.colab.kernel.accessAllowed ? 'block' : 'none';\n",
              "\n",
              "        async function convertToInteractive(key) {\n",
              "          const element = document.querySelector('#df-be117a63-5323-49c0-9778-a204235791d2');\n",
              "          const dataTable =\n",
              "            await google.colab.kernel.invokeFunction('convertToInteractive',\n",
              "                                                     [key], {});\n",
              "          if (!dataTable) return;\n",
              "\n",
              "          const docLinkHtml = 'Like what you see? Visit the ' +\n",
              "            '<a target=\"_blank\" href=https://colab.research.google.com/notebooks/data_table.ipynb>data table notebook</a>'\n",
              "            + ' to learn more about interactive tables.';\n",
              "          element.innerHTML = '';\n",
              "          dataTable['output_type'] = 'display_data';\n",
              "          await google.colab.output.renderOutput(dataTable, element);\n",
              "          const docLink = document.createElement('div');\n",
              "          docLink.innerHTML = docLinkHtml;\n",
              "          element.appendChild(docLink);\n",
              "        }\n",
              "      </script>\n",
              "    </div>\n",
              "  </div>\n",
              "  "
            ]
          },
          "metadata": {},
          "execution_count": 3
        }
      ]
    },
    {
      "cell_type": "code",
      "source": [
        "from pyspark.sql import SparkSession"
      ],
      "metadata": {
        "id": "Lz-KaBEp7NrM"
      },
      "execution_count": 4,
      "outputs": []
    },
    {
      "cell_type": "code",
      "source": [
        "spark=SparkSession.builder.appName('Practise').getOrCreate()"
      ],
      "metadata": {
        "id": "nncbTIGt7X_g"
      },
      "execution_count": 5,
      "outputs": []
    },
    {
      "cell_type": "code",
      "source": [
        " spark"
      ],
      "metadata": {
        "colab": {
          "base_uri": "https://localhost:8080/",
          "height": 219
        },
        "id": "APu3EQgq7q2g",
        "outputId": "df29544d-651a-49a1-e45c-a1ffcb9c478a"
      },
      "execution_count": 6,
      "outputs": [
        {
          "output_type": "execute_result",
          "data": {
            "text/plain": [
              "<pyspark.sql.session.SparkSession at 0x7feee0a139d0>"
            ],
            "text/html": [
              "\n",
              "            <div>\n",
              "                <p><b>SparkSession - in-memory</b></p>\n",
              "                \n",
              "        <div>\n",
              "            <p><b>SparkContext</b></p>\n",
              "\n",
              "            <p><a href=\"http://ea4ce22bf495:4040\">Spark UI</a></p>\n",
              "\n",
              "            <dl>\n",
              "              <dt>Version</dt>\n",
              "                <dd><code>v3.4.0</code></dd>\n",
              "              <dt>Master</dt>\n",
              "                <dd><code>local[*]</code></dd>\n",
              "              <dt>AppName</dt>\n",
              "                <dd><code>Practise</code></dd>\n",
              "            </dl>\n",
              "        </div>\n",
              "        \n",
              "            </div>\n",
              "        "
            ]
          },
          "metadata": {},
          "execution_count": 6
        }
      ]
    },
    {
      "cell_type": "code",
      "source": [
        "df_pyspark=spark.read.csv('/content/airline_passengers.csv')"
      ],
      "metadata": {
        "id": "I7at59RJ8CqA"
      },
      "execution_count": 8,
      "outputs": []
    },
    {
      "cell_type": "code",
      "source": [
        "df_pyspark"
      ],
      "metadata": {
        "colab": {
          "base_uri": "https://localhost:8080/"
        },
        "id": "zOYjJV8r8W0X",
        "outputId": "343ff6a2-9836-4051-e3c3-153840a3f2b0"
      },
      "execution_count": 9,
      "outputs": [
        {
          "output_type": "execute_result",
          "data": {
            "text/plain": [
              "DataFrame[_c0: string, _c1: string]"
            ]
          },
          "metadata": {},
          "execution_count": 9
        }
      ]
    },
    {
      "cell_type": "code",
      "source": [
        "df_pyspark.show()"
      ],
      "metadata": {
        "colab": {
          "base_uri": "https://localhost:8080/"
        },
        "id": "gnigaai58k6U",
        "outputId": "f0175630-9347-47aa-8773-93785d96838d"
      },
      "execution_count": 10,
      "outputs": [
        {
          "output_type": "stream",
          "name": "stdout",
          "text": [
            "+-------+--------------------+\n",
            "|    _c0|                 _c1|\n",
            "+-------+--------------------+\n",
            "|  Month|Thousands of Pass...|\n",
            "|1949-01|                 112|\n",
            "|1949-02|                 118|\n",
            "|1949-03|                 132|\n",
            "|1949-04|                 129|\n",
            "|1949-05|                 121|\n",
            "|1949-06|                 135|\n",
            "|1949-07|                 148|\n",
            "|1949-08|                 148|\n",
            "|1949-09|                 136|\n",
            "|1949-10|                 119|\n",
            "|1949-11|                 104|\n",
            "|1949-12|                 118|\n",
            "|1950-01|                 115|\n",
            "|1950-02|                 126|\n",
            "|1950-03|                 141|\n",
            "|1950-04|                 135|\n",
            "|1950-05|                 125|\n",
            "|1950-06|                 149|\n",
            "|1950-07|                 170|\n",
            "+-------+--------------------+\n",
            "only showing top 20 rows\n",
            "\n"
          ]
        }
      ]
    },
    {
      "cell_type": "code",
      "source": [
        "df_pyspark=spark.read.option('header','true').csv('/content/airline_passengers.csv',inferSchema=True)"
      ],
      "metadata": {
        "id": "QEQj9f6Y8qoY"
      },
      "execution_count": 19,
      "outputs": []
    },
    {
      "cell_type": "code",
      "source": [
        "df_pyspark.show()"
      ],
      "metadata": {
        "colab": {
          "base_uri": "https://localhost:8080/"
        },
        "id": "N26nKLgs8-A2",
        "outputId": "2032d7e4-8d7e-45ce-ee59-d613cd4b5aaa"
      },
      "execution_count": 20,
      "outputs": [
        {
          "output_type": "stream",
          "name": "stdout",
          "text": [
            "+-------------------+-----------------------+\n",
            "|              Month|Thousands of Passengers|\n",
            "+-------------------+-----------------------+\n",
            "|1949-01-01 00:00:00|                    112|\n",
            "|1949-02-01 00:00:00|                    118|\n",
            "|1949-03-01 00:00:00|                    132|\n",
            "|1949-04-01 00:00:00|                    129|\n",
            "|1949-05-01 00:00:00|                    121|\n",
            "|1949-06-01 00:00:00|                    135|\n",
            "|1949-07-01 00:00:00|                    148|\n",
            "|1949-08-01 00:00:00|                    148|\n",
            "|1949-09-01 00:00:00|                    136|\n",
            "|1949-10-01 00:00:00|                    119|\n",
            "|1949-11-01 00:00:00|                    104|\n",
            "|1949-12-01 00:00:00|                    118|\n",
            "|1950-01-01 00:00:00|                    115|\n",
            "|1950-02-01 00:00:00|                    126|\n",
            "|1950-03-01 00:00:00|                    141|\n",
            "|1950-04-01 00:00:00|                    135|\n",
            "|1950-05-01 00:00:00|                    125|\n",
            "|1950-06-01 00:00:00|                    149|\n",
            "|1950-07-01 00:00:00|                    170|\n",
            "|1950-08-01 00:00:00|                    170|\n",
            "+-------------------+-----------------------+\n",
            "only showing top 20 rows\n",
            "\n"
          ]
        }
      ]
    },
    {
      "cell_type": "code",
      "source": [
        "type(df_pyspark)"
      ],
      "metadata": {
        "colab": {
          "base_uri": "https://localhost:8080/"
        },
        "id": "BCHtTcjL9PB3",
        "outputId": "a0aa0dae-0b1c-44c3-b224-dce0ea9c4b72"
      },
      "execution_count": 21,
      "outputs": [
        {
          "output_type": "execute_result",
          "data": {
            "text/plain": [
              "pyspark.sql.dataframe.DataFrame"
            ]
          },
          "metadata": {},
          "execution_count": 21
        }
      ]
    },
    {
      "cell_type": "code",
      "source": [
        "df_pyspark.head(5)"
      ],
      "metadata": {
        "colab": {
          "base_uri": "https://localhost:8080/"
        },
        "id": "QB-gFlBR9VxK",
        "outputId": "3d4e799d-b8a6-4b71-f3d0-c660a23e4d21"
      },
      "execution_count": 22,
      "outputs": [
        {
          "output_type": "execute_result",
          "data": {
            "text/plain": [
              "[Row(Month=datetime.datetime(1949, 1, 1, 0, 0), Thousands of Passengers=112),\n",
              " Row(Month=datetime.datetime(1949, 2, 1, 0, 0), Thousands of Passengers=118),\n",
              " Row(Month=datetime.datetime(1949, 3, 1, 0, 0), Thousands of Passengers=132),\n",
              " Row(Month=datetime.datetime(1949, 4, 1, 0, 0), Thousands of Passengers=129),\n",
              " Row(Month=datetime.datetime(1949, 5, 1, 0, 0), Thousands of Passengers=121)]"
            ]
          },
          "metadata": {},
          "execution_count": 22
        }
      ]
    },
    {
      "cell_type": "code",
      "source": [
        "df_pyspark.printSchema()"
      ],
      "metadata": {
        "colab": {
          "base_uri": "https://localhost:8080/"
        },
        "id": "akfcIVS39hAw",
        "outputId": "fdcd140f-32a8-4dbd-92f5-677f95e0f515"
      },
      "execution_count": 23,
      "outputs": [
        {
          "output_type": "stream",
          "name": "stdout",
          "text": [
            "root\n",
            " |-- Month: timestamp (nullable = true)\n",
            " |-- Thousands of Passengers: integer (nullable = true)\n",
            "\n"
          ]
        }
      ]
    },
    {
      "cell_type": "code",
      "source": [
        "df_pyspark.columns"
      ],
      "metadata": {
        "colab": {
          "base_uri": "https://localhost:8080/"
        },
        "id": "v4rNOas19shi",
        "outputId": "da7bd3ae-f80c-4aee-e43a-c92915412d28"
      },
      "execution_count": 25,
      "outputs": [
        {
          "output_type": "execute_result",
          "data": {
            "text/plain": [
              "['Month', 'Thousands of Passengers']"
            ]
          },
          "metadata": {},
          "execution_count": 25
        }
      ]
    },
    {
      "cell_type": "code",
      "source": [
        "df_pyspark.select('Month').show()"
      ],
      "metadata": {
        "colab": {
          "base_uri": "https://localhost:8080/"
        },
        "id": "0e3YRifD_RkG",
        "outputId": "021e0886-b40f-462c-cb51-890356a32984"
      },
      "execution_count": 27,
      "outputs": [
        {
          "output_type": "stream",
          "name": "stdout",
          "text": [
            "+-------------------+\n",
            "|              Month|\n",
            "+-------------------+\n",
            "|1949-01-01 00:00:00|\n",
            "|1949-02-01 00:00:00|\n",
            "|1949-03-01 00:00:00|\n",
            "|1949-04-01 00:00:00|\n",
            "|1949-05-01 00:00:00|\n",
            "|1949-06-01 00:00:00|\n",
            "|1949-07-01 00:00:00|\n",
            "|1949-08-01 00:00:00|\n",
            "|1949-09-01 00:00:00|\n",
            "|1949-10-01 00:00:00|\n",
            "|1949-11-01 00:00:00|\n",
            "|1949-12-01 00:00:00|\n",
            "|1950-01-01 00:00:00|\n",
            "|1950-02-01 00:00:00|\n",
            "|1950-03-01 00:00:00|\n",
            "|1950-04-01 00:00:00|\n",
            "|1950-05-01 00:00:00|\n",
            "|1950-06-01 00:00:00|\n",
            "|1950-07-01 00:00:00|\n",
            "|1950-08-01 00:00:00|\n",
            "+-------------------+\n",
            "only showing top 20 rows\n",
            "\n"
          ]
        }
      ]
    },
    {
      "cell_type": "code",
      "source": [
        "df_pyspark.select(['Month', 'Thousands of Passengers']).show()"
      ],
      "metadata": {
        "colab": {
          "base_uri": "https://localhost:8080/"
        },
        "id": "eLzVsEoK_j3N",
        "outputId": "11a95055-c9a8-4693-d788-c9596c595019"
      },
      "execution_count": 43,
      "outputs": [
        {
          "output_type": "stream",
          "name": "stdout",
          "text": [
            "+-------------------+-----------------------+\n",
            "|              Month|Thousands of Passengers|\n",
            "+-------------------+-----------------------+\n",
            "|1949-01-01 00:00:00|                    112|\n",
            "|1949-02-01 00:00:00|                    118|\n",
            "|1949-03-01 00:00:00|                    132|\n",
            "|1949-04-01 00:00:00|                    129|\n",
            "|1949-05-01 00:00:00|                    121|\n",
            "|1949-06-01 00:00:00|                    135|\n",
            "|1949-07-01 00:00:00|                    148|\n",
            "|1949-08-01 00:00:00|                    148|\n",
            "|1949-09-01 00:00:00|                    136|\n",
            "|1949-10-01 00:00:00|                    119|\n",
            "|1949-11-01 00:00:00|                    104|\n",
            "|1949-12-01 00:00:00|                    118|\n",
            "|1950-01-01 00:00:00|                    115|\n",
            "|1950-02-01 00:00:00|                    126|\n",
            "|1950-03-01 00:00:00|                    141|\n",
            "|1950-04-01 00:00:00|                    135|\n",
            "|1950-05-01 00:00:00|                    125|\n",
            "|1950-06-01 00:00:00|                    149|\n",
            "|1950-07-01 00:00:00|                    170|\n",
            "|1950-08-01 00:00:00|                    170|\n",
            "+-------------------+-----------------------+\n",
            "only showing top 20 rows\n",
            "\n"
          ]
        }
      ]
    },
    {
      "cell_type": "code",
      "source": [
        "df_pyspark.dtypes"
      ],
      "metadata": {
        "colab": {
          "base_uri": "https://localhost:8080/"
        },
        "id": "jNPP0-_w_6N1",
        "outputId": "885c7c48-7be9-4f35-97d6-2407f392a0b8"
      },
      "execution_count": 44,
      "outputs": [
        {
          "output_type": "execute_result",
          "data": {
            "text/plain": [
              "[('Month', 'timestamp'), ('Thousands of Passengers', 'int')]"
            ]
          },
          "metadata": {},
          "execution_count": 44
        }
      ]
    },
    {
      "cell_type": "code",
      "source": [
        "df_pyspark.describe().show()"
      ],
      "metadata": {
        "colab": {
          "base_uri": "https://localhost:8080/"
        },
        "id": "aLa0mSUbA09s",
        "outputId": "42e3af08-a613-4fb7-f9fe-92ddf915f631"
      },
      "execution_count": 46,
      "outputs": [
        {
          "output_type": "stream",
          "name": "stdout",
          "text": [
            "+-------+-----------------------+\n",
            "|summary|Thousands of Passengers|\n",
            "+-------+-----------------------+\n",
            "|  count|                    144|\n",
            "|   mean|      280.2986111111111|\n",
            "| stddev|     119.96631694294322|\n",
            "|    min|                    104|\n",
            "|    max|                    622|\n",
            "+-------+-----------------------+\n",
            "\n"
          ]
        }
      ]
    },
    {
      "cell_type": "code",
      "source": [
        "# adding columns in dataframe\n",
        "df_pyspark.withColumn('New Number of Passenger', df_pyspark['Thousands of Passengers']+10).show()"
      ],
      "metadata": {
        "colab": {
          "base_uri": "https://localhost:8080/"
        },
        "id": "hPHRVzWNA7s5",
        "outputId": "f29b2a4b-19d8-4a7b-a89d-6ecab031f5ce"
      },
      "execution_count": 51,
      "outputs": [
        {
          "output_type": "stream",
          "name": "stdout",
          "text": [
            "+-------------------+-----------------------+-----------------------+\n",
            "|              Month|Thousands of Passengers|New Number of Passenger|\n",
            "+-------------------+-----------------------+-----------------------+\n",
            "|1949-01-01 00:00:00|                    112|                    122|\n",
            "|1949-02-01 00:00:00|                    118|                    128|\n",
            "|1949-03-01 00:00:00|                    132|                    142|\n",
            "|1949-04-01 00:00:00|                    129|                    139|\n",
            "|1949-05-01 00:00:00|                    121|                    131|\n",
            "|1949-06-01 00:00:00|                    135|                    145|\n",
            "|1949-07-01 00:00:00|                    148|                    158|\n",
            "|1949-08-01 00:00:00|                    148|                    158|\n",
            "|1949-09-01 00:00:00|                    136|                    146|\n",
            "|1949-10-01 00:00:00|                    119|                    129|\n",
            "|1949-11-01 00:00:00|                    104|                    114|\n",
            "|1949-12-01 00:00:00|                    118|                    128|\n",
            "|1950-01-01 00:00:00|                    115|                    125|\n",
            "|1950-02-01 00:00:00|                    126|                    136|\n",
            "|1950-03-01 00:00:00|                    141|                    151|\n",
            "|1950-04-01 00:00:00|                    135|                    145|\n",
            "|1950-05-01 00:00:00|                    125|                    135|\n",
            "|1950-06-01 00:00:00|                    149|                    159|\n",
            "|1950-07-01 00:00:00|                    170|                    180|\n",
            "|1950-08-01 00:00:00|                    170|                    180|\n",
            "+-------------------+-----------------------+-----------------------+\n",
            "only showing top 20 rows\n",
            "\n"
          ]
        }
      ]
    },
    {
      "cell_type": "code",
      "source": [
        "df_pyspark.drop('Month').show()"
      ],
      "metadata": {
        "colab": {
          "base_uri": "https://localhost:8080/"
        },
        "id": "lebQaUJ2BMdi",
        "outputId": "3efa2d0d-3c34-405c-cef2-e9657df981b1"
      },
      "execution_count": 53,
      "outputs": [
        {
          "output_type": "stream",
          "name": "stdout",
          "text": [
            "+-----------------------+\n",
            "|Thousands of Passengers|\n",
            "+-----------------------+\n",
            "|                    112|\n",
            "|                    118|\n",
            "|                    132|\n",
            "|                    129|\n",
            "|                    121|\n",
            "|                    135|\n",
            "|                    148|\n",
            "|                    148|\n",
            "|                    136|\n",
            "|                    119|\n",
            "|                    104|\n",
            "|                    118|\n",
            "|                    115|\n",
            "|                    126|\n",
            "|                    141|\n",
            "|                    135|\n",
            "|                    125|\n",
            "|                    149|\n",
            "|                    170|\n",
            "|                    170|\n",
            "+-----------------------+\n",
            "only showing top 20 rows\n",
            "\n"
          ]
        }
      ]
    },
    {
      "cell_type": "code",
      "source": [
        "# Renaming the columns\n",
        "df_pyspark.withColumnRenamed('Month', 'Days').show()"
      ],
      "metadata": {
        "colab": {
          "base_uri": "https://localhost:8080/"
        },
        "id": "JfIzmKNHBtuj",
        "outputId": "1b9bb2ca-39ab-4464-cb1b-8b74d8c094bf"
      },
      "execution_count": 54,
      "outputs": [
        {
          "output_type": "stream",
          "name": "stdout",
          "text": [
            "+-------------------+-----------------------+\n",
            "|               Days|Thousands of Passengers|\n",
            "+-------------------+-----------------------+\n",
            "|1949-01-01 00:00:00|                    112|\n",
            "|1949-02-01 00:00:00|                    118|\n",
            "|1949-03-01 00:00:00|                    132|\n",
            "|1949-04-01 00:00:00|                    129|\n",
            "|1949-05-01 00:00:00|                    121|\n",
            "|1949-06-01 00:00:00|                    135|\n",
            "|1949-07-01 00:00:00|                    148|\n",
            "|1949-08-01 00:00:00|                    148|\n",
            "|1949-09-01 00:00:00|                    136|\n",
            "|1949-10-01 00:00:00|                    119|\n",
            "|1949-11-01 00:00:00|                    104|\n",
            "|1949-12-01 00:00:00|                    118|\n",
            "|1950-01-01 00:00:00|                    115|\n",
            "|1950-02-01 00:00:00|                    126|\n",
            "|1950-03-01 00:00:00|                    141|\n",
            "|1950-04-01 00:00:00|                    135|\n",
            "|1950-05-01 00:00:00|                    125|\n",
            "|1950-06-01 00:00:00|                    149|\n",
            "|1950-07-01 00:00:00|                    170|\n",
            "|1950-08-01 00:00:00|                    170|\n",
            "+-------------------+-----------------------+\n",
            "only showing top 20 rows\n",
            "\n"
          ]
        }
      ]
    },
    {
      "cell_type": "code",
      "source": [
        "df_pyspark.na.drop().show()"
      ],
      "metadata": {
        "colab": {
          "base_uri": "https://localhost:8080/"
        },
        "id": "a8wk_dYcCzs2",
        "outputId": "cc95c374-d7f7-4f2a-aed8-ec69f2e0becd"
      },
      "execution_count": 55,
      "outputs": [
        {
          "output_type": "stream",
          "name": "stdout",
          "text": [
            "+-------------------+-----------------------+\n",
            "|              Month|Thousands of Passengers|\n",
            "+-------------------+-----------------------+\n",
            "|1949-01-01 00:00:00|                    112|\n",
            "|1949-02-01 00:00:00|                    118|\n",
            "|1949-03-01 00:00:00|                    132|\n",
            "|1949-04-01 00:00:00|                    129|\n",
            "|1949-05-01 00:00:00|                    121|\n",
            "|1949-06-01 00:00:00|                    135|\n",
            "|1949-07-01 00:00:00|                    148|\n",
            "|1949-08-01 00:00:00|                    148|\n",
            "|1949-09-01 00:00:00|                    136|\n",
            "|1949-10-01 00:00:00|                    119|\n",
            "|1949-11-01 00:00:00|                    104|\n",
            "|1949-12-01 00:00:00|                    118|\n",
            "|1950-01-01 00:00:00|                    115|\n",
            "|1950-02-01 00:00:00|                    126|\n",
            "|1950-03-01 00:00:00|                    141|\n",
            "|1950-04-01 00:00:00|                    135|\n",
            "|1950-05-01 00:00:00|                    125|\n",
            "|1950-06-01 00:00:00|                    149|\n",
            "|1950-07-01 00:00:00|                    170|\n",
            "|1950-08-01 00:00:00|                    170|\n",
            "+-------------------+-----------------------+\n",
            "only showing top 20 rows\n",
            "\n"
          ]
        }
      ]
    },
    {
      "cell_type": "code",
      "source": [
        "#df_pyspark.na.drop(how=all,any) any is by default but all is when all the column is null in that particular row\n",
        "#tresh only checks for what the minimum number of nulls you want to drop\n",
        "#subset based on particular column "
      ],
      "metadata": {
        "id": "j_RWhUf4DolI"
      },
      "execution_count": 56,
      "outputs": []
    },
    {
      "cell_type": "code",
      "source": [
        "df_pyspark.na.fill('Missing values').show()"
      ],
      "metadata": {
        "colab": {
          "base_uri": "https://localhost:8080/"
        },
        "id": "Ri1fKexyEaSw",
        "outputId": "f715e075-cdea-46c0-ccfe-64b7e5e470b5"
      },
      "execution_count": 57,
      "outputs": [
        {
          "output_type": "stream",
          "name": "stdout",
          "text": [
            "+-------------------+-----------------------+\n",
            "|              Month|Thousands of Passengers|\n",
            "+-------------------+-----------------------+\n",
            "|1949-01-01 00:00:00|                    112|\n",
            "|1949-02-01 00:00:00|                    118|\n",
            "|1949-03-01 00:00:00|                    132|\n",
            "|1949-04-01 00:00:00|                    129|\n",
            "|1949-05-01 00:00:00|                    121|\n",
            "|1949-06-01 00:00:00|                    135|\n",
            "|1949-07-01 00:00:00|                    148|\n",
            "|1949-08-01 00:00:00|                    148|\n",
            "|1949-09-01 00:00:00|                    136|\n",
            "|1949-10-01 00:00:00|                    119|\n",
            "|1949-11-01 00:00:00|                    104|\n",
            "|1949-12-01 00:00:00|                    118|\n",
            "|1950-01-01 00:00:00|                    115|\n",
            "|1950-02-01 00:00:00|                    126|\n",
            "|1950-03-01 00:00:00|                    141|\n",
            "|1950-04-01 00:00:00|                    135|\n",
            "|1950-05-01 00:00:00|                    125|\n",
            "|1950-06-01 00:00:00|                    149|\n",
            "|1950-07-01 00:00:00|                    170|\n",
            "|1950-08-01 00:00:00|                    170|\n",
            "+-------------------+-----------------------+\n",
            "only showing top 20 rows\n",
            "\n"
          ]
        }
      ]
    },
    {
      "cell_type": "code",
      "source": [
        "#use of imputer\n",
        "\n",
        "from pyspark.ml.feature import Imputer\n",
        "\n",
        "Imputer = Imputer(\n",
        "    inputCols=[ 'Thousands of Passengers'],\n",
        "    outputCols=['{}_imputed'.format(c) for c in [ 'Thousands of Passengers']]\n",
        ").setStrategy('mean')"
      ],
      "metadata": {
        "id": "TGqSlY28Fo2f"
      },
      "execution_count": 60,
      "outputs": []
    },
    {
      "cell_type": "code",
      "source": [
        "Imputer.fit(df_pyspark).transform(df_pyspark).show()"
      ],
      "metadata": {
        "colab": {
          "base_uri": "https://localhost:8080/"
        },
        "id": "-bDmwGJdHX-2",
        "outputId": "47a77be1-f554-43c8-b7bb-32cb0e45d748"
      },
      "execution_count": 61,
      "outputs": [
        {
          "output_type": "stream",
          "name": "stdout",
          "text": [
            "+-------------------+-----------------------+-------------------------------+\n",
            "|              Month|Thousands of Passengers|Thousands of Passengers_imputed|\n",
            "+-------------------+-----------------------+-------------------------------+\n",
            "|1949-01-01 00:00:00|                    112|                            112|\n",
            "|1949-02-01 00:00:00|                    118|                            118|\n",
            "|1949-03-01 00:00:00|                    132|                            132|\n",
            "|1949-04-01 00:00:00|                    129|                            129|\n",
            "|1949-05-01 00:00:00|                    121|                            121|\n",
            "|1949-06-01 00:00:00|                    135|                            135|\n",
            "|1949-07-01 00:00:00|                    148|                            148|\n",
            "|1949-08-01 00:00:00|                    148|                            148|\n",
            "|1949-09-01 00:00:00|                    136|                            136|\n",
            "|1949-10-01 00:00:00|                    119|                            119|\n",
            "|1949-11-01 00:00:00|                    104|                            104|\n",
            "|1949-12-01 00:00:00|                    118|                            118|\n",
            "|1950-01-01 00:00:00|                    115|                            115|\n",
            "|1950-02-01 00:00:00|                    126|                            126|\n",
            "|1950-03-01 00:00:00|                    141|                            141|\n",
            "|1950-04-01 00:00:00|                    135|                            135|\n",
            "|1950-05-01 00:00:00|                    125|                            125|\n",
            "|1950-06-01 00:00:00|                    149|                            149|\n",
            "|1950-07-01 00:00:00|                    170|                            170|\n",
            "|1950-08-01 00:00:00|                    170|                            170|\n",
            "+-------------------+-----------------------+-------------------------------+\n",
            "only showing top 20 rows\n",
            "\n"
          ]
        }
      ]
    },
    {
      "cell_type": "code",
      "source": [
        "#use of filter\n",
        "df_pyspark.filter(\"`Thousands of Passengers` <= 110\").show()"
      ],
      "metadata": {
        "colab": {
          "base_uri": "https://localhost:8080/"
        },
        "id": "_aKM0EUYHlZA",
        "outputId": "1d95ef27-7aa5-4d12-cd63-5eaadbcda17e"
      },
      "execution_count": 69,
      "outputs": [
        {
          "output_type": "stream",
          "name": "stdout",
          "text": [
            "+-------------------+-----------------------+\n",
            "|              Month|Thousands of Passengers|\n",
            "+-------------------+-----------------------+\n",
            "|1949-11-01 00:00:00|                    104|\n",
            "+-------------------+-----------------------+\n",
            "\n"
          ]
        }
      ]
    },
    {
      "cell_type": "code",
      "source": [
        "df_pyspark.filter(\"`Thousands of Passengers` <= 110\").select('Month').show()"
      ],
      "metadata": {
        "colab": {
          "base_uri": "https://localhost:8080/"
        },
        "id": "-7RT9GqBI59g",
        "outputId": "098149a7-72b3-45ee-f63e-af3f3255ff44"
      },
      "execution_count": 70,
      "outputs": [
        {
          "output_type": "stream",
          "name": "stdout",
          "text": [
            "+-------------------+\n",
            "|              Month|\n",
            "+-------------------+\n",
            "|1949-11-01 00:00:00|\n",
            "+-------------------+\n",
            "\n"
          ]
        }
      ]
    },
    {
      "cell_type": "code",
      "source": [
        "df_pyspark.filter(df_pyspark['Thousands of Passengers'] <= 130).show()\n"
      ],
      "metadata": {
        "colab": {
          "base_uri": "https://localhost:8080/"
        },
        "id": "8Y9qjHCEKNZ3",
        "outputId": "7cc6705f-7d3a-43cd-95bc-a55d9ca7d13f"
      },
      "execution_count": 73,
      "outputs": [
        {
          "output_type": "stream",
          "name": "stdout",
          "text": [
            "+-------------------+-----------------------+\n",
            "|              Month|Thousands of Passengers|\n",
            "+-------------------+-----------------------+\n",
            "|1949-01-01 00:00:00|                    112|\n",
            "|1949-02-01 00:00:00|                    118|\n",
            "|1949-04-01 00:00:00|                    129|\n",
            "|1949-05-01 00:00:00|                    121|\n",
            "|1949-10-01 00:00:00|                    119|\n",
            "|1949-11-01 00:00:00|                    104|\n",
            "|1949-12-01 00:00:00|                    118|\n",
            "|1950-01-01 00:00:00|                    115|\n",
            "|1950-02-01 00:00:00|                    126|\n",
            "|1950-05-01 00:00:00|                    125|\n",
            "|1950-11-01 00:00:00|                    114|\n",
            "+-------------------+-----------------------+\n",
            "\n"
          ]
        }
      ]
    },
    {
      "cell_type": "code",
      "source": [
        "df_pyspark.filter((df_pyspark['Thousands of Passengers'] <= 180) &(df_pyspark['Thousands of Passengers'] >= 150 ) ).show()"
      ],
      "metadata": {
        "colab": {
          "base_uri": "https://localhost:8080/"
        },
        "id": "cQMXVprdL4qq",
        "outputId": "94762a27-8055-477c-fa92-61152c6a9575"
      },
      "execution_count": 74,
      "outputs": [
        {
          "output_type": "stream",
          "name": "stdout",
          "text": [
            "+-------------------+-----------------------+\n",
            "|              Month|Thousands of Passengers|\n",
            "+-------------------+-----------------------+\n",
            "|1950-07-01 00:00:00|                    170|\n",
            "|1950-08-01 00:00:00|                    170|\n",
            "|1950-09-01 00:00:00|                    158|\n",
            "|1951-02-01 00:00:00|                    150|\n",
            "|1951-03-01 00:00:00|                    178|\n",
            "|1951-04-01 00:00:00|                    163|\n",
            "|1951-05-01 00:00:00|                    172|\n",
            "|1951-06-01 00:00:00|                    178|\n",
            "|1951-10-01 00:00:00|                    162|\n",
            "|1951-12-01 00:00:00|                    166|\n",
            "|1952-01-01 00:00:00|                    171|\n",
            "|1952-02-01 00:00:00|                    180|\n",
            "|1952-11-01 00:00:00|                    172|\n",
            "|1953-11-01 00:00:00|                    180|\n",
            "+-------------------+-----------------------+\n",
            "\n"
          ]
        }
      ]
    },
    {
      "cell_type": "code",
      "source": [
        "df_pyspark.filter(~(df_pyspark['Thousands of Passengers'] >= 130)).show()\n"
      ],
      "metadata": {
        "colab": {
          "base_uri": "https://localhost:8080/"
        },
        "id": "PkK4cguENIUl",
        "outputId": "da82a4b6-3c2a-4715-fcd6-4de57d4afc48"
      },
      "execution_count": 76,
      "outputs": [
        {
          "output_type": "stream",
          "name": "stdout",
          "text": [
            "+-------------------+-----------------------+\n",
            "|              Month|Thousands of Passengers|\n",
            "+-------------------+-----------------------+\n",
            "|1949-01-01 00:00:00|                    112|\n",
            "|1949-02-01 00:00:00|                    118|\n",
            "|1949-04-01 00:00:00|                    129|\n",
            "|1949-05-01 00:00:00|                    121|\n",
            "|1949-10-01 00:00:00|                    119|\n",
            "|1949-11-01 00:00:00|                    104|\n",
            "|1949-12-01 00:00:00|                    118|\n",
            "|1950-01-01 00:00:00|                    115|\n",
            "|1950-02-01 00:00:00|                    126|\n",
            "|1950-05-01 00:00:00|                    125|\n",
            "|1950-11-01 00:00:00|                    114|\n",
            "+-------------------+-----------------------+\n",
            "\n"
          ]
        }
      ]
    },
    {
      "cell_type": "code",
      "source": [
        "spark=SparkSession.builder.appName('Agg').getOrCreate()"
      ],
      "metadata": {
        "id": "NZhbtWz-NYQ-"
      },
      "execution_count": 77,
      "outputs": []
    },
    {
      "cell_type": "code",
      "source": [
        "spark"
      ],
      "metadata": {
        "colab": {
          "base_uri": "https://localhost:8080/",
          "height": 219
        },
        "id": "MfIRLPBgP18h",
        "outputId": "5d8e8657-f1b8-4787-ff79-1ff0bed8e188"
      },
      "execution_count": 78,
      "outputs": [
        {
          "output_type": "execute_result",
          "data": {
            "text/plain": [
              "<pyspark.sql.session.SparkSession at 0x7feee0a139d0>"
            ],
            "text/html": [
              "\n",
              "            <div>\n",
              "                <p><b>SparkSession - in-memory</b></p>\n",
              "                \n",
              "        <div>\n",
              "            <p><b>SparkContext</b></p>\n",
              "\n",
              "            <p><a href=\"http://ea4ce22bf495:4040\">Spark UI</a></p>\n",
              "\n",
              "            <dl>\n",
              "              <dt>Version</dt>\n",
              "                <dd><code>v3.4.0</code></dd>\n",
              "              <dt>Master</dt>\n",
              "                <dd><code>local[*]</code></dd>\n",
              "              <dt>AppName</dt>\n",
              "                <dd><code>Practise</code></dd>\n",
              "            </dl>\n",
              "        </div>\n",
              "        \n",
              "            </div>\n",
              "        "
            ]
          },
          "metadata": {},
          "execution_count": 78
        }
      ]
    },
    {
      "cell_type": "code",
      "source": [
        "df_pyspark=spark.read.csv('/content/sampledata.csv', inferSchema=True,header=True)"
      ],
      "metadata": {
        "id": "kGotpAPbP4O7"
      },
      "execution_count": 82,
      "outputs": []
    },
    {
      "cell_type": "code",
      "source": [
        "df_pyspark.printSchema()"
      ],
      "metadata": {
        "colab": {
          "base_uri": "https://localhost:8080/"
        },
        "id": "nbAlaNQLQPKv",
        "outputId": "aa08f840-4282-4f94-c477-86e8550e399f"
      },
      "execution_count": 83,
      "outputs": [
        {
          "output_type": "stream",
          "name": "stdout",
          "text": [
            "root\n",
            " |-- OrderDate: string (nullable = true)\n",
            " |-- Region: string (nullable = true)\n",
            " |-- Distributor Name: string (nullable = true)\n",
            " |-- Item: string (nullable = true)\n",
            " |-- Quantity: integer (nullable = true)\n",
            " |-- Price per unit: double (nullable = true)\n",
            " |-- Sales: double (nullable = true)\n",
            "\n"
          ]
        }
      ]
    },
    {
      "cell_type": "code",
      "source": [
        "df_pyspark.groupBy('Region').sum().show()"
      ],
      "metadata": {
        "colab": {
          "base_uri": "https://localhost:8080/"
        },
        "id": "ixFipLbmQe4R",
        "outputId": "0646c3db-f622-496f-ef8f-c461c5341f04"
      },
      "execution_count": 88,
      "outputs": [
        {
          "output_type": "stream",
          "name": "stdout",
          "text": [
            "+-------+-------------+-------------------+------------------+\n",
            "| Region|sum(Quantity)|sum(Price per unit)|        sum(Sales)|\n",
            "+-------+-------------+-------------------+------------------+\n",
            "|Central|         1199|  432.4500000000001|11139.069999999998|\n",
            "|   East|          691| 118.86999999999998|           6002.09|\n",
            "|   West|          231| 321.95000000000005|2486.7200000000003|\n",
            "+-------+-------------+-------------------+------------------+\n",
            "\n"
          ]
        }
      ]
    },
    {
      "cell_type": "code",
      "source": [
        "df_pyspark.groupBy('Item').sum().show()"
      ],
      "metadata": {
        "colab": {
          "base_uri": "https://localhost:8080/"
        },
        "id": "24w9Qz5-Q6_F",
        "outputId": "edc4f720-3e95-4869-9d55-1d9e0e776941"
      },
      "execution_count": 89,
      "outputs": [
        {
          "output_type": "stream",
          "name": "stdout",
          "text": [
            "+-------+-------------+-------------------+------------------+\n",
            "|   Item|sum(Quantity)|sum(Price per unit)|        sum(Sales)|\n",
            "+-------+-------------+-------------------+------------------+\n",
            "|   Desk|           10|              525.0|            1700.0|\n",
            "| Binder|          722|             172.86|           9577.65|\n",
            "|    Pen|          278| 55.949999999999996|2045.2199999999998|\n",
            "|Pen Set|          395|              83.39|           4169.87|\n",
            "| Pencil|          716|              36.07|           2135.14|\n",
            "+-------+-------------+-------------------+------------------+\n",
            "\n"
          ]
        }
      ]
    },
    {
      "cell_type": "code",
      "source": [
        "df_pyspark.groupBy('Region').agg({'Quantity':'count', 'Sales':'sum'}).show()"
      ],
      "metadata": {
        "colab": {
          "base_uri": "https://localhost:8080/"
        },
        "id": "FKCHbP51R6oo",
        "outputId": "820a26d9-8577-4151-b3b0-9d70b2e99116"
      },
      "execution_count": 90,
      "outputs": [
        {
          "output_type": "stream",
          "name": "stdout",
          "text": [
            "+-------+------------------+---------------+\n",
            "| Region|        sum(Sales)|count(Quantity)|\n",
            "+-------+------------------+---------------+\n",
            "|Central|11139.069999999998|             24|\n",
            "|   East|           6002.09|             13|\n",
            "|   West|2486.7200000000003|              6|\n",
            "+-------+------------------+---------------+\n",
            "\n"
          ]
        }
      ]
    },
    {
      "cell_type": "code",
      "source": [
        "df_pyspark.agg({'Sales':'sum'}).show()"
      ],
      "metadata": {
        "colab": {
          "base_uri": "https://localhost:8080/"
        },
        "id": "IF09wdwJSyLf",
        "outputId": "900f2e57-96df-4b9f-f590-744467eb5c6c"
      },
      "execution_count": 92,
      "outputs": [
        {
          "output_type": "stream",
          "name": "stdout",
          "text": [
            "+------------------+\n",
            "|        sum(Sales)|\n",
            "+------------------+\n",
            "|19627.879999999997|\n",
            "+------------------+\n",
            "\n"
          ]
        }
      ]
    },
    {
      "cell_type": "markdown",
      "source": [
        "# DataFrame API"
      ],
      "metadata": {
        "id": "WCPDdIw7Uh5L"
      }
    },
    {
      "cell_type": "code",
      "source": [
        "from pyspark.sql import SparkSession"
      ],
      "metadata": {
        "id": "vgOx8d0NTEQj"
      },
      "execution_count": 4,
      "outputs": []
    },
    {
      "cell_type": "code",
      "source": [
        "spark=SparkSession.builder.appName('Train').getOrCreate()"
      ],
      "metadata": {
        "id": "1uLuM4ENn_k4"
      },
      "execution_count": 5,
      "outputs": []
    },
    {
      "cell_type": "code",
      "source": [
        "training=spark.read.csv('/content/Mydata.csv', header=True, inferSchema=True)"
      ],
      "metadata": {
        "id": "9R2wn4svoJuT"
      },
      "execution_count": 6,
      "outputs": []
    },
    {
      "cell_type": "code",
      "source": [
        "training.show()"
      ],
      "metadata": {
        "colab": {
          "base_uri": "https://localhost:8080/"
        },
        "id": "w6pMwumOofpR",
        "outputId": "2ba033ab-4f15-47e9-b902-dde234bbae63"
      },
      "execution_count": 7,
      "outputs": [
        {
          "output_type": "stream",
          "name": "stdout",
          "text": [
            "+-------+---+----------+------+\n",
            "|   Name|Age|Experience|Salary|\n",
            "+-------+---+----------+------+\n",
            "|Dominic| 31|        10| 30000|\n",
            "|Mahamba| 30|         8| 25000|\n",
            "|William| 29|         4| 20000|\n",
            "| Sagaga| 24|         3| 20000|\n",
            "|Warioba| 21|         1| 15000|\n",
            "| Kilesa| 23|         2| 18000|\n",
            "+-------+---+----------+------+\n",
            "\n"
          ]
        }
      ]
    },
    {
      "cell_type": "code",
      "source": [
        "training.printSchema()"
      ],
      "metadata": {
        "colab": {
          "base_uri": "https://localhost:8080/"
        },
        "id": "GiM_-WSDog90",
        "outputId": "f6123fdc-221b-4b90-f84a-f2f37e6cb5d0"
      },
      "execution_count": 8,
      "outputs": [
        {
          "output_type": "stream",
          "name": "stdout",
          "text": [
            "root\n",
            " |-- Name: string (nullable = true)\n",
            " |-- Age: integer (nullable = true)\n",
            " |-- Experience: integer (nullable = true)\n",
            " |-- Salary: integer (nullable = true)\n",
            "\n"
          ]
        }
      ]
    },
    {
      "cell_type": "code",
      "source": [
        "training.columns"
      ],
      "metadata": {
        "colab": {
          "base_uri": "https://localhost:8080/"
        },
        "id": "gBhCxZm6ooeB",
        "outputId": "62b95238-5fa0-4d35-ddea-2a3c5c029bed"
      },
      "execution_count": 9,
      "outputs": [
        {
          "output_type": "execute_result",
          "data": {
            "text/plain": [
              "['Name', 'Age', 'Experience', 'Salary']"
            ]
          },
          "metadata": {},
          "execution_count": 9
        }
      ]
    },
    {
      "cell_type": "code",
      "source": [
        "from pyspark.ml.feature import VectorAssembler\n",
        "featureassembler=VectorAssembler(inputCols=['Age','Experience'], outputCol='independent features')"
      ],
      "metadata": {
        "id": "04jbMevcoqJt"
      },
      "execution_count": 11,
      "outputs": []
    },
    {
      "cell_type": "code",
      "source": [
        "output=featureassembler.transform(training)"
      ],
      "metadata": {
        "id": "VzoFhfcipFev"
      },
      "execution_count": 12,
      "outputs": []
    },
    {
      "cell_type": "code",
      "source": [
        "output.show()"
      ],
      "metadata": {
        "colab": {
          "base_uri": "https://localhost:8080/"
        },
        "id": "b1fXIinxpSMY",
        "outputId": "e40824d7-722d-4099-d869-047ee3d2f1d5"
      },
      "execution_count": 13,
      "outputs": [
        {
          "output_type": "stream",
          "name": "stdout",
          "text": [
            "+-------+---+----------+------+--------------------+\n",
            "|   Name|Age|Experience|Salary|independent features|\n",
            "+-------+---+----------+------+--------------------+\n",
            "|Dominic| 31|        10| 30000|         [31.0,10.0]|\n",
            "|Mahamba| 30|         8| 25000|          [30.0,8.0]|\n",
            "|William| 29|         4| 20000|          [29.0,4.0]|\n",
            "| Sagaga| 24|         3| 20000|          [24.0,3.0]|\n",
            "|Warioba| 21|         1| 15000|          [21.0,1.0]|\n",
            "| Kilesa| 23|         2| 18000|          [23.0,2.0]|\n",
            "+-------+---+----------+------+--------------------+\n",
            "\n"
          ]
        }
      ]
    },
    {
      "cell_type": "code",
      "source": [
        "output.columns"
      ],
      "metadata": {
        "colab": {
          "base_uri": "https://localhost:8080/"
        },
        "id": "WQ4lrlc-pUOP",
        "outputId": "649c2b23-496c-4881-b103-bc8964fb29fd"
      },
      "execution_count": 14,
      "outputs": [
        {
          "output_type": "execute_result",
          "data": {
            "text/plain": [
              "['Name', 'Age', 'Experience', 'Salary', 'independent features']"
            ]
          },
          "metadata": {},
          "execution_count": 14
        }
      ]
    },
    {
      "cell_type": "code",
      "source": [
        "finalized_data=output.select('independent features', 'Salary')"
      ],
      "metadata": {
        "id": "HgbWGrs3paIx"
      },
      "execution_count": 15,
      "outputs": []
    },
    {
      "cell_type": "code",
      "source": [
        "finalized_data.show()"
      ],
      "metadata": {
        "colab": {
          "base_uri": "https://localhost:8080/"
        },
        "id": "yC2KU73spnq5",
        "outputId": "d21bd435-abdf-458a-e791-ac4e12b4ab65"
      },
      "execution_count": 16,
      "outputs": [
        {
          "output_type": "stream",
          "name": "stdout",
          "text": [
            "+--------------------+------+\n",
            "|independent features|Salary|\n",
            "+--------------------+------+\n",
            "|         [31.0,10.0]| 30000|\n",
            "|          [30.0,8.0]| 25000|\n",
            "|          [29.0,4.0]| 20000|\n",
            "|          [24.0,3.0]| 20000|\n",
            "|          [21.0,1.0]| 15000|\n",
            "|          [23.0,2.0]| 18000|\n",
            "+--------------------+------+\n",
            "\n"
          ]
        }
      ]
    },
    {
      "cell_type": "code",
      "source": [
        "from pyspark.ml.regression import LinearRegression\n",
        "train_data, test_data = finalized_data.randomSplit([0.75,0.25])\n",
        "regressor=LinearRegression(featuresCol='independent features', labelCol='Salary')\n",
        "regressor=regressor.fit(train_data)"
      ],
      "metadata": {
        "id": "8jP2Yfr2pqo8"
      },
      "execution_count": 21,
      "outputs": []
    },
    {
      "cell_type": "code",
      "source": [
        "regressor.coefficients"
      ],
      "metadata": {
        "colab": {
          "base_uri": "https://localhost:8080/"
        },
        "id": "20_9BWGbqWT_",
        "outputId": "50d45f78-fa2e-423e-a250-2546d8c55314"
      },
      "execution_count": 22,
      "outputs": [
        {
          "output_type": "execute_result",
          "data": {
            "text/plain": [
              "DenseVector([-526.3158, 2105.2632])"
            ]
          },
          "metadata": {},
          "execution_count": 22
        }
      ]
    },
    {
      "cell_type": "code",
      "source": [
        "regressor.intercept"
      ],
      "metadata": {
        "colab": {
          "base_uri": "https://localhost:8080/"
        },
        "id": "anXG3vhpqkS9",
        "outputId": "ec4f7e5c-68de-40a4-9169-74fa36b2c683"
      },
      "execution_count": 23,
      "outputs": [
        {
          "output_type": "execute_result",
          "data": {
            "text/plain": [
              "24868.42105263305"
            ]
          },
          "metadata": {},
          "execution_count": 23
        }
      ]
    },
    {
      "cell_type": "code",
      "source": [
        "pred_results=regressor.evaluate(test_data)"
      ],
      "metadata": {
        "id": "V7PxtBraq-O2"
      },
      "execution_count": 24,
      "outputs": []
    },
    {
      "cell_type": "code",
      "source": [
        "pred_results.predictions.show()"
      ],
      "metadata": {
        "colab": {
          "base_uri": "https://localhost:8080/"
        },
        "id": "z5pjv1gNrJkS",
        "outputId": "611d4704-01a1-40a7-c735-428646288223"
      },
      "execution_count": 25,
      "outputs": [
        {
          "output_type": "stream",
          "name": "stdout",
          "text": [
            "+--------------------+------+-----------------+\n",
            "|independent features|Salary|       prediction|\n",
            "+--------------------+------+-----------------+\n",
            "|          [23.0,2.0]| 18000|16973.68421052627|\n",
            "|          [29.0,4.0]| 20000|18026.31578947337|\n",
            "+--------------------+------+-----------------+\n",
            "\n"
          ]
        }
      ]
    },
    {
      "cell_type": "code",
      "source": [
        "pred_results.meanAbsoluteError, pred_results.meanSquaredError, pred_results.rootMeanSquaredError"
      ],
      "metadata": {
        "colab": {
          "base_uri": "https://localhost:8080/"
        },
        "id": "f9M8mTYirO0V",
        "outputId": "120a61bf-08e3-4800-f9b2-89a9e9b39ea4"
      },
      "execution_count": 26,
      "outputs": [
        {
          "output_type": "execute_result",
          "data": {
            "text/plain": [
              "(1500.00000000018, 2474376.731302606, 1573.015171987418)"
            ]
          },
          "metadata": {},
          "execution_count": 26
        }
      ]
    },
    {
      "cell_type": "code",
      "source": [],
      "metadata": {
        "id": "O_AAo_oZrrJ7"
      },
      "execution_count": null,
      "outputs": []
    }
  ]
}