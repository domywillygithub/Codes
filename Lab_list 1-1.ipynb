{
 "cells": [
  {
   "cell_type": "code",
   "execution_count": 1,
   "id": "58e17b33",
   "metadata": {},
   "outputs": [
    {
     "name": "stdout",
     "output_type": "stream",
     "text": [
      "Enter a random sentence: \n",
      "Fabricio Romano gonna be 20 this year 2022\n",
      "Letters 29\n",
      "Digits 6\n"
     ]
    }
   ],
   "source": [
    "print(\"Enter a random sentence: \")\n",
    "sentence = input()\n",
    "\n",
    "letters_digits = {\"Letters\":0, \"Digits\":0}\n",
    "\n",
    "for x in sentence:\n",
    "    if x.isalpha():\n",
    "        letters_digits[\"Letters\"]+=1\n",
    "    elif x.isdigit():\n",
    "        letters_digits[\"Digits\"]+=1\n",
    "    else:\n",
    "        pass\n",
    "\n",
    "print(\"Letters\", letters_digits[\"Letters\"])\n",
    "print(\"Digits\", letters_digits[\"Digits\"])"
   ]
  },
  {
   "cell_type": "code",
   "execution_count": 1,
   "id": "326fd1ba",
   "metadata": {},
   "outputs": [
    {
     "data": {
      "text/plain": [
       "[(),\n",
       " ('b',),\n",
       " ('a',),\n",
       " ('d',),\n",
       " ('c',),\n",
       " ('b', 'a'),\n",
       " ('b', 'd'),\n",
       " ('b', 'c'),\n",
       " ('a', 'd'),\n",
       " ('a', 'c'),\n",
       " ('d', 'c'),\n",
       " ('b', 'a', 'd'),\n",
       " ('b', 'a', 'c'),\n",
       " ('b', 'd', 'c'),\n",
       " ('a', 'd', 'c'),\n",
       " ('b', 'a', 'd', 'c')]"
      ]
     },
     "execution_count": 1,
     "metadata": {},
     "output_type": "execute_result"
    }
   ],
   "source": [
    "from itertools import combinations\n",
    "someSet = {'a', 'b', 'c', 'd'}\n",
    "([x for i in range(len(someSet)+1) for x in combinations(someSet,i)])\n"
   ]
  },
  {
   "cell_type": "code",
   "execution_count": 10,
   "id": "030036f5",
   "metadata": {},
   "outputs": [
    {
     "data": {
      "text/plain": [
       "[[],\n",
       " ['d'],\n",
       " ['c', 'd'],\n",
       " ['c'],\n",
       " ['b', 'c'],\n",
       " ['b', 'c', 'd'],\n",
       " ['b', 'd'],\n",
       " ['b'],\n",
       " ['a', 'b'],\n",
       " ['a', 'b', 'd'],\n",
       " ['a', 'b', 'c', 'd'],\n",
       " ['a', 'b', 'c'],\n",
       " ['a', 'c'],\n",
       " ['a', 'c', 'd'],\n",
       " ['a', 'd'],\n",
       " ['a']]"
      ]
     },
     "execution_count": 10,
     "metadata": {},
     "output_type": "execute_result"
    }
   ],
   "source": [
    "from sympy.combinatorics.graycode import graycode_subsets\n",
    "list(graycode_subsets(['a', 'b', 'c', 'd']))"
   ]
  },
  {
   "cell_type": "code",
   "execution_count": 8,
   "id": "6ab68770",
   "metadata": {},
   "outputs": [
    {
     "name": "stdout",
     "output_type": "stream",
     "text": [
      "('i', 5)\n"
     ]
    }
   ],
   "source": [
    "import collections\n",
    "\n",
    "a = \"GiniGinaProtijayi\"\n",
    "\n",
    "aa = collections.Counter(a).most_common(1)[0]\n",
    "print(aa)"
   ]
  },
  {
   "cell_type": "code",
   "execution_count": 9,
   "id": "10acbcc9",
   "metadata": {},
   "outputs": [
    {
     "ename": "SyntaxError",
     "evalue": "invalid syntax (Temp/ipykernel_4964/3926323038.py, line 3)",
     "output_type": "error",
     "traceback": [
      "\u001b[1;36m  File \u001b[1;32m\"C:\\Users\\USER\\AppData\\Local\\Temp/ipykernel_4964/3926323038.py\"\u001b[1;36m, line \u001b[1;32m3\u001b[0m\n\u001b[1;33m    for n > 0:\u001b[0m\n\u001b[1;37m             ^\u001b[0m\n\u001b[1;31mSyntaxError\u001b[0m\u001b[1;31m:\u001b[0m invalid syntax\n"
     ]
    }
   ],
   "source": [
    "print(\"Enter a decimal number: \")\n",
    "\n",
    "for n > 0:\n",
    "    if n > = 1\n",
    "    decimal_to_binary = (n//2)\n",
    "    print(n % 2)"
   ]
  },
  {
   "cell_type": "code",
   "execution_count": 10,
   "id": "117f665b",
   "metadata": {},
   "outputs": [],
   "source": [
    "def DecimalToBinary(num):\n",
    "     \n",
    "    if num >= 1:\n",
    "        DecimalToBinary(num // 2)\n",
    "    print(num % 2, end = '')"
   ]
  },
  {
   "cell_type": "code",
   "execution_count": 15,
   "id": "41932a6f",
   "metadata": {},
   "outputs": [
    {
     "name": "stdout",
     "output_type": "stream",
     "text": [
      "010"
     ]
    }
   ],
   "source": [
    "DecimalToBinary(2)"
   ]
  },
  {
   "cell_type": "code",
   "execution_count": 2,
   "id": "f5315a4d",
   "metadata": {},
   "outputs": [],
   "source": [
    "num_list = [1,2,3,-3,-5,-6,-9,6,4] "
   ]
  },
  {
   "cell_type": "code",
   "execution_count": 5,
   "id": "26b7affb",
   "metadata": {},
   "outputs": [
    {
     "name": "stdout",
     "output_type": "stream",
     "text": [
      "[1, 2, 3, 6, 4]\n"
     ]
    }
   ],
   "source": [
    " for num in num_list:\n",
    "        if num < 0:\n",
    "            num_list.remove(num)\n",
    "            print(num_list)"
   ]
  },
  {
   "cell_type": "code",
   "execution_count": 41,
   "id": "b4f52362",
   "metadata": {},
   "outputs": [],
   "source": [
    "num_list = [num for num in num_list if num > 0]"
   ]
  },
  {
   "cell_type": "code",
   "execution_count": 42,
   "id": "84f70b4d",
   "metadata": {},
   "outputs": [
    {
     "data": {
      "text/plain": [
       "[1, 2, 3, 6, 4]"
      ]
     },
     "execution_count": 42,
     "metadata": {},
     "output_type": "execute_result"
    }
   ],
   "source": [
    "num_list"
   ]
  },
  {
   "cell_type": "code",
   "execution_count": 83,
   "id": "a32517f4",
   "metadata": {},
   "outputs": [],
   "source": [
    "L = ['Banana','Mango','Pineapple','Apple','kiwi']"
   ]
  },
  {
   "cell_type": "code",
   "execution_count": 84,
   "id": "babfc2ea",
   "metadata": {},
   "outputs": [
    {
     "data": {
      "text/plain": [
       "['Banana', 'Mango', 'Pineapple', 'Apple', 'kiwi']"
      ]
     },
     "execution_count": 84,
     "metadata": {},
     "output_type": "execute_result"
    }
   ],
   "source": [
    "L"
   ]
  },
  {
   "cell_type": "code",
   "execution_count": 16,
   "id": "a8866b77",
   "metadata": {},
   "outputs": [
    {
     "name": "stdout",
     "output_type": "stream",
     "text": [
      "['kuja', 'hapa']\n"
     ]
    }
   ],
   "source": [
    "M = ['kamafa','kuja','hapa','nikuone']\n",
    "\n",
    "def remove_string(M):\n",
    "    \n",
    "    \n",
    "    for string in M:\n",
    "        if len(string) > 5:\n",
    "            \n",
    "            M.remove(string)\n",
    "    \n",
    "    return M\n",
    "print(remove_string(M))"
   ]
  },
  {
   "cell_type": "code",
   "execution_count": 95,
   "id": "0239af29",
   "metadata": {},
   "outputs": [
    {
     "data": {
      "text/plain": [
       "{'shooting'}"
      ]
     },
     "execution_count": 95,
     "metadata": {},
     "output_type": "execute_result"
    }
   ],
   "source": [
    "words_set = {'fish', 'barrel', 'like', 'shooting', 'sand', 'bank'}\n",
    "\n",
    "set(filter(lambda x,m=max(map(len, words_set)):len(x)==m, words_set))"
   ]
  },
  {
   "cell_type": "code",
   "execution_count": 107,
   "id": "741525d3",
   "metadata": {},
   "outputs": [
    {
     "name": "stdout",
     "output_type": "stream",
     "text": [
      "['a1' 'b1' 'a2' 'b2' 'a3' 'b3']\n"
     ]
    }
   ],
   "source": [
    "a=['a1','a2','a3']\n",
    "b=['b1','b2','b3']\n",
    "import numpy as np\n",
    "  \n",
    "def countList(a, b):\n",
    "    return np.array([[i, j] for i, j in zip(a, b)]).ravel()\n",
    "print(countList(a,b))"
   ]
  },
  {
   "cell_type": "code",
   "execution_count": 109,
   "id": "60538cd3",
   "metadata": {},
   "outputs": [
    {
     "ename": "TypeError",
     "evalue": "'<' not supported between instances of 'int' and 'str'",
     "output_type": "error",
     "traceback": [
      "\u001b[1;31m---------------------------------------------------------------------------\u001b[0m",
      "\u001b[1;31mTypeError\u001b[0m                                 Traceback (most recent call last)",
      "\u001b[1;32m~\\AppData\\Local\\Temp/ipykernel_3836/508333670.py\u001b[0m in \u001b[0;36m<module>\u001b[1;34m\u001b[0m\n\u001b[0;32m      1\u001b[0m \u001b[0mmy_list\u001b[0m \u001b[1;33m=\u001b[0m \u001b[1;33m[\u001b[0m\u001b[1;34m'b'\u001b[0m\u001b[1;33m,\u001b[0m\u001b[1;36m18\u001b[0m\u001b[1;33m,\u001b[0m\u001b[1;34m'f'\u001b[0m\u001b[1;33m,\u001b[0m\u001b[1;36m9\u001b[0m\u001b[1;33m,\u001b[0m\u001b[1;34m'a'\u001b[0m\u001b[1;33m,\u001b[0m\u001b[1;36m2\u001b[0m\u001b[1;33m,\u001b[0m\u001b[1;34m'n'\u001b[0m\u001b[1;33m,\u001b[0m\u001b[1;36m7\u001b[0m\u001b[1;33m]\u001b[0m\u001b[1;33m\u001b[0m\u001b[1;33m\u001b[0m\u001b[0m\n\u001b[0;32m      2\u001b[0m \u001b[1;33m\u001b[0m\u001b[0m\n\u001b[1;32m----> 3\u001b[1;33m \u001b[0mmy_list\u001b[0m\u001b[1;33m.\u001b[0m\u001b[0msort\u001b[0m\u001b[1;33m(\u001b[0m\u001b[1;33m)\u001b[0m\u001b[1;33m\u001b[0m\u001b[1;33m\u001b[0m\u001b[0m\n\u001b[0m",
      "\u001b[1;31mTypeError\u001b[0m: '<' not supported between instances of 'int' and 'str'"
     ]
    }
   ],
   "source": [
    "my_list = ['b',18,'f',9,'a',2,'n',7]\n",
    "\n",
    "my_list.sort()"
   ]
  },
  {
   "cell_type": "code",
   "execution_count": null,
   "id": "dee49982",
   "metadata": {},
   "outputs": [],
   "source": []
  }
 ],
 "metadata": {
  "kernelspec": {
   "display_name": "Python 3 (ipykernel)",
   "language": "python",
   "name": "python3"
  },
  "language_info": {
   "codemirror_mode": {
    "name": "ipython",
    "version": 3
   },
   "file_extension": ".py",
   "mimetype": "text/x-python",
   "name": "python",
   "nbconvert_exporter": "python",
   "pygments_lexer": "ipython3",
   "version": "3.9.12"
  }
 },
 "nbformat": 4,
 "nbformat_minor": 5
}
