{
 "cells": [
  {
   "cell_type": "markdown",
   "id": "8a52d356",
   "metadata": {},
   "source": [
    "### 1. Random Encoded Message"
   ]
  },
  {
   "cell_type": "code",
   "execution_count": 71,
   "id": "b542d5c2",
   "metadata": {},
   "outputs": [
    {
     "name": "stdout",
     "output_type": "stream",
     "text": [
      "Write your text here: This can that take text as input, replaces each letter with another letter, and outputs the “encoded” message.\n",
      "Your encoded output is:  hrNE QVl vrVv vViy vyvv VE NlVlv, eyVEVQyE yVQr Eyvvye cNvr Vlpvrye Eyvvye, Vld plvVlvE vry “ylQpdyd” RyEEVMy.\n"
     ]
    }
   ],
   "source": [
    "import string\n",
    "import random\n",
    "\n",
    "text =str(input(\"Write your text here: \"))\n",
    "letters = string.ascii_letters\n",
    "mapping = {letter: random.choice(letters) for letter in letters}\n",
    "Encoded = ''.join(mapping.get(letter,letter) for letter in text)\n",
    "\n",
    "print('Your encoded output is: ', Encoded) "
   ]
  },
  {
   "cell_type": "markdown",
   "id": "d3e29f05",
   "metadata": {},
   "source": [
    "### 2. check how old you are"
   ]
  },
  {
   "cell_type": "code",
   "execution_count": 88,
   "id": "bd5f7b03",
   "metadata": {},
   "outputs": [
    {
     "name": "stdout",
     "output_type": "stream",
     "text": [
      "Write your birthdate here1993/08/09\n",
      "You're 10812 days old\n"
     ]
    }
   ],
   "source": [
    "from datetime import datetime\n",
    "date_1 = str(input('Write your birthdate here'))\n",
    "date_2 = str(datetime.now().strftime(\"%Y/%m/%d\"))\n",
    "\n",
    "# convert string to date object\n",
    "d1 = datetime.strptime(date_1, \"%Y/%m/%d\")\n",
    "d2 = datetime.strptime(date_2, \"%Y/%m/%d\")\n",
    "\n",
    "delta = d2-d1\n",
    "print(f\"You're {delta.days} days old\")"
   ]
  },
  {
   "cell_type": "code",
   "execution_count": 93,
   "id": "7d7ed940",
   "metadata": {},
   "outputs": [
    {
     "name": "stdout",
     "output_type": "stream",
     "text": [
      "Enter the first date (dd/mm/yyyy): 09/08/1993\n",
      "10812 days, 17:26:24.511508\n",
      "10812\n",
      "7\n",
      "29\n",
      "Time difference: 29 years, 7 months, 12 days\n"
     ]
    }
   ],
   "source": [
    "from datetime import datetime\n",
    "\n",
    "# Define a function to calculate the time difference between two dates\n",
    "def time_difference(date1, date2):\n",
    "    # Parse the input dates using datetime.strptime()\n",
    "    date1 = datetime.strptime(date1, '%d/%m/%Y')\n",
    "    date2 = datetime.strptime(date2, '%Y/%m/%d %H:%M:%S.%f')\n",
    "\n",
    "    # Calculate the time difference between the two dates\n",
    "    time_diff = date2 - date1\n",
    "    print(time_diff)\n",
    "\n",
    "    # Extract the number of days, months, and years from the time difference\n",
    "    days = time_diff.days\n",
    "    months = days % 365 // 30\n",
    "    years = days // 365\n",
    "    print(days)\n",
    "    print(months)\n",
    "    print(years)\n",
    "\n",
    "    # Print the results\n",
    "    print(f'Time difference: {years} years, {months % 12} months, {days % 30} days')\n",
    "\n",
    "# Prompt the user to enter the first date\n",
    "date1 = input('Enter the first date (dd/mm/yyyy): ')\n",
    "\n",
    "# Get the current date and time\n",
    "date2 = datetime.now().strftime('%Y/%m/%d %H:%M:%S.%f')\n",
    "\n",
    "# Calculate the time difference between the two dates\n",
    "time_difference(date1, date2)"
   ]
  },
  {
   "cell_type": "markdown",
   "id": "009cd490",
   "metadata": {},
   "source": [
    "### 3. Removing swear(vulgar) words from pdf books"
   ]
  },
  {
   "cell_type": "code",
   "execution_count": 189,
   "id": "f315ab9d",
   "metadata": {},
   "outputs": [],
   "source": [
    "import re\n",
    "import PyPDF2\n",
    "from fpdf import FPDF\n",
    "\n",
    "def replace_swear_words(pdf_file_path, swear_words):\n",
    "    # Open the PDF file in read-binary mode\n",
    "    with open(pdf_file_path, 'rb') as pdf_file:\n",
    "        # Create a PDF reader object\n",
    "        pdf_reader = PyPDF2.PdfReader(pdf_file)\n",
    "        # Create a PDF writer object\n",
    "        pdf_writer = PyPDF2.PdfWriter()\n",
    "        # Create an FPDF object to write the updated PDF file\n",
    "        updated_pdf = FPDF()\n",
    "\n",
    "        # Iterate through each page of the PDF file\n",
    "        for page_num in range(len(pdf_reader.pages)):\n",
    "            # Get the current page object\n",
    "            page = pdf_reader.pages[page_num]\n",
    "            # Get the text content of the page\n",
    "            page_text = page.extract_text()\n",
    "            \n",
    "            page_text = re.sub(r'[^\\x00-\\x7F]+', ' ', page_text)\n",
    "\n",
    "            # Split the page text into individual words\n",
    "            words = page_text.split()\n",
    "            #print(words)\n",
    "\n",
    "#             # Iterate through each word on the page\n",
    "            for i in range(len(words)):\n",
    "#                 # Check if the word is a swear word\n",
    "                if words[i].lower() in swear_words:\n",
    "#                     # Replace the swear word with asterisks\n",
    "                    words[i] = '*' * len(words[i])\n",
    "\n",
    "#             # Join the updated words back into a string\n",
    "            updated_page_text = ' '.join(words)\n",
    "\n",
    "#          # Add the updated page to the FPDF object\n",
    "            updated_pdf.add_page()\n",
    "            updated_pdf.set_font(\"Arial\", size=12)\n",
    "            updated_pdf.multi_cell(0, 10, txt=updated_page_text)\n",
    "\n",
    "#         # Save the updated PDF file\n",
    "        updated_pdf.output(name='Catcher-in-the-Rye.pdf')\n",
    "\n",
    "swear_words = ['fuck', 'shit', 'cock', 'titties', 'boner', 'muff', 'pussy', 'asshole', 'cunt', 'ass', 'cockfoam', 'nigger','dick',\n",
    "              'cock-sucker', 'moron','morons', 'motherfucker', 'bitch', 'crap', 'damn ','screw','whore',\n",
    "              'shitbag','bastard','bastards','wanker','arsehole', 'bollocks', 'turd', 'crap','prick','blowjob','coochie','coochy',\n",
    "              'doochie','douchebag','dumbass','fag','faggot','fatass','fucked','fucker','guido','gringo',\n",
    "              'goddamn','hoe','handjob','homo','jerk','jackass','negro','nigaboo','niggers','nutsack','piss','pissed',\n",
    "              'poonani','pussies','queer','rimjob','slut','shitty','suck','slutbag','shitface','shitfaced','shitbreath',\n",
    "              'shitass','shitbag','tit','tits','twat','twats','twit','vag','wank','wanking','wankjob','whoreface','whorebag',\n",
    "              'fuck you','blow job','asses','whorehouse,','\"fuck','ass.','asses.','moron.','moron!\"','moron.\"','moron,\"',\n",
    "               'moron,','ass,','fat-assed','haif-assed','whore?','whory-looking','asses--','morons.','morons!\"','bitches',\n",
    "               'sluts','bastard--','bastards','bastards.','bastard,','bastard.','bastard.\"','bastard!\"','bastard,\"','bastards,',\n",
    "              'bastards.\"','bastards--','goddam'] \n",
    "\n",
    "pdf_file_path = 'Catcher in the Rye.pdf'  \n",
    "replace_swear_words(pdf_file_path, swear_words)"
   ]
  },
  {
   "cell_type": "code",
   "execution_count": 200,
   "id": "2c881ca6",
   "metadata": {},
   "outputs": [
    {
     "data": {
      "text/plain": [
       "['D', 'E', 'P', 'a', 'c', 'f', 'g', 'h', 'm']"
      ]
     },
     "execution_count": 200,
     "metadata": {},
     "output_type": "execute_result"
    }
   ],
   "source": [
    "b = ['a','c', 'f','m','D','P','g','E','h']\n",
    "sorted(b)"
   ]
  },
  {
   "cell_type": "code",
   "execution_count": null,
   "id": "ab793eaf",
   "metadata": {},
   "outputs": [],
   "source": [
    "# sort a list of strings alphabetically without using sort()\n",
    "def alphabet_sort(lst):\n",
    "    sorted_list = []\n",
    "    while lst:\n",
    "        min_item = lst[0]\n",
    "        for item in lst:\n",
    "            if item < min_item:\n",
    "                min_item = item\n",
    "        sorted_list.append(min_item)\n",
    "        lst.remove(min_item)\n",
    "    return sorted_list\n",
    "\n",
    "# sort a list of integers numerically without using sort()\n",
    "def numeric_sort(lst):\n",
    "    sorted_list = []\n",
    "    while lst:\n",
    "        min_item = lst[0]\n",
    "        for item in lst:\n",
    "            if item < min_item:\n",
    "                min_item = item\n",
    "        sorted_list.append(min_item)\n",
    "        lst.remove(min_item)\n",
    "    return sorted_list\n"
   ]
  },
  {
   "cell_type": "code",
   "execution_count": 203,
   "id": "7b959126",
   "metadata": {},
   "outputs": [
    {
     "data": {
      "text/plain": [
       "'d'"
      ]
     },
     "execution_count": 203,
     "metadata": {},
     "output_type": "execute_result"
    }
   ],
   "source": [
    "'D'.lower()"
   ]
  },
  {
   "cell_type": "code",
   "execution_count": 204,
   "id": "2a82910e",
   "metadata": {},
   "outputs": [
    {
     "data": {
      "text/plain": [
       "['a', 'c', 'f', 'm', 'D', 'P', 'g', 'E', 'h']"
      ]
     },
     "execution_count": 204,
     "metadata": {},
     "output_type": "execute_result"
    }
   ],
   "source": [
    "b"
   ]
  },
  {
   "cell_type": "code",
   "execution_count": 206,
   "id": "be4c3b63",
   "metadata": {},
   "outputs": [
    {
     "data": {
      "text/plain": [
       "['a', 'a', 'a', 'a', 'D', 'P', 'a', 'E', 'a']"
      ]
     },
     "execution_count": 206,
     "metadata": {},
     "output_type": "execute_result"
    }
   ],
   "source": [
    "sorted_list=[]\n",
    "for item in range(len(b)):\n",
    "    if b[item] < b[0]:\n",
    "        sorted_list.append(b[item])\n",
    "    else:\n",
    "        sorted_list.append(b[0])\n",
    "sorted_list        "
   ]
  },
  {
   "cell_type": "code",
   "execution_count": null,
   "id": "1e391560",
   "metadata": {},
   "outputs": [],
   "source": []
  }
 ],
 "metadata": {
  "kernelspec": {
   "display_name": "Python 3 (ipykernel)",
   "language": "python",
   "name": "python3"
  },
  "language_info": {
   "codemirror_mode": {
    "name": "ipython",
    "version": 3
   },
   "file_extension": ".py",
   "mimetype": "text/x-python",
   "name": "python",
   "nbconvert_exporter": "python",
   "pygments_lexer": "ipython3",
   "version": "3.9.12"
  }
 },
 "nbformat": 4,
 "nbformat_minor": 5
}
