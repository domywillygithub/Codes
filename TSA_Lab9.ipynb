{
  "nbformat": 4,
  "nbformat_minor": 0,
  "metadata": {
    "colab": {
      "provenance": [],
      "authorship_tag": "ABX9TyMck5pDov7LSHCxh5FcuVnf",
      "include_colab_link": true
    },
    "kernelspec": {
      "name": "python3",
      "display_name": "Python 3"
    },
    "language_info": {
      "name": "python"
    }
  },
  "cells": [
    {
      "cell_type": "markdown",
      "metadata": {
        "id": "view-in-github",
        "colab_type": "text"
      },
      "source": [
        "<a href=\"https://colab.research.google.com/github/domywillygithub/Codes/blob/main/TSA_Lab9.ipynb\" target=\"_parent\"><img src=\"https://colab.research.google.com/assets/colab-badge.svg\" alt=\"Open In Colab\"/></a>"
      ]
    },
    {
      "cell_type": "code",
      "source": [
        "!pip install pmdarima"
      ],
      "metadata": {
        "colab": {
          "base_uri": "https://localhost:8080/"
        },
        "id": "DMsKVdU-_liW",
        "outputId": "4cdb4650-6006-4612-fed3-625ee698eb33"
      },
      "execution_count": null,
      "outputs": [
        {
          "output_type": "stream",
          "name": "stdout",
          "text": [
            "Looking in indexes: https://pypi.org/simple, https://us-python.pkg.dev/colab-wheels/public/simple/\n",
            "Collecting pmdarima\n",
            "  Downloading pmdarima-2.0.3-cp310-cp310-manylinux_2_17_x86_64.manylinux2014_x86_64.manylinux_2_28_x86_64.whl (1.8 MB)\n",
            "\u001b[2K     \u001b[90m━━━━━━━━━━━━━━━━━━━━━━━━━━━━━━━━━━━━━━━━\u001b[0m \u001b[32m1.8/1.8 MB\u001b[0m \u001b[31m37.0 MB/s\u001b[0m eta \u001b[36m0:00:00\u001b[0m\n",
            "\u001b[?25hRequirement already satisfied: joblib>=0.11 in /usr/local/lib/python3.10/dist-packages (from pmdarima) (1.2.0)\n",
            "Requirement already satisfied: Cython!=0.29.18,!=0.29.31,>=0.29 in /usr/local/lib/python3.10/dist-packages (from pmdarima) (0.29.34)\n",
            "Requirement already satisfied: numpy>=1.21.2 in /usr/local/lib/python3.10/dist-packages (from pmdarima) (1.22.4)\n",
            "Requirement already satisfied: pandas>=0.19 in /usr/local/lib/python3.10/dist-packages (from pmdarima) (1.5.3)\n",
            "Requirement already satisfied: scikit-learn>=0.22 in /usr/local/lib/python3.10/dist-packages (from pmdarima) (1.2.2)\n",
            "Requirement already satisfied: scipy>=1.3.2 in /usr/local/lib/python3.10/dist-packages (from pmdarima) (1.10.1)\n",
            "Requirement already satisfied: statsmodels>=0.13.2 in /usr/local/lib/python3.10/dist-packages (from pmdarima) (0.13.5)\n",
            "Requirement already satisfied: urllib3 in /usr/local/lib/python3.10/dist-packages (from pmdarima) (1.26.15)\n",
            "Requirement already satisfied: setuptools!=50.0.0,>=38.6.0 in /usr/local/lib/python3.10/dist-packages (from pmdarima) (67.7.2)\n",
            "Requirement already satisfied: python-dateutil>=2.8.1 in /usr/local/lib/python3.10/dist-packages (from pandas>=0.19->pmdarima) (2.8.2)\n",
            "Requirement already satisfied: pytz>=2020.1 in /usr/local/lib/python3.10/dist-packages (from pandas>=0.19->pmdarima) (2022.7.1)\n",
            "Requirement already satisfied: threadpoolctl>=2.0.0 in /usr/local/lib/python3.10/dist-packages (from scikit-learn>=0.22->pmdarima) (3.1.0)\n",
            "Requirement already satisfied: patsy>=0.5.2 in /usr/local/lib/python3.10/dist-packages (from statsmodels>=0.13.2->pmdarima) (0.5.3)\n",
            "Requirement already satisfied: packaging>=21.3 in /usr/local/lib/python3.10/dist-packages (from statsmodels>=0.13.2->pmdarima) (23.1)\n",
            "Requirement already satisfied: six in /usr/local/lib/python3.10/dist-packages (from patsy>=0.5.2->statsmodels>=0.13.2->pmdarima) (1.16.0)\n",
            "Installing collected packages: pmdarima\n",
            "Successfully installed pmdarima-2.0.3\n"
          ]
        }
      ]
    },
    {
      "cell_type": "code",
      "execution_count": null,
      "metadata": {
        "id": "uwMI93up7fjW"
      },
      "outputs": [],
      "source": [
        "import pandas as pd\n",
        "import numpy as np\n",
        "import matplotlib.pyplot as plt\n",
        "from statsmodels.tsa.statespace.sarimax import SARIMAX\n",
        "from statsmodels.tsa.holtwinters import ExponentialSmoothing\n",
        "from prophet import Prophet\n",
        "from pmdarima import auto_arima\n",
        "import warnings\n",
        "warnings.filterwarnings('ignore')"
      ]
    },
    {
      "cell_type": "code",
      "source": [
        "df = pd.read_csv('/content/co2_mm_mlo.csv')\n",
        "df"
      ],
      "metadata": {
        "colab": {
          "base_uri": "https://localhost:8080/",
          "height": 424
        },
        "id": "JjaGKG5w75cm",
        "outputId": "a60c8d2c-6a1e-449c-9b60-66c29fc43cd1"
      },
      "execution_count": null,
      "outputs": [
        {
          "output_type": "execute_result",
          "data": {
            "text/plain": [
              "     year  month  decimal_date  average  interpolated\n",
              "0    1958      3      1958.208   315.71        315.71\n",
              "1    1958      4      1958.292   317.45        317.45\n",
              "2    1958      5      1958.375   317.50        317.50\n",
              "3    1958      6      1958.458      NaN        317.10\n",
              "4    1958      7      1958.542   315.86        315.86\n",
              "..    ...    ...           ...      ...           ...\n",
              "724  2018      7      2018.542   408.71        408.71\n",
              "725  2018      8      2018.625   406.99        406.99\n",
              "726  2018      9      2018.708   405.51        405.51\n",
              "727  2018     10      2018.792   406.00        406.00\n",
              "728  2018     11      2018.875   408.02        408.02\n",
              "\n",
              "[729 rows x 5 columns]"
            ],
            "text/html": [
              "\n",
              "  <div id=\"df-81994bb0-77f5-4155-9407-fbeb763997ae\">\n",
              "    <div class=\"colab-df-container\">\n",
              "      <div>\n",
              "<style scoped>\n",
              "    .dataframe tbody tr th:only-of-type {\n",
              "        vertical-align: middle;\n",
              "    }\n",
              "\n",
              "    .dataframe tbody tr th {\n",
              "        vertical-align: top;\n",
              "    }\n",
              "\n",
              "    .dataframe thead th {\n",
              "        text-align: right;\n",
              "    }\n",
              "</style>\n",
              "<table border=\"1\" class=\"dataframe\">\n",
              "  <thead>\n",
              "    <tr style=\"text-align: right;\">\n",
              "      <th></th>\n",
              "      <th>year</th>\n",
              "      <th>month</th>\n",
              "      <th>decimal_date</th>\n",
              "      <th>average</th>\n",
              "      <th>interpolated</th>\n",
              "    </tr>\n",
              "  </thead>\n",
              "  <tbody>\n",
              "    <tr>\n",
              "      <th>0</th>\n",
              "      <td>1958</td>\n",
              "      <td>3</td>\n",
              "      <td>1958.208</td>\n",
              "      <td>315.71</td>\n",
              "      <td>315.71</td>\n",
              "    </tr>\n",
              "    <tr>\n",
              "      <th>1</th>\n",
              "      <td>1958</td>\n",
              "      <td>4</td>\n",
              "      <td>1958.292</td>\n",
              "      <td>317.45</td>\n",
              "      <td>317.45</td>\n",
              "    </tr>\n",
              "    <tr>\n",
              "      <th>2</th>\n",
              "      <td>1958</td>\n",
              "      <td>5</td>\n",
              "      <td>1958.375</td>\n",
              "      <td>317.50</td>\n",
              "      <td>317.50</td>\n",
              "    </tr>\n",
              "    <tr>\n",
              "      <th>3</th>\n",
              "      <td>1958</td>\n",
              "      <td>6</td>\n",
              "      <td>1958.458</td>\n",
              "      <td>NaN</td>\n",
              "      <td>317.10</td>\n",
              "    </tr>\n",
              "    <tr>\n",
              "      <th>4</th>\n",
              "      <td>1958</td>\n",
              "      <td>7</td>\n",
              "      <td>1958.542</td>\n",
              "      <td>315.86</td>\n",
              "      <td>315.86</td>\n",
              "    </tr>\n",
              "    <tr>\n",
              "      <th>...</th>\n",
              "      <td>...</td>\n",
              "      <td>...</td>\n",
              "      <td>...</td>\n",
              "      <td>...</td>\n",
              "      <td>...</td>\n",
              "    </tr>\n",
              "    <tr>\n",
              "      <th>724</th>\n",
              "      <td>2018</td>\n",
              "      <td>7</td>\n",
              "      <td>2018.542</td>\n",
              "      <td>408.71</td>\n",
              "      <td>408.71</td>\n",
              "    </tr>\n",
              "    <tr>\n",
              "      <th>725</th>\n",
              "      <td>2018</td>\n",
              "      <td>8</td>\n",
              "      <td>2018.625</td>\n",
              "      <td>406.99</td>\n",
              "      <td>406.99</td>\n",
              "    </tr>\n",
              "    <tr>\n",
              "      <th>726</th>\n",
              "      <td>2018</td>\n",
              "      <td>9</td>\n",
              "      <td>2018.708</td>\n",
              "      <td>405.51</td>\n",
              "      <td>405.51</td>\n",
              "    </tr>\n",
              "    <tr>\n",
              "      <th>727</th>\n",
              "      <td>2018</td>\n",
              "      <td>10</td>\n",
              "      <td>2018.792</td>\n",
              "      <td>406.00</td>\n",
              "      <td>406.00</td>\n",
              "    </tr>\n",
              "    <tr>\n",
              "      <th>728</th>\n",
              "      <td>2018</td>\n",
              "      <td>11</td>\n",
              "      <td>2018.875</td>\n",
              "      <td>408.02</td>\n",
              "      <td>408.02</td>\n",
              "    </tr>\n",
              "  </tbody>\n",
              "</table>\n",
              "<p>729 rows × 5 columns</p>\n",
              "</div>\n",
              "      <button class=\"colab-df-convert\" onclick=\"convertToInteractive('df-81994bb0-77f5-4155-9407-fbeb763997ae')\"\n",
              "              title=\"Convert this dataframe to an interactive table.\"\n",
              "              style=\"display:none;\">\n",
              "        \n",
              "  <svg xmlns=\"http://www.w3.org/2000/svg\" height=\"24px\"viewBox=\"0 0 24 24\"\n",
              "       width=\"24px\">\n",
              "    <path d=\"M0 0h24v24H0V0z\" fill=\"none\"/>\n",
              "    <path d=\"M18.56 5.44l.94 2.06.94-2.06 2.06-.94-2.06-.94-.94-2.06-.94 2.06-2.06.94zm-11 1L8.5 8.5l.94-2.06 2.06-.94-2.06-.94L8.5 2.5l-.94 2.06-2.06.94zm10 10l.94 2.06.94-2.06 2.06-.94-2.06-.94-.94-2.06-.94 2.06-2.06.94z\"/><path d=\"M17.41 7.96l-1.37-1.37c-.4-.4-.92-.59-1.43-.59-.52 0-1.04.2-1.43.59L10.3 9.45l-7.72 7.72c-.78.78-.78 2.05 0 2.83L4 21.41c.39.39.9.59 1.41.59.51 0 1.02-.2 1.41-.59l7.78-7.78 2.81-2.81c.8-.78.8-2.07 0-2.86zM5.41 20L4 18.59l7.72-7.72 1.47 1.35L5.41 20z\"/>\n",
              "  </svg>\n",
              "      </button>\n",
              "      \n",
              "  <style>\n",
              "    .colab-df-container {\n",
              "      display:flex;\n",
              "      flex-wrap:wrap;\n",
              "      gap: 12px;\n",
              "    }\n",
              "\n",
              "    .colab-df-convert {\n",
              "      background-color: #E8F0FE;\n",
              "      border: none;\n",
              "      border-radius: 50%;\n",
              "      cursor: pointer;\n",
              "      display: none;\n",
              "      fill: #1967D2;\n",
              "      height: 32px;\n",
              "      padding: 0 0 0 0;\n",
              "      width: 32px;\n",
              "    }\n",
              "\n",
              "    .colab-df-convert:hover {\n",
              "      background-color: #E2EBFA;\n",
              "      box-shadow: 0px 1px 2px rgba(60, 64, 67, 0.3), 0px 1px 3px 1px rgba(60, 64, 67, 0.15);\n",
              "      fill: #174EA6;\n",
              "    }\n",
              "\n",
              "    [theme=dark] .colab-df-convert {\n",
              "      background-color: #3B4455;\n",
              "      fill: #D2E3FC;\n",
              "    }\n",
              "\n",
              "    [theme=dark] .colab-df-convert:hover {\n",
              "      background-color: #434B5C;\n",
              "      box-shadow: 0px 1px 3px 1px rgba(0, 0, 0, 0.15);\n",
              "      filter: drop-shadow(0px 1px 2px rgba(0, 0, 0, 0.3));\n",
              "      fill: #FFFFFF;\n",
              "    }\n",
              "  </style>\n",
              "\n",
              "      <script>\n",
              "        const buttonEl =\n",
              "          document.querySelector('#df-81994bb0-77f5-4155-9407-fbeb763997ae button.colab-df-convert');\n",
              "        buttonEl.style.display =\n",
              "          google.colab.kernel.accessAllowed ? 'block' : 'none';\n",
              "\n",
              "        async function convertToInteractive(key) {\n",
              "          const element = document.querySelector('#df-81994bb0-77f5-4155-9407-fbeb763997ae');\n",
              "          const dataTable =\n",
              "            await google.colab.kernel.invokeFunction('convertToInteractive',\n",
              "                                                     [key], {});\n",
              "          if (!dataTable) return;\n",
              "\n",
              "          const docLinkHtml = 'Like what you see? Visit the ' +\n",
              "            '<a target=\"_blank\" href=https://colab.research.google.com/notebooks/data_table.ipynb>data table notebook</a>'\n",
              "            + ' to learn more about interactive tables.';\n",
              "          element.innerHTML = '';\n",
              "          dataTable['output_type'] = 'display_data';\n",
              "          await google.colab.output.renderOutput(dataTable, element);\n",
              "          const docLink = document.createElement('div');\n",
              "          docLink.innerHTML = docLinkHtml;\n",
              "          element.appendChild(docLink);\n",
              "        }\n",
              "      </script>\n",
              "    </div>\n",
              "  </div>\n",
              "  "
            ]
          },
          "metadata": {},
          "execution_count": 62
        }
      ]
    },
    {
      "cell_type": "code",
      "source": [
        "# Convert 'year' and 'month' columns to datetime format\n",
        "df['date'] = pd.to_datetime(df[['year', 'month']].assign(day=1))\n",
        "\n",
        "# Set the 'date' column as the index\n",
        "df.set_index('date', inplace=True)\n",
        "\n",
        "# Select the relevant columns\n",
        "data = df[['average', 'interpolated']]\n",
        "\n",
        "# Remove missing values if any\n",
        "data.dropna(inplace=True)"
      ],
      "metadata": {
        "id": "6UPqL3gx8VwN"
      },
      "execution_count": null,
      "outputs": []
    },
    {
      "cell_type": "code",
      "source": [
        "import matplotlib.pyplot as plt\n",
        "\n",
        "plt.plot(data['interpolated'])"
      ],
      "metadata": {
        "colab": {
          "base_uri": "https://localhost:8080/",
          "height": 447
        },
        "id": "F8qt7Dh1-lE3",
        "outputId": "00170cdf-99db-4127-8498-bd990d1065d6"
      },
      "execution_count": null,
      "outputs": [
        {
          "output_type": "execute_result",
          "data": {
            "text/plain": [
              "[<matplotlib.lines.Line2D at 0x7fdd3ed084c0>]"
            ]
          },
          "metadata": {},
          "execution_count": 64
        },
        {
          "output_type": "display_data",
          "data": {
            "text/plain": [
              "<Figure size 640x480 with 1 Axes>"
            ],
            "image/png": "[encoded data removed]"
          },
          "metadata": {}
        }
      ]
    },
    {
      "cell_type": "code",
      "source": [
        "data"
      ],
      "metadata": {
        "colab": {
          "base_uri": "https://localhost:8080/",
          "height": 455
        },
        "id": "qHFZm-7FDDaV",
        "outputId": "a6033ded-c7d0-4a13-b6fb-9f71717e78cc"
      },
      "execution_count": null,
      "outputs": [
        {
          "output_type": "execute_result",
          "data": {
            "text/plain": [
              "            average  interpolated\n",
              "date                             \n",
              "1958-03-01   315.71        315.71\n",
              "1958-04-01   317.45        317.45\n",
              "1958-05-01   317.50        317.50\n",
              "1958-07-01   315.86        315.86\n",
              "1958-08-01   314.93        314.93\n",
              "...             ...           ...\n",
              "2018-07-01   408.71        408.71\n",
              "2018-08-01   406.99        406.99\n",
              "2018-09-01   405.51        405.51\n",
              "2018-10-01   406.00        406.00\n",
              "2018-11-01   408.02        408.02\n",
              "\n",
              "[722 rows x 2 columns]"
            ],
            "text/html": [
              "\n",
              "  <div id=\"df-4fb6c715-3378-41ba-a376-7249a908f6d6\">\n",
              "    <div class=\"colab-df-container\">\n",
              "      <div>\n",
              "<style scoped>\n",
              "    .dataframe tbody tr th:only-of-type {\n",
              "        vertical-align: middle;\n",
              "    }\n",
              "\n",
              "    .dataframe tbody tr th {\n",
              "        vertical-align: top;\n",
              "    }\n",
              "\n",
              "    .dataframe thead th {\n",
              "        text-align: right;\n",
              "    }\n",
              "</style>\n",
              "<table border=\"1\" class=\"dataframe\">\n",
              "  <thead>\n",
              "    <tr style=\"text-align: right;\">\n",
              "      <th></th>\n",
              "      <th>average</th>\n",
              "      <th>interpolated</th>\n",
              "    </tr>\n",
              "    <tr>\n",
              "      <th>date</th>\n",
              "      <th></th>\n",
              "      <th></th>\n",
              "    </tr>\n",
              "  </thead>\n",
              "  <tbody>\n",
              "    <tr>\n",
              "      <th>1958-03-01</th>\n",
              "      <td>315.71</td>\n",
              "      <td>315.71</td>\n",
              "    </tr>\n",
              "    <tr>\n",
              "      <th>1958-04-01</th>\n",
              "      <td>317.45</td>\n",
              "      <td>317.45</td>\n",
              "    </tr>\n",
              "    <tr>\n",
              "      <th>1958-05-01</th>\n",
              "      <td>317.50</td>\n",
              "      <td>317.50</td>\n",
              "    </tr>\n",
              "    <tr>\n",
              "      <th>1958-07-01</th>\n",
              "      <td>315.86</td>\n",
              "      <td>315.86</td>\n",
              "    </tr>\n",
              "    <tr>\n",
              "      <th>1958-08-01</th>\n",
              "      <td>314.93</td>\n",
              "      <td>314.93</td>\n",
              "    </tr>\n",
              "    <tr>\n",
              "      <th>...</th>\n",
              "      <td>...</td>\n",
              "      <td>...</td>\n",
              "    </tr>\n",
              "    <tr>\n",
              "      <th>2018-07-01</th>\n",
              "      <td>408.71</td>\n",
              "      <td>408.71</td>\n",
              "    </tr>\n",
              "    <tr>\n",
              "      <th>2018-08-01</th>\n",
              "      <td>406.99</td>\n",
              "      <td>406.99</td>\n",
              "    </tr>\n",
              "    <tr>\n",
              "      <th>2018-09-01</th>\n",
              "      <td>405.51</td>\n",
              "      <td>405.51</td>\n",
              "    </tr>\n",
              "    <tr>\n",
              "      <th>2018-10-01</th>\n",
              "      <td>406.00</td>\n",
              "      <td>406.00</td>\n",
              "    </tr>\n",
              "    <tr>\n",
              "      <th>2018-11-01</th>\n",
              "      <td>408.02</td>\n",
              "      <td>408.02</td>\n",
              "    </tr>\n",
              "  </tbody>\n",
              "</table>\n",
              "<p>722 rows × 2 columns</p>\n",
              "</div>\n",
              "      <button class=\"colab-df-convert\" onclick=\"convertToInteractive('df-4fb6c715-3378-41ba-a376-7249a908f6d6')\"\n",
              "              title=\"Convert this dataframe to an interactive table.\"\n",
              "              style=\"display:none;\">\n",
              "        \n",
              "  <svg xmlns=\"http://www.w3.org/2000/svg\" height=\"24px\"viewBox=\"0 0 24 24\"\n",
              "       width=\"24px\">\n",
              "    <path d=\"M0 0h24v24H0V0z\" fill=\"none\"/>\n",
              "    <path d=\"M18.56 5.44l.94 2.06.94-2.06 2.06-.94-2.06-.94-.94-2.06-.94 2.06-2.06.94zm-11 1L8.5 8.5l.94-2.06 2.06-.94-2.06-.94L8.5 2.5l-.94 2.06-2.06.94zm10 10l.94 2.06.94-2.06 2.06-.94-2.06-.94-.94-2.06-.94 2.06-2.06.94z\"/><path d=\"M17.41 7.96l-1.37-1.37c-.4-.4-.92-.59-1.43-.59-.52 0-1.04.2-1.43.59L10.3 9.45l-7.72 7.72c-.78.78-.78 2.05 0 2.83L4 21.41c.39.39.9.59 1.41.59.51 0 1.02-.2 1.41-.59l7.78-7.78 2.81-2.81c.8-.78.8-2.07 0-2.86zM5.41 20L4 18.59l7.72-7.72 1.47 1.35L5.41 20z\"/>\n",
              "  </svg>\n",
              "      </button>\n",
              "      \n",
              "  <style>\n",
              "    .colab-df-container {\n",
              "      display:flex;\n",
              "      flex-wrap:wrap;\n",
              "      gap: 12px;\n",
              "    }\n",
              "\n",
              "    .colab-df-convert {\n",
              "      background-color: #E8F0FE;\n",
              "      border: none;\n",
              "      border-radius: 50%;\n",
              "      cursor: pointer;\n",
              "      display: none;\n",
              "      fill: #1967D2;\n",
              "      height: 32px;\n",
              "      padding: 0 0 0 0;\n",
              "      width: 32px;\n",
              "    }\n",
              "\n",
              "    .colab-df-convert:hover {\n",
              "      background-color: #E2EBFA;\n",
              "      box-shadow: 0px 1px 2px rgba(60, 64, 67, 0.3), 0px 1px 3px 1px rgba(60, 64, 67, 0.15);\n",
              "      fill: #174EA6;\n",
              "    }\n",
              "\n",
              "    [theme=dark] .colab-df-convert {\n",
              "      background-color: #3B4455;\n",
              "      fill: #D2E3FC;\n",
              "    }\n",
              "\n",
              "    [theme=dark] .colab-df-convert:hover {\n",
              "      background-color: #434B5C;\n",
              "      box-shadow: 0px 1px 3px 1px rgba(0, 0, 0, 0.15);\n",
              "      filter: drop-shadow(0px 1px 2px rgba(0, 0, 0, 0.3));\n",
              "      fill: #FFFFFF;\n",
              "    }\n",
              "  </style>\n",
              "\n",
              "      <script>\n",
              "        const buttonEl =\n",
              "          document.querySelector('#df-4fb6c715-3378-41ba-a376-7249a908f6d6 button.colab-df-convert');\n",
              "        buttonEl.style.display =\n",
              "          google.colab.kernel.accessAllowed ? 'block' : 'none';\n",
              "\n",
              "        async function convertToInteractive(key) {\n",
              "          const element = document.querySelector('#df-4fb6c715-3378-41ba-a376-7249a908f6d6');\n",
              "          const dataTable =\n",
              "            await google.colab.kernel.invokeFunction('convertToInteractive',\n",
              "                                                     [key], {});\n",
              "          if (!dataTable) return;\n",
              "\n",
              "          const docLinkHtml = 'Like what you see? Visit the ' +\n",
              "            '<a target=\"_blank\" href=https://colab.research.google.com/notebooks/data_table.ipynb>data table notebook</a>'\n",
              "            + ' to learn more about interactive tables.';\n",
              "          element.innerHTML = '';\n",
              "          dataTable['output_type'] = 'display_data';\n",
              "          await google.colab.output.renderOutput(dataTable, element);\n",
              "          const docLink = document.createElement('div');\n",
              "          docLink.innerHTML = docLinkHtml;\n",
              "          element.appendChild(docLink);\n",
              "        }\n",
              "      </script>\n",
              "    </div>\n",
              "  </div>\n",
              "  "
            ]
          },
          "metadata": {},
          "execution_count": 65
        }
      ]
    },
    {
      "cell_type": "code",
      "source": [
        "train_data = data.iloc[:-12]\n",
        "test_data = data.iloc[-12:]"
      ],
      "metadata": {
        "id": "08KpMO6S8urF"
      },
      "execution_count": null,
      "outputs": []
    },
    {
      "cell_type": "markdown",
      "source": [
        "# SARIMAX MODEL"
      ],
      "metadata": {
        "id": "J5d1uU1EfxKx"
      }
    },
    {
      "cell_type": "code",
      "source": [
        "auto_arima(train_data['interpolated'],seasonal=True, m=12).summary()"
      ],
      "metadata": {
        "colab": {
          "base_uri": "https://localhost:8080/",
          "height": 516
        },
        "id": "rH3y8y2D8vv5",
        "outputId": "5fda2823-d291-42bd-c400-5de5c387921b"
      },
      "execution_count": null,
      "outputs": [
        {
          "output_type": "execute_result",
          "data": {
            "text/plain": [
              "<class 'statsmodels.iolib.summary.Summary'>\n",
              "\"\"\"\n",
              "                                      SARIMAX Results                                       \n",
              "============================================================================================\n",
              "Dep. Variable:                                    y   No. Observations:                  710\n",
              "Model:             SARIMAX(2, 1, 2)x(1, 0, [1], 12)   Log Likelihood                -457.933\n",
              "Date:                              Thu, 01 Jun 2023   AIC                            929.866\n",
              "Time:                                      09:31:40   BIC                            961.813\n",
              "Sample:                                           0   HQIC                           942.208\n",
              "                                              - 710                                         \n",
              "Covariance Type:                                opg                                         \n",
              "==============================================================================\n",
              "                 coef    std err          z      P>|z|      [0.025      0.975]\n",
              "------------------------------------------------------------------------------\n",
              "ar.L1          1.6050      0.028     56.666      0.000       1.549       1.661\n",
              "ar.L2         -0.8608      0.027    -32.480      0.000      -0.913      -0.809\n",
              "ma.L1         -1.6199      0.035    -45.773      0.000      -1.689      -1.551\n",
              "ma.L2          0.7320      0.037     19.813      0.000       0.660       0.804\n",
              "ar.S.L12       0.9642      0.010     92.410      0.000       0.944       0.985\n",
              "ma.S.L12      -0.5775      0.036    -16.094      0.000      -0.648      -0.507\n",
              "sigma2         0.2072      0.008     25.169      0.000       0.191       0.223\n",
              "===================================================================================\n",
              "Ljung-Box (L1) (Q):                   0.03   Jarque-Bera (JB):               170.66\n",
              "Prob(Q):                              0.87   Prob(JB):                         0.00\n",
              "Heteroskedasticity (H):               0.52   Skew:                            -0.01\n",
              "Prob(H) (two-sided):                  0.00   Kurtosis:                         5.40\n",
              "===================================================================================\n",
              "\n",
              "Warnings:\n",
              "[1] Covariance matrix calculated using the outer product of gradients (complex-step).\n",
              "\"\"\""
            ],
            "text/html": [
              "<table class=\"simpletable\">\n",
              "<caption>SARIMAX Results</caption>\n",
              "<tr>\n",
              "  <th>Dep. Variable:</th>                   <td>y</td>                <th>  No. Observations:  </th>    <td>710</td>  \n",
              "</tr>\n",
              "<tr>\n",
              "  <th>Model:</th>           <td>SARIMAX(2, 1, 2)x(1, 0, [1], 12)</td> <th>  Log Likelihood     </th> <td>-457.933</td>\n",
              "</tr>\n",
              "<tr>\n",
              "  <th>Date:</th>                    <td>Thu, 01 Jun 2023</td>         <th>  AIC                </th>  <td>929.866</td>\n",
              "</tr>\n",
              "<tr>\n",
              "  <th>Time:</th>                        <td>09:31:40</td>             <th>  BIC                </th>  <td>961.813</td>\n",
              "</tr>\n",
              "<tr>\n",
              "  <th>Sample:</th>                          <td>0</td>                <th>  HQIC               </th>  <td>942.208</td>\n",
              "</tr>\n",
              "<tr>\n",
              "  <th></th>                              <td> - 710</td>              <th>                     </th>     <td> </td>   \n",
              "</tr>\n",
              "<tr>\n",
              "  <th>Covariance Type:</th>                <td>opg</td>               <th>                     </th>     <td> </td>   \n",
              "</tr>\n",
              "</table>\n",
              "<table class=\"simpletable\">\n",
              "<tr>\n",
              "      <td></td>        <th>coef</th>     <th>std err</th>      <th>z</th>      <th>P>|z|</th>  <th>[0.025</th>    <th>0.975]</th>  \n",
              "</tr>\n",
              "<tr>\n",
              "  <th>ar.L1</th>    <td>    1.6050</td> <td>    0.028</td> <td>   56.666</td> <td> 0.000</td> <td>    1.549</td> <td>    1.661</td>\n",
              "</tr>\n",
              "<tr>\n",
              "  <th>ar.L2</th>    <td>   -0.8608</td> <td>    0.027</td> <td>  -32.480</td> <td> 0.000</td> <td>   -0.913</td> <td>   -0.809</td>\n",
              "</tr>\n",
              "<tr>\n",
              "  <th>ma.L1</th>    <td>   -1.6199</td> <td>    0.035</td> <td>  -45.773</td> <td> 0.000</td> <td>   -1.689</td> <td>   -1.551</td>\n",
              "</tr>\n",
              "<tr>\n",
              "  <th>ma.L2</th>    <td>    0.7320</td> <td>    0.037</td> <td>   19.813</td> <td> 0.000</td> <td>    0.660</td> <td>    0.804</td>\n",
              "</tr>\n",
              "<tr>\n",
              "  <th>ar.S.L12</th> <td>    0.9642</td> <td>    0.010</td> <td>   92.410</td> <td> 0.000</td> <td>    0.944</td> <td>    0.985</td>\n",
              "</tr>\n",
              "<tr>\n",
              "  <th>ma.S.L12</th> <td>   -0.5775</td> <td>    0.036</td> <td>  -16.094</td> <td> 0.000</td> <td>   -0.648</td> <td>   -0.507</td>\n",
              "</tr>\n",
              "<tr>\n",
              "  <th>sigma2</th>   <td>    0.2072</td> <td>    0.008</td> <td>   25.169</td> <td> 0.000</td> <td>    0.191</td> <td>    0.223</td>\n",
              "</tr>\n",
              "</table>\n",
              "<table class=\"simpletable\">\n",
              "<tr>\n",
              "  <th>Ljung-Box (L1) (Q):</th>     <td>0.03</td> <th>  Jarque-Bera (JB):  </th> <td>170.66</td>\n",
              "</tr>\n",
              "<tr>\n",
              "  <th>Prob(Q):</th>                <td>0.87</td> <th>  Prob(JB):          </th>  <td>0.00</td> \n",
              "</tr>\n",
              "<tr>\n",
              "  <th>Heteroskedasticity (H):</th> <td>0.52</td> <th>  Skew:              </th>  <td>-0.01</td>\n",
              "</tr>\n",
              "<tr>\n",
              "  <th>Prob(H) (two-sided):</th>    <td>0.00</td> <th>  Kurtosis:          </th>  <td>5.40</td> \n",
              "</tr>\n",
              "</table><br/><br/>Warnings:<br/>[1] Covariance matrix calculated using the outer product of gradients (complex-step)."
            ]
          },
          "metadata": {},
          "execution_count": 50
        }
      ]
    },
    {
      "cell_type": "code",
      "source": [
        "model=SARIMAX(train_data['interpolated'],order=(2,1,2),seasonal_order=(1,0,1,12)).fit()\n",
        "model.summary()"
      ],
      "metadata": {
        "colab": {
          "base_uri": "https://localhost:8080/",
          "height": 516
        },
        "id": "Gf_dwWtyHwgL",
        "outputId": "fa2f6cd7-2a45-4c68-aeb5-319f031d90f0"
      },
      "execution_count": null,
      "outputs": [
        {
          "output_type": "execute_result",
          "data": {
            "text/plain": [
              "<class 'statsmodels.iolib.summary.Summary'>\n",
              "\"\"\"\n",
              "                                      SARIMAX Results                                       \n",
              "============================================================================================\n",
              "Dep. Variable:                         interpolated   No. Observations:                  710\n",
              "Model:             SARIMAX(2, 1, 2)x(1, 0, [1], 12)   Log Likelihood                -457.933\n",
              "Date:                              Thu, 01 Jun 2023   AIC                            929.866\n",
              "Time:                                      09:31:43   BIC                            961.813\n",
              "Sample:                                           0   HQIC                           942.208\n",
              "                                              - 710                                         \n",
              "Covariance Type:                                opg                                         \n",
              "==============================================================================\n",
              "                 coef    std err          z      P>|z|      [0.025      0.975]\n",
              "------------------------------------------------------------------------------\n",
              "ar.L1          1.6050      0.028     56.666      0.000       1.549       1.661\n",
              "ar.L2         -0.8608      0.027    -32.480      0.000      -0.913      -0.809\n",
              "ma.L1         -1.6199      0.035    -45.773      0.000      -1.689      -1.551\n",
              "ma.L2          0.7320      0.037     19.813      0.000       0.660       0.804\n",
              "ar.S.L12       0.9642      0.010     92.410      0.000       0.944       0.985\n",
              "ma.S.L12      -0.5775      0.036    -16.094      0.000      -0.648      -0.507\n",
              "sigma2         0.2072      0.008     25.169      0.000       0.191       0.223\n",
              "===================================================================================\n",
              "Ljung-Box (L1) (Q):                   0.03   Jarque-Bera (JB):               170.66\n",
              "Prob(Q):                              0.87   Prob(JB):                         0.00\n",
              "Heteroskedasticity (H):               0.52   Skew:                            -0.01\n",
              "Prob(H) (two-sided):                  0.00   Kurtosis:                         5.40\n",
              "===================================================================================\n",
              "\n",
              "Warnings:\n",
              "[1] Covariance matrix calculated using the outer product of gradients (complex-step).\n",
              "\"\"\""
            ],
            "text/html": [
              "<table class=\"simpletable\">\n",
              "<caption>SARIMAX Results</caption>\n",
              "<tr>\n",
              "  <th>Dep. Variable:</th>             <td>interpolated</td>           <th>  No. Observations:  </th>    <td>710</td>  \n",
              "</tr>\n",
              "<tr>\n",
              "  <th>Model:</th>           <td>SARIMAX(2, 1, 2)x(1, 0, [1], 12)</td> <th>  Log Likelihood     </th> <td>-457.933</td>\n",
              "</tr>\n",
              "<tr>\n",
              "  <th>Date:</th>                    <td>Thu, 01 Jun 2023</td>         <th>  AIC                </th>  <td>929.866</td>\n",
              "</tr>\n",
              "<tr>\n",
              "  <th>Time:</th>                        <td>09:31:43</td>             <th>  BIC                </th>  <td>961.813</td>\n",
              "</tr>\n",
              "<tr>\n",
              "  <th>Sample:</th>                          <td>0</td>                <th>  HQIC               </th>  <td>942.208</td>\n",
              "</tr>\n",
              "<tr>\n",
              "  <th></th>                              <td> - 710</td>              <th>                     </th>     <td> </td>   \n",
              "</tr>\n",
              "<tr>\n",
              "  <th>Covariance Type:</th>                <td>opg</td>               <th>                     </th>     <td> </td>   \n",
              "</tr>\n",
              "</table>\n",
              "<table class=\"simpletable\">\n",
              "<tr>\n",
              "      <td></td>        <th>coef</th>     <th>std err</th>      <th>z</th>      <th>P>|z|</th>  <th>[0.025</th>    <th>0.975]</th>  \n",
              "</tr>\n",
              "<tr>\n",
              "  <th>ar.L1</th>    <td>    1.6050</td> <td>    0.028</td> <td>   56.666</td> <td> 0.000</td> <td>    1.549</td> <td>    1.661</td>\n",
              "</tr>\n",
              "<tr>\n",
              "  <th>ar.L2</th>    <td>   -0.8608</td> <td>    0.027</td> <td>  -32.480</td> <td> 0.000</td> <td>   -0.913</td> <td>   -0.809</td>\n",
              "</tr>\n",
              "<tr>\n",
              "  <th>ma.L1</th>    <td>   -1.6199</td> <td>    0.035</td> <td>  -45.773</td> <td> 0.000</td> <td>   -1.689</td> <td>   -1.551</td>\n",
              "</tr>\n",
              "<tr>\n",
              "  <th>ma.L2</th>    <td>    0.7320</td> <td>    0.037</td> <td>   19.813</td> <td> 0.000</td> <td>    0.660</td> <td>    0.804</td>\n",
              "</tr>\n",
              "<tr>\n",
              "  <th>ar.S.L12</th> <td>    0.9642</td> <td>    0.010</td> <td>   92.410</td> <td> 0.000</td> <td>    0.944</td> <td>    0.985</td>\n",
              "</tr>\n",
              "<tr>\n",
              "  <th>ma.S.L12</th> <td>   -0.5775</td> <td>    0.036</td> <td>  -16.094</td> <td> 0.000</td> <td>   -0.648</td> <td>   -0.507</td>\n",
              "</tr>\n",
              "<tr>\n",
              "  <th>sigma2</th>   <td>    0.2072</td> <td>    0.008</td> <td>   25.169</td> <td> 0.000</td> <td>    0.191</td> <td>    0.223</td>\n",
              "</tr>\n",
              "</table>\n",
              "<table class=\"simpletable\">\n",
              "<tr>\n",
              "  <th>Ljung-Box (L1) (Q):</th>     <td>0.03</td> <th>  Jarque-Bera (JB):  </th> <td>170.66</td>\n",
              "</tr>\n",
              "<tr>\n",
              "  <th>Prob(Q):</th>                <td>0.87</td> <th>  Prob(JB):          </th>  <td>0.00</td> \n",
              "</tr>\n",
              "<tr>\n",
              "  <th>Heteroskedasticity (H):</th> <td>0.52</td> <th>  Skew:              </th>  <td>-0.01</td>\n",
              "</tr>\n",
              "<tr>\n",
              "  <th>Prob(H) (two-sided):</th>    <td>0.00</td> <th>  Kurtosis:          </th>  <td>5.40</td> \n",
              "</tr>\n",
              "</table><br/><br/>Warnings:<br/>[1] Covariance matrix calculated using the outer product of gradients (complex-step)."
            ]
          },
          "metadata": {},
          "execution_count": 51
        }
      ]
    },
    {
      "cell_type": "code",
      "source": [
        "start=len(train_data['interpolated'])\n",
        "end=start+len(test_data['interpolated'])-1\n",
        "prediction=model.predict(start,end, index=test_data['interpolated'].index)"
      ],
      "metadata": {
        "id": "UVleMHaiJ9Dt"
      },
      "execution_count": null,
      "outputs": []
    },
    {
      "cell_type": "markdown",
      "source": [
        "# EXPONENTIAL SMOOTHING MODEL"
      ],
      "metadata": {
        "id": "7lpXQbTlf9Tp"
      }
    },
    {
      "cell_type": "code",
      "source": [
        "# Define the Exponential Smoothing model\n",
        "exponential_model = ExponentialSmoothing(train_data['interpolated'], trend='add', seasonal='add', seasonal_periods=12)\n",
        "\n",
        "# Fit the model\n",
        "exponential_model_fit = exponential_model.fit()\n",
        "\n",
        "# Forecast the future values\n",
        "exponential_predictions = exponential_model_fit.forecast(len(test_data['interpolated']))"
      ],
      "metadata": {
        "id": "RJ8rELOZLezG"
      },
      "execution_count": null,
      "outputs": []
    },
    {
      "cell_type": "markdown",
      "source": [
        "# PROPHET MODEL"
      ],
      "metadata": {
        "id": "S_L3nQ0egDy-"
      }
    },
    {
      "cell_type": "code",
      "source": [
        "# Prepare the data for Prophet\n",
        "prophet_data = train_data['interpolated'].reset_index()\n",
        "prophet_data.columns = ['ds', 'y']\n",
        "\n",
        "# Create and fit the Prophet model\n",
        "prophet_model = Prophet()\n",
        "prophet_model.fit(prophet_data)\n",
        "\n",
        "# Make predictions for the test period\n",
        "prophet_predictions = prophet_model.predict(pd.DataFrame({'ds': test_data.index}))\n",
        "\n",
        "# Extract the predicted values for the test period\n",
        "prophet_predicted_values = prophet_predictions['yhat'].values"
      ],
      "metadata": {
        "colab": {
          "base_uri": "https://localhost:8080/"
        },
        "id": "Db88fVqvMiai",
        "outputId": "5c12cd4d-695c-4283-d509-4a8e2f737aec"
      },
      "execution_count": null,
      "outputs": [
        {
          "output_type": "stream",
          "name": "stderr",
          "text": [
            "INFO:prophet:Disabling weekly seasonality. Run prophet with weekly_seasonality=True to override this.\n",
            "INFO:prophet:Disabling daily seasonality. Run prophet with daily_seasonality=True to override this.\n",
            "DEBUG:cmdstanpy:input tempfile: /tmp/tmpio2657ii/qj7rnu3e.json\n",
            "DEBUG:cmdstanpy:input tempfile: /tmp/tmpio2657ii/8zhyqnf5.json\n",
            "DEBUG:cmdstanpy:idx 0\n",
            "DEBUG:cmdstanpy:running CmdStan, num_threads: None\n",
            "DEBUG:cmdstanpy:CmdStan args: ['/usr/local/lib/python3.10/dist-packages/prophet/stan_model/prophet_model.bin', 'random', 'seed=10041', 'data', 'file=/tmp/tmpio2657ii/qj7rnu3e.json', 'init=/tmp/tmpio2657ii/8zhyqnf5.json', 'output', 'file=/tmp/tmpio2657ii/prophet_modeliguigoz3/prophet_model-20230601095228.csv', 'method=optimize', 'algorithm=lbfgs', 'iter=10000']\n",
            "09:52:28 - cmdstanpy - INFO - Chain [1] start processing\n",
            "INFO:cmdstanpy:Chain [1] start processing\n",
            "09:52:29 - cmdstanpy - INFO - Chain [1] done processing\n",
            "INFO:cmdstanpy:Chain [1] done processing\n"
          ]
        }
      ]
    },
    {
      "cell_type": "code",
      "source": [
        "prophet_predicted_values"
      ],
      "metadata": {
        "colab": {
          "base_uri": "https://localhost:8080/"
        },
        "id": "VC1CvWBWRSAV",
        "outputId": "173c6743-d45e-436a-a338-55cb38b79b59"
      },
      "execution_count": null,
      "outputs": [
        {
          "output_type": "execute_result",
          "data": {
            "text/plain": [
              "array([405.75182063, 406.87097345, 407.69613225, 408.6062301 ,\n",
              "       409.95981385, 410.5793448 , 410.07139872, 408.64467679,\n",
              "       406.66412722, 405.16326831, 405.22962084, 406.61097667])"
            ]
          },
          "metadata": {},
          "execution_count": 76
        }
      ]
    },
    {
      "cell_type": "markdown",
      "source": [
        "# TESTING ACCURACY OF EACH FORECAST MODEL"
      ],
      "metadata": {
        "id": "PoK27hHjgO3n"
      }
    },
    {
      "cell_type": "code",
      "source": [
        "from sklearn.metrics import mean_squared_error\n",
        "\n",
        "sarimax_rmse = mean_squared_error(test_data['interpolated'], prediction, squared=False)\n",
        "exponential_rmse = mean_squared_error(test_data['interpolated'], exponential_predictions, squared=False)\n",
        "prophet_rmse = mean_squared_error(test_data['interpolated'], prophet_predicted_values, squared=False)\n",
        "\n",
        "print('SARIMAX Root Mean Squared Error:',sarimax_rmse)\n",
        "print('Exponential Smoothing Root Mean Squared Error:',exponential_rmse)\n",
        "print('Prophet Root Mean Squared Error:',prophet_rmse)"
      ],
      "metadata": {
        "colab": {
          "base_uri": "https://localhost:8080/"
        },
        "id": "1Yvi62h8X8EA",
        "outputId": "8f1d771d-e4ec-4d6c-9b28-10ff5183711c"
      },
      "execution_count": null,
      "outputs": [
        {
          "output_type": "stream",
          "name": "stdout",
          "text": [
            "SARIMAX Root Mean Squared Error: 0.43246388912696504\n",
            "Exponential Smoothing Root Mean Squared Error: 0.4708889929014366\n",
            "Prophet Root Mean Squared Error: 0.7736197721585122\n"
          ]
        }
      ]
    },
    {
      "cell_type": "markdown",
      "source": [
        "# PREDICTION ON THE FULL DATA SET"
      ],
      "metadata": {
        "id": "Run4MYa9gasy"
      }
    },
    {
      "cell_type": "markdown",
      "source": [
        "## SARIMAX PREDICTION"
      ],
      "metadata": {
        "id": "qNekdP80gkED"
      }
    },
    {
      "cell_type": "code",
      "source": [
        "auto_arima(data['interpolated'],seasonal=True, m=12).summary()"
      ],
      "metadata": {
        "colab": {
          "base_uri": "https://localhost:8080/",
          "height": 601
        },
        "id": "k-lNxNFIaB18",
        "outputId": "d073dfb5-5d6a-4fa0-a1d9-6ffef0b62662"
      },
      "execution_count": null,
      "outputs": [
        {
          "output_type": "execute_result",
          "data": {
            "text/plain": [
              "<class 'statsmodels.iolib.summary.Summary'>\n",
              "\"\"\"\n",
              "                                      SARIMAX Results                                       \n",
              "============================================================================================\n",
              "Dep. Variable:                                    y   No. Observations:                  722\n",
              "Model:             SARIMAX(4, 1, 2)x(2, 0, [1], 12)   Log Likelihood                -461.685\n",
              "Date:                              Thu, 01 Jun 2023   AIC                            945.371\n",
              "Time:                                      10:13:32   BIC                            995.758\n",
              "Sample:                                           0   HQIC                           964.821\n",
              "                                              - 722                                         \n",
              "Covariance Type:                                opg                                         \n",
              "==============================================================================\n",
              "                 coef    std err          z      P>|z|      [0.025      0.975]\n",
              "------------------------------------------------------------------------------\n",
              "intercept      0.0033      0.002      1.993      0.046    5.53e-05       0.007\n",
              "ar.L1          0.0442      0.128      0.346      0.729      -0.206       0.294\n",
              "ar.L2          0.6228      0.117      5.335      0.000       0.394       0.852\n",
              "ar.L3         -0.2632      0.032     -8.260      0.000      -0.326      -0.201\n",
              "ar.L4         -0.2610      0.035     -7.472      0.000      -0.329      -0.193\n",
              "ma.L1         -0.0554      0.127     -0.435      0.663      -0.305       0.194\n",
              "ma.L2         -0.7221      0.119     -6.060      0.000      -0.956      -0.489\n",
              "ar.S.L12       1.0786      0.089     12.063      0.000       0.903       1.254\n",
              "ar.S.L24      -0.1089      0.081     -1.347      0.178      -0.267       0.050\n",
              "ma.S.L12      -0.6063      0.079     -7.706      0.000      -0.760      -0.452\n",
              "sigma2         0.2052      0.008     25.455      0.000       0.189       0.221\n",
              "===================================================================================\n",
              "Ljung-Box (L1) (Q):                   0.05   Jarque-Bera (JB):               184.51\n",
              "Prob(Q):                              0.82   Prob(JB):                         0.00\n",
              "Heteroskedasticity (H):               0.53   Skew:                            -0.07\n",
              "Prob(H) (two-sided):                  0.00   Kurtosis:                         5.47\n",
              "===================================================================================\n",
              "\n",
              "Warnings:\n",
              "[1] Covariance matrix calculated using the outer product of gradients (complex-step).\n",
              "\"\"\""
            ],
            "text/html": [
              "<table class=\"simpletable\">\n",
              "<caption>SARIMAX Results</caption>\n",
              "<tr>\n",
              "  <th>Dep. Variable:</th>                   <td>y</td>                <th>  No. Observations:  </th>    <td>722</td>  \n",
              "</tr>\n",
              "<tr>\n",
              "  <th>Model:</th>           <td>SARIMAX(4, 1, 2)x(2, 0, [1], 12)</td> <th>  Log Likelihood     </th> <td>-461.685</td>\n",
              "</tr>\n",
              "<tr>\n",
              "  <th>Date:</th>                    <td>Thu, 01 Jun 2023</td>         <th>  AIC                </th>  <td>945.371</td>\n",
              "</tr>\n",
              "<tr>\n",
              "  <th>Time:</th>                        <td>10:13:32</td>             <th>  BIC                </th>  <td>995.758</td>\n",
              "</tr>\n",
              "<tr>\n",
              "  <th>Sample:</th>                          <td>0</td>                <th>  HQIC               </th>  <td>964.821</td>\n",
              "</tr>\n",
              "<tr>\n",
              "  <th></th>                              <td> - 722</td>              <th>                     </th>     <td> </td>   \n",
              "</tr>\n",
              "<tr>\n",
              "  <th>Covariance Type:</th>                <td>opg</td>               <th>                     </th>     <td> </td>   \n",
              "</tr>\n",
              "</table>\n",
              "<table class=\"simpletable\">\n",
              "<tr>\n",
              "      <td></td>         <th>coef</th>     <th>std err</th>      <th>z</th>      <th>P>|z|</th>  <th>[0.025</th>    <th>0.975]</th>  \n",
              "</tr>\n",
              "<tr>\n",
              "  <th>intercept</th> <td>    0.0033</td> <td>    0.002</td> <td>    1.993</td> <td> 0.046</td> <td> 5.53e-05</td> <td>    0.007</td>\n",
              "</tr>\n",
              "<tr>\n",
              "  <th>ar.L1</th>     <td>    0.0442</td> <td>    0.128</td> <td>    0.346</td> <td> 0.729</td> <td>   -0.206</td> <td>    0.294</td>\n",
              "</tr>\n",
              "<tr>\n",
              "  <th>ar.L2</th>     <td>    0.6228</td> <td>    0.117</td> <td>    5.335</td> <td> 0.000</td> <td>    0.394</td> <td>    0.852</td>\n",
              "</tr>\n",
              "<tr>\n",
              "  <th>ar.L3</th>     <td>   -0.2632</td> <td>    0.032</td> <td>   -8.260</td> <td> 0.000</td> <td>   -0.326</td> <td>   -0.201</td>\n",
              "</tr>\n",
              "<tr>\n",
              "  <th>ar.L4</th>     <td>   -0.2610</td> <td>    0.035</td> <td>   -7.472</td> <td> 0.000</td> <td>   -0.329</td> <td>   -0.193</td>\n",
              "</tr>\n",
              "<tr>\n",
              "  <th>ma.L1</th>     <td>   -0.0554</td> <td>    0.127</td> <td>   -0.435</td> <td> 0.663</td> <td>   -0.305</td> <td>    0.194</td>\n",
              "</tr>\n",
              "<tr>\n",
              "  <th>ma.L2</th>     <td>   -0.7221</td> <td>    0.119</td> <td>   -6.060</td> <td> 0.000</td> <td>   -0.956</td> <td>   -0.489</td>\n",
              "</tr>\n",
              "<tr>\n",
              "  <th>ar.S.L12</th>  <td>    1.0786</td> <td>    0.089</td> <td>   12.063</td> <td> 0.000</td> <td>    0.903</td> <td>    1.254</td>\n",
              "</tr>\n",
              "<tr>\n",
              "  <th>ar.S.L24</th>  <td>   -0.1089</td> <td>    0.081</td> <td>   -1.347</td> <td> 0.178</td> <td>   -0.267</td> <td>    0.050</td>\n",
              "</tr>\n",
              "<tr>\n",
              "  <th>ma.S.L12</th>  <td>   -0.6063</td> <td>    0.079</td> <td>   -7.706</td> <td> 0.000</td> <td>   -0.760</td> <td>   -0.452</td>\n",
              "</tr>\n",
              "<tr>\n",
              "  <th>sigma2</th>    <td>    0.2052</td> <td>    0.008</td> <td>   25.455</td> <td> 0.000</td> <td>    0.189</td> <td>    0.221</td>\n",
              "</tr>\n",
              "</table>\n",
              "<table class=\"simpletable\">\n",
              "<tr>\n",
              "  <th>Ljung-Box (L1) (Q):</th>     <td>0.05</td> <th>  Jarque-Bera (JB):  </th> <td>184.51</td>\n",
              "</tr>\n",
              "<tr>\n",
              "  <th>Prob(Q):</th>                <td>0.82</td> <th>  Prob(JB):          </th>  <td>0.00</td> \n",
              "</tr>\n",
              "<tr>\n",
              "  <th>Heteroskedasticity (H):</th> <td>0.53</td> <th>  Skew:              </th>  <td>-0.07</td>\n",
              "</tr>\n",
              "<tr>\n",
              "  <th>Prob(H) (two-sided):</th>    <td>0.00</td> <th>  Kurtosis:          </th>  <td>5.47</td> \n",
              "</tr>\n",
              "</table><br/><br/>Warnings:<br/>[1] Covariance matrix calculated using the outer product of gradients (complex-step)."
            ]
          },
          "metadata": {},
          "execution_count": 78
        }
      ]
    },
    {
      "cell_type": "code",
      "source": [
        "start=len(data['interpolated'])\n",
        "end=start+ 19\n",
        "model=SARIMAX(data['interpolated'],order=(4,1,2),seasonal_order=(2,0,1,12)).fit()\n",
        "prediction=model.predict(start,end)"
      ],
      "metadata": {
        "id": "jzIwKB1gam6E"
      },
      "execution_count": null,
      "outputs": []
    },
    {
      "cell_type": "code",
      "source": [
        "prediction"
      ],
      "metadata": {
        "colab": {
          "base_uri": "https://localhost:8080/"
        },
        "id": "jpFBvim0eRo7",
        "outputId": "465a00e1-214d-447a-8dff-c74908c14218"
      },
      "execution_count": null,
      "outputs": [
        {
          "output_type": "execute_result",
          "data": {
            "text/plain": [
              "722    409.422591\n",
              "723    410.510398\n",
              "724    410.814016\n",
              "725    411.599420\n",
              "726    412.804460\n",
              "727    413.517295\n",
              "728    412.925253\n",
              "729    411.088781\n",
              "730    409.339317\n",
              "731    407.938531\n",
              "732    408.374746\n",
              "733    410.100626\n",
              "734    411.453259\n",
              "735    412.529414\n",
              "736    412.911785\n",
              "737    413.737646\n",
              "738    414.980929\n",
              "739    415.680484\n",
              "740    415.088944\n",
              "741    413.288763\n",
              "Name: predicted_mean, dtype: float64"
            ]
          },
          "metadata": {},
          "execution_count": 95
        }
      ]
    },
    {
      "cell_type": "markdown",
      "source": [
        "## EXPONENTIAL SMOOTHING PREDICTION"
      ],
      "metadata": {
        "id": "rXwSHipzgr5_"
      }
    },
    {
      "cell_type": "code",
      "source": [
        "Exponential_smoothing = ExponentialSmoothing(data['interpolated'],\n",
        "                                     trend = 'add', seasonal = 'add', seasonal_periods=12).fit()"
      ],
      "metadata": {
        "id": "nkDFGb80bvGV"
      },
      "execution_count": null,
      "outputs": []
    },
    {
      "cell_type": "code",
      "source": [
        "forecasted_smoothing = Exponential_smoothing.forecast(steps=20)"
      ],
      "metadata": {
        "id": "0khUmN0zb5gi"
      },
      "execution_count": null,
      "outputs": []
    },
    {
      "cell_type": "code",
      "source": [
        "forecasted_smoothing[:21]"
      ],
      "metadata": {
        "colab": {
          "base_uri": "https://localhost:8080/"
        },
        "id": "azo1RBmXeeUG",
        "outputId": "9ef3cc68-fa52-410c-98f9-a5d0d4e42764"
      },
      "execution_count": null,
      "outputs": [
        {
          "output_type": "execute_result",
          "data": {
            "text/plain": [
              "722    408.960899\n",
              "723    410.191820\n",
              "724    410.616523\n",
              "725    411.658198\n",
              "726    412.845052\n",
              "727    413.876734\n",
              "728    413.368130\n",
              "729    411.333882\n",
              "730    409.507458\n",
              "731    407.920898\n",
              "732    408.303982\n",
              "733    409.589921\n",
              "734    411.167484\n",
              "735    412.398405\n",
              "736    412.823107\n",
              "737    413.864783\n",
              "738    415.051637\n",
              "739    416.083318\n",
              "740    415.574715\n",
              "741    413.540466\n",
              "dtype: float64"
            ]
          },
          "metadata": {},
          "execution_count": 93
        }
      ]
    },
    {
      "cell_type": "markdown",
      "source": [
        "## PROPHET PREDICTION"
      ],
      "metadata": {
        "id": "PoP80Rv9gxo8"
      }
    },
    {
      "cell_type": "code",
      "source": [
        "prophet_model = Prophet()\n",
        "prophet_data = data[['interpolated']].reset_index()\n",
        "prophet_data.columns = ['ds', 'y']\n",
        "# Retrain the Prophet model on the full data set\n",
        "prophet_model.fit(prophet_data)\n",
        "\n",
        "# Generate future dates\n",
        "future_dates = pd.date_range(start='2019-01-01', periods=20, freq='MS')\n",
        "\n",
        "# Make predictions for the future dates\n",
        "prophet_forecast = prophet_model.predict(pd.DataFrame({'ds': future_dates}))\n",
        "\n",
        "# Extract the predicted values for the future dates\n",
        "prophet_predicted_future = prophet_forecast['yhat'].values"
      ],
      "metadata": {
        "colab": {
          "base_uri": "https://localhost:8080/"
        },
        "id": "mwRXJMq1c7Se",
        "outputId": "77deacbb-cfd2-4087-aaec-45c5077a010c"
      },
      "execution_count": null,
      "outputs": [
        {
          "output_type": "stream",
          "name": "stderr",
          "text": [
            "INFO:prophet:Disabling weekly seasonality. Run prophet with weekly_seasonality=True to override this.\n",
            "INFO:prophet:Disabling daily seasonality. Run prophet with daily_seasonality=True to override this.\n",
            "DEBUG:cmdstanpy:input tempfile: /tmp/tmpio2657ii/k5lxdtv8.json\n",
            "DEBUG:cmdstanpy:input tempfile: /tmp/tmpio2657ii/zjdkea1m.json\n",
            "DEBUG:cmdstanpy:idx 0\n",
            "DEBUG:cmdstanpy:running CmdStan, num_threads: None\n",
            "DEBUG:cmdstanpy:CmdStan args: ['/usr/local/lib/python3.10/dist-packages/prophet/stan_model/prophet_model.bin', 'random', 'seed=20656', 'data', 'file=/tmp/tmpio2657ii/k5lxdtv8.json', 'init=/tmp/tmpio2657ii/zjdkea1m.json', 'output', 'file=/tmp/tmpio2657ii/prophet_modelkoje71i9/prophet_model-20230601101756.csv', 'method=optimize', 'algorithm=lbfgs', 'iter=10000']\n",
            "10:17:56 - cmdstanpy - INFO - Chain [1] start processing\n",
            "INFO:cmdstanpy:Chain [1] start processing\n",
            "10:17:57 - cmdstanpy - INFO - Chain [1] done processing\n",
            "INFO:cmdstanpy:Chain [1] done processing\n"
          ]
        }
      ]
    },
    {
      "cell_type": "code",
      "source": [
        "prophet_predicted_future"
      ],
      "metadata": {
        "colab": {
          "base_uri": "https://localhost:8080/"
        },
        "id": "7okVHuq1dose",
        "outputId": "53e9a6af-d36a-4822-d679-bd7acd0105c1"
      },
      "execution_count": null,
      "outputs": [
        {
          "output_type": "execute_result",
          "data": {
            "text/plain": [
              "array([409.40537232, 410.2240731 , 411.0812997 , 412.45487502,\n",
              "       413.12411108, 412.63244439, 411.19775723, 409.18344076,\n",
              "       407.70854848, 407.76308866, 409.16008687, 410.52441424,\n",
              "       411.67423367, 412.49844019, 413.48489247, 414.78268459,\n",
              "       415.34388406, 414.81354403, 413.36988273, 411.47869336])"
            ]
          },
          "metadata": {},
          "execution_count": 90
        }
      ]
    },
    {
      "cell_type": "code",
      "source": [],
      "metadata": {
        "id": "cDQKA1onfDfG"
      },
      "execution_count": null,
      "outputs": []
    }
  ]
}