{
 "cells": [
  {
   "cell_type": "code",
   "execution_count": 1,
   "id": "2c59a817",
   "metadata": {},
   "outputs": [
    {
     "name": "stdout",
     "output_type": "stream",
     "text": [
      "0.0001\n",
      "0.2001\n",
      "0.4001\n",
      "0.6001000000000001\n",
      "0.8001\n",
      "1.0001\n",
      "1.2001000000000002\n",
      "1.4001000000000001\n",
      "1.6001\n",
      "1.8001\n",
      "2.0001\n",
      "2.2001000000000004\n",
      "2.4001000000000006\n",
      "2.6001000000000003\n",
      "2.8001000000000005\n"
     ]
    },
    {
     "data": {
      "image/png": "[encoded data removed]",
      "text/plain": [
       "<Figure size 432x288 with 1 Axes>"
      ]
     },
     "metadata": {
      "needs_background": "light"
     },
     "output_type": "display_data"
    },
    {
     "data": {
      "image/png": "[encoded data removed]",
      "text/plain": [
       "<Figure size 432x288 with 1 Axes>"
      ]
     },
     "metadata": {
      "needs_background": "light"
     },
     "output_type": "display_data"
    },
    {
     "data": {
      "image/png": "[encoded data removed]",
      "text/plain": [
       "<Figure size 432x288 with 1 Axes>"
      ]
     },
     "metadata": {
      "needs_background": "light"
     },
     "output_type": "display_data"
    },
    {
     "data": {
      "image/png": "[encoded data removed]",
      "text/plain": [
       "<Figure size 432x288 with 1 Axes>"
      ]
     },
     "metadata": {
      "needs_background": "light"
     },
     "output_type": "display_data"
    }
   ],
   "source": [
    "import numpy as np\n",
    "import matplotlib.pyplot as plt\n",
    "\n",
    "\n",
    "def mc_step(lattice, beta):\n",
    "    \"\"\"Single Monte Carlo step (includes N updates of spins)\"\"\"\n",
    "    _, N = lattice.shape\n",
    "    for i in range(N):\n",
    "        # update(i, lattice, N, beta)\n",
    "        update(np.random.randint(0, N), lattice, N, beta)\n",
    "\n",
    "\n",
    "def get_energy(lattice):\n",
    "    \"\"\"Return energy per spin (total energy / N), J = 1\"\"\"\n",
    "    E, E2 = 0, 0\n",
    "    _, N = lattice.shape\n",
    "    for i in range(N):\n",
    "        temp = lattice[0, i] * lattice[0, (i + 1) % N]\n",
    "        E -= temp\n",
    "    return E / N\n",
    "\n",
    "\n",
    "def update(index, lattice, N, T):\n",
    "    \"\"\"\n",
    "    Update a single spin according to Metropolis algorithm.\n",
    "    k = 1: Boltzmann constant\n",
    "\n",
    "    Arguments:\n",
    "        index (int): index of a chosen spin to update\n",
    "        lattice (array): lattice of spins\n",
    "        N (int): size of the lattice\n",
    "        T (float): temperature\n",
    "    \"\"\"\n",
    "    dE = 0\n",
    "    for i in [index - 1, index + 1]:\n",
    "        dE += lattice[0, i % N]\n",
    "    dE = 2 * dE * lattice[0, index]\n",
    "    if dE <= 0:\n",
    "        lattice[0, index] *= -1\n",
    "    elif np.exp(-dE / T) > np.random.rand():\n",
    "        lattice[0, index] *= -1\n",
    "\n",
    "\n",
    "def single_simulation(N, p, mc_steps, T, mc_steps_ave):\n",
    "    lattice = np.random.choice([-1, 1], size=(1, N), p=[1 - p, p])\n",
    "\n",
    "    M = np.zeros((1, mc_steps_ave))\n",
    "    E = np.zeros((1, mc_steps_ave))\n",
    "\n",
    "    for t in range(mc_steps):\n",
    "        mc_step(lattice, T)\n",
    "    for t in range(mc_steps_ave):\n",
    "        M[0, t] = np.mean(lattice)\n",
    "        E[0, t] = get_energy(lattice)\n",
    "        mc_step(lattice, T)\n",
    "\n",
    "    m_ave = np.mean(abs(M))  # magnetization\n",
    "    E_ave = np.mean(E)  # energy\n",
    "    X = (np.mean(M ** 2) - m_ave ** 2) / T * N  # magnetic susceptibility\n",
    "    C = (np.mean(E ** 2) - E_ave ** 2) / T ** 2 * N  # specific heat\n",
    "    return m_ave, E_ave, X, C\n",
    "\n",
    "\n",
    "def monte_carlo_simulation(N, p, mc_steps, T, num, mc_steps_ave):\n",
    "    mean_m, mean_E, mean_X, mean_C = 0, 0, 0, 0\n",
    "    for i in range(num):\n",
    "        m, E, X, C = single_simulation(N, p, mc_steps, T, mc_steps_ave)\n",
    "        mean_m += m\n",
    "        mean_E += E\n",
    "        mean_X += X\n",
    "        mean_C += C\n",
    "\n",
    "    mean_m /= num\n",
    "    mean_E /= num\n",
    "    mean_X /= num\n",
    "    mean_C /= num\n",
    "    return mean_m, mean_E, mean_X, mean_C\n",
    "\n",
    "\n",
    "T_min = 1e-4\n",
    "T_max = 3\n",
    "dT = 0.2\n",
    "N = 50\n",
    "\n",
    "T = np.arange(T_min, T_max, dT)\n",
    "M = np.zeros(shape=T.shape)\n",
    "E = np.zeros(shape=T.shape)\n",
    "X = np.zeros(shape=T.shape)\n",
    "C = np.zeros(shape=T.shape)\n",
    "\n",
    "for i, temperature in enumerate(T):\n",
    "    print(temperature)\n",
    "    M[i], E[i], X[i], C[i] = monte_carlo_simulation(N, p=1, mc_steps=100, T=temperature, num=1, mc_steps_ave=1000)\n",
    "\n",
    "plt.plot(T, M, '.')\n",
    "plt.ylabel(\"Magnetization\")\n",
    "plt.xlabel(\"T\")\n",
    "plt.show()\n",
    "\n",
    "plt.plot(T, X, '.')\n",
    "plt.ylabel(\"Magnetic susceptibility\")\n",
    "plt.xlabel(\"T\")\n",
    "plt.show()\n",
    "\n",
    "plt.plot(T, E, '.')\n",
    "plt.ylabel(\"Energy\")\n",
    "plt.xlabel(\"T\")\n",
    "plt.show()\n",
    "\n",
    "plt.plot(T, C, '.')\n",
    "plt.ylabel(\"Specific heat\")\n",
    "plt.xlabel(\"T\")\n",
    "plt.show()"
   ]
  },
  {
   "cell_type": "code",
   "execution_count": null,
   "id": "7d563981",
   "metadata": {},
   "outputs": [],
   "source": []
  }
 ],
 "metadata": {
  "kernelspec": {
   "display_name": "Python 3 (ipykernel)",
   "language": "python",
   "name": "python3"
  },
  "language_info": {
   "codemirror_mode": {
    "name": "ipython",
    "version": 3
   },
   "file_extension": ".py",
   "mimetype": "text/x-python",
   "name": "python",
   "nbconvert_exporter": "python",
   "pygments_lexer": "ipython3",
   "version": "3.9.12"
  }
 },
 "nbformat": 4,
 "nbformat_minor": 5
}
