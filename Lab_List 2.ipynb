{
 "cells": [
  {
   "cell_type": "code",
   "execution_count": 18,
   "id": "529d581a",
   "metadata": {},
   "outputs": [
    {
     "name": "stdout",
     "output_type": "stream",
     "text": [
      "Enter a random number: \n",
      "2\n",
      "Enter a random number: \n",
      "s\n",
      "Enter a random number: \n",
      "3\n",
      "Enter a random number: \n",
      "f\n",
      "The new list is: [2, 0, 3, 0]\n",
      "The number inputs are: 4\n",
      "The sum of numbers is: 5\n"
     ]
    }
   ],
   "source": [
    "def num(n):\n",
    "    lst = []\n",
    "    for i in range(n):\n",
    "        print(\"Enter a random number: \")\n",
    "        number = input()\n",
    "        if number.isdigit():\n",
    "            lst.append(int(number))\n",
    "            \n",
    "        else:\n",
    "            lst.append(int(0))\n",
    "    print(\"The new list is:\", list(lst))        \n",
    "    print(\"The number inputs are:\" ,len(lst))\n",
    "    print(\"The sum of numbers is:\" ,sum(lst))\n",
    "          \n",
    "num(4)            "
   ]
  },
  {
   "cell_type": "code",
   "execution_count": 21,
   "id": "21bd10cc",
   "metadata": {},
   "outputs": [
    {
     "name": "stdout",
     "output_type": "stream",
     "text": [
      "0\n",
      "1\n",
      "2\n",
      "3\n",
      "4\n",
      "5\n",
      "i is no longer less than 6\n"
     ]
    }
   ],
   "source": [
    "i =0\n",
    "while i < 6:\n",
    "  print(i)\n",
    "  i += 1\n",
    "else:\n",
    "    print(\"i is no longer less than 6\")"
   ]
  },
  {
   "cell_type": "code",
   "execution_count": 7,
   "id": "9f795353",
   "metadata": {
    "scrolled": true
   },
   "outputs": [
    {
     "name": "stdout",
     "output_type": "stream",
     "text": [
      "Original text: Albert Einstein, born in Germany, was a prominent theoretical physicist.\n",
      "Translated text: Al14rt E8nst48n, 1orn 8n G4rm0ny, w0s 0 prom8n4nt t74or4t820l p7ys828st.\n"
     ]
    }
   ],
   "source": [
    "table = str.maketrans(\"abcdefghij\", \"0123456789\")\n",
    "\n",
    "text = \"Albert Einstein, born in Germany, was a prominent theoretical physicist.\"\n",
    "\n",
    "translated = text.translate(table)\n",
    "\n",
    "print(\"Original text:\", text)\n",
    "\n",
    "print(\"Translated text:\", translated)"
   ]
  },
  {
   "cell_type": "code",
   "execution_count": 8,
   "id": "12f4a8c6",
   "metadata": {},
   "outputs": [
    {
     "name": "stdout",
     "output_type": "stream",
     "text": [
      "The Devoted Friend By Oscar Wilde One morning the old Waterrat put his head out of his hole He had bright beady eyes and stiff grey whiskers and his tail was like a long bit of black indiarubber The little ducks were swimming about in the pond looking just like a lot of yellow canaries and their mother who was pure white with real red legs was trying to teach them how to stand on their heads in the water You will never be in the best society unless you can stand on your heads she kept saying to them and every now and there she showed them how it was done But the little ducks paid no attention to her They were so young that they did not know what an advantage it is to be in society at all What disobedient children cried the old Waterrat they really deserve to be drowned Nothing of the kind answered the Duck every one must make a beginning and parents cannot be too patient Ah I know nothing about the feelings of parents said the Waterrat I am not a family man In fact I have never been married and I never intend to be Love is all very well in its way but friendship is much higher Indeed I know of nothing in the world that is either nobler or rarer than a devoted friendship And what pray is your idea of the duties of a devoted friend asked a Green Linnet who was sitting in a willow tree hard by and had overheard the conversation Yes that is just what I want to know said the Duck and she swam away to the end of the pond and stood upon her head in order to give her children a good example What a silly question cried the Waterrat I should expect my devoted friend to be devoted to me of course And what would you do in return said the little bird swinging upon a silver spray and flapping his tiny wings I dont understand you answered the Waterrat Let me tell you a story on the subject said the Linnet Is the story about me asked the Waterrat If so I will listen to it for I am extremely fond of fiction It is applicable to you answered the Linnet and he flew down and alighting upon the bank he told the story of The Devoted Friend Once upon a time said the Linnet there was an honest little fellow named Hans Was he very distinguished asked the Waterrat No answered the Linnet I dont think he was distinguished at all except for his kind heart and his funny round goodhumoured face He lived in a tiny cottage all by himself and every day he worked in his garden In all the countryside there was no garden so lovely as his Sweet William grew there and Gillyflowers and Shepherdspurses and Fairmaids of France There were damask Roses and yellow Roses lilac Crocuses and gold purple Violets and white Columbine and Ladysmock Marjoram and Wild Basil the Cowslip and the Flowerdeluce the Daffodil and the ClovePink bloomed or blossomed in their proper order as the months went by one flower taking another flowers place so that there were always beautiful things to look at and pleasant odours to smell Little Hans had a great many friends but the most devoted friend of all was big Hugh the Miller Indeed so devoted was the rich Miller to little Hans that he would never go by his garden without leaning over the wall and plucking a large nosegay or a handful of sweet herbs or filling his pockets with plums and cherries if it was the fruit season Real friends should have everything in common the Miller used to say and little Hans nodded and smiled and felt very proud of having a friend with such noble ideas Sometimes indeed the neighbours thought it strange that the rich Miller never gave little Hans anything in return though he had a hundred sacks of flour stored away in his mill and six milch cows and a large flock of woolly sheep but Hans never troubled his head about these things and nothing gave him greater pleasure than to listen to all the wonderful things the Miller used to say about the unselfishness of true friendship So little Hans worked away in his garden During the spring the summer and the autumn he was very happy but when the winter came and he had no fruit or flowers to bring to the market he suffered a brood deal from cold and hunger and often had to go to bed without any supper but a few dried pears or some hard nuts In the winter also he was extremely lonely as the Miller never came to see him then There is no good in my going to see little Hans as long as the snow lasts the Miller used to say to his wife for when people are in trouble they should be left alone and not be bothered by visitors That at least is my idea about friendship and I am sure I am right So I shall wait till the spring comes and then I shall pay him a visit and he will be able to give me a large basket of primroses and that will make him so happy You are certainly very thoughtful about others answered the Wife as she sat in her comfortable armchair by the big pinewood tire very thoughtful indeed It is quite a treat to hear you talk about friendship I am sure the clergyman himself could not say such beautiful things as you do though he does live in a threestoried house and wear a gold ring on his little finger But could we riot ask little Hans up here said the Millers youngest son If poor Hans is in trouble I will give him half my porridge and show him my white rabbits What a silly boy you are cried the Miller I really dont know what is the use of sending you to school You seem not to learn anything Why if little Hans came up here and saw our warm tire and our good supper and our great cask of red wine he might get envious and envy is a most terrible thing and would spoil anybodys nature I certainly will not allow Hanss nature to be spoiled I am his best friend and I will always watch over him and see that he is not led into any temptations Besides if Hans came here he night ask me to let him have some flour on credit and that I could not do Flour is one thing and friendship is another and they should not be confused Why the words are spelt differently and mean quite different things Everybody can see that How well you talk said the Millers Wife pouring herself out a large glass of warm ale really I feel quite drowsy It is just like being in church Lots of people act well answered the Miller but very few people talk well which shows that talking is much the more difficult thing of the two and much the finer thing also and he looked sternly across the table at his little son who felt so ashamed of himself that he hung his head down and grew quite scarlet and began to cry into his tea However he was so young that you must excuse him Is that the end of the story asked the Waterrat Certainly not answered the Linnet that is the beginning Then you are quite behind the age said the Waterrat Every good storyteller nowadays starts with the end and then goes on to the beginning and concludes with the middle That is the new method I heard all about it the other day from a critic who was walking round the pond with a young man He spoke of the matter at great length and I am sure he must have been right for he had blue spectacles and a bald head and whenever the young man made any remark he always answered Pooh But pray go on with your story I like the Miller immensely I have all kinds of beautiful sentiments myself so there is a great sympathy between us Well said the Linnet hopping now on one leg and now on the other as soon as the winter was over and the primroses began to open their pale yellow stars the miller said to his wife that he would go down and see little Hans Why what a good heart you have cried his Wife you are always thinking of others And mind you take the big basket with you for the flowers So the Miller tied the sails of the windmill together with a strong iron chain and went down the hill with the basket on his arm Good morning little Hans said the Miller Good morning said Hans leaning on his spade and smiling from ear to ear And how have you been all the winter said the Miller Well really cried Hans it is very good of you to ask very good indeed I am afraid I had rather a hard time of it but now the spring has come and I am quite happy and all my flowers are doing well We often talked of you during the winter Hans said the Miller and wondered how you were getting on That was kind of you said Hans I was half afraid you had forgotten me Hans I am surprised at you said the Miller friendship never forgets That is the wonderful thing about it but I am afraid you dont understand the poetry of life How lovely your primroses are looking bythebye They are certainly very lovely said Hans and it is a most lucky thing for me that I have so many I am going to bring them into the market and sell them to the Burgomasters daughter and buy back my wheelbarrow with the money Buy back your wheelbarrow You dont mean to say you have sold it What a very stupid thing to do Well the fact is said Hans that I was obliged to You see the winter was a very bad time for me and I really had no money at all to buy bread with So I first sold the silver buttons off my Sunday coat and then I sold my silver chain and then I sold my big pipe and at last I sold my wheelbarrow But I am going to buy them all back again now Hans said the Miller I will give you my wheelbarrow It is not in very good repair indeed one side is gone and there is something wrong with the wheelspokes but in spite of that I will give it to you I know it is very generous of me and a great many people would think me extremely foolish for parting with it but I am not like the rest of the world I think that generosity is the essence of friendship and besides I have got a new wheelbarrow for myself Yes you may set your mind at ease I will give you my wheelbarrow Well really that is generous of you said little Hans and his funny round face glowed all over with pleasure I can easily put it in repair as I have a plank of wood in the house A plank of wood said the Miller why that is just what I want for the roof of my barn There is a very large hole in it and the corn will all get damp if I dont stop it up How lucky you mentioned it It is quite remarkable how one good action always breeds another I have given you my wheelbarrow and now you are going to give me your plank Of course the wheelbarrow is worth far more than the plank but true friendship never notices things like that Pray get it at once and I will set to work at my barn this very day Certainly cried little Hans and he ran into the shed and dragged the plank out It is not a very big plank said the Miller looking at it and I am afraid that after I have mended my barnroof there wont be any left for you to mend the wheelbarrow with but of course that is not my fault And now as I have given you my wheelbarrow I am sure you would like to give me some flowers in return Here is the basket and mind you till it quite full Quite full said little Hans rather sorrowfully for it was really a very big basket and he knew that if he tilled it he would have no flowers left for the market and he was very anxious to get his silver buttons back Well really answered the Miller as I have given you my wheelbarrow I dont think that it is much to ask you for a few flowers I may be wrong but I should have thought that friendship true friendship was quite free from selfishness of any kind My dear friend my best friend cried little Hans you are welcome to all the flowers in my garden I would much sooner have your good opinion than my silver buttons any day and he ran and plucked all his pretty primroses and tilled the Millers basket Goodbye little Hans said the Miller as he went up the hill with the plank on his shoulder and the big basket in his hand Goodbye said little Hans and he began to dig away quite merrily he was so pleased about the wheelbarrow The next day he was nailing up some honeysuckle against the porch when he heard the Millers voice calling to him from the road So he jumped off the ladder and ran down the garden and looked over the wall There was the Miller with a large sack of flour on his back Dear little Hans said the Miller would you mind carrying this sack of flour for me to market Oh I am so sorry said Hans but I am really very busy today I have got all my creepers to nail up and all my flowers to water and all my grass to roll Well really said the Miller I think that considering that I am going to give you my wheelbarrow it is rather unfriendly of you to refuse Oh dont say that cried little Hans I wouldnt be unfriendly for the whole world and he ran in for his cap and trudged off with the big sack on his shoulders It was a very hot day and the road was terribly dusty and before Hans had reached the sixth milestone he was so tired that he had to sit down and rest However he went on bravely and at last he reached the market After he had waited there some time he sold the sack of flour for a very good price and then he returned home at once for he was afraid that if he stopped too late he might meet some robbers on the way It has certainly been a hard day said little Hans to himself as he was going to bed but I am glad I did not refuse the Miller for he is my best friend and besides he is going to give me his wheelbarrow Early the next morning the Miller came down to get the money for his sack of flour but little Hans was so tired that he was still in bed Upon my word said the Miller you are very lazy Really considering that I am going to give you my wheelbarrow I think you might work harder Idleness is a great sin and I certainly dont like any of my friends to be idle or sluggish You must riot mind my speaking quite plainly to you Of course I should not dream of doing so if I were riot your friend But what is the good of friendship if one cannot say exactly what one means Anybody can say charming things and try to please and to flatter but a true friend always says unpleasant things and does riot mind giving pain Indeed if he is a really true friend he prefers it for he knows that then he is doing good I am very sorry said little Hans rubbing his eyes and pulling off his nightcap but I was so tired that I thought I would lie in bed for a little time and listen to the birds singing Do you know that I always work better after hearing the birds sing Well I am glad of that said the Miller clapping little Hans on the back for I want you to come up to the mill as soon as you are dressed and mend my barnroof for me Poor little Hans was very anxious to go and work in his garden for his flowers had not been watered for two days but he did not like to refuse the Miller as he was such a good friend to him Do you think it would be unfriendly of me if I said I was busy he inquired in a shy and timid voice Well really answered the Miller I do not think it is much to ask of you considering that I am going to give you my wheelbarrow but of course if you refuse I will go and do it myself Oh on no account cried little Hans and he jumped out of bed and dressed himself and went up to the barn He worked there all day long till sunset and at sunset the Miller came to see how he was getting on Have you mended the hole in the roof yet little Hans cried the Miller in a cheery voice It is quite mended answered little Hans coming down the ladder Ah said the Miller there is no work so delightful as the work one does for others It is certainly a great privilege to hear you talk answered little Hans sitting down and wiping his forehead a very great privilege But I am afraid I shall never have such beautiful ideas as you have Oh they will come to you said the Miller but you must take more pains At present you have only the practice of friendship some day you will have the theory also Do you really think I shall asked little Hans I have no doubt of it answered the Miller but now that you have mended the roof you had better go home and rest for I want you to drive my sheep to the mountain tomorrow Poor little Hans was afraid to say anything to this and early the next morning the Miller brought his sheep round to the cottage and Hans started off with them to the mountain It took him the whole day to get there and back and when he returned he was so tired that he went off to sleep in his chair and did not wake up till it was broad daylight What a delightful time I shall have in my garden he said and he went to work at once But somehow he was never able to look after his flowers at all for his friend the Miller was always coming round and sending him off on long errands or getting him to help at the mill Little Hans was very much distressed at times as he was afraid his flowers would think he had forgotten them but he consoled himself by the reflection that the Miller was his best friend Besides he used to say he is going to give me his wheelbarrow and that is an act of pure generosity So little Hans worked away for the Miller and the Miller said all kinds of beautiful things about friendship which Hans took down in a notebook and used to read over at night for he was a very good scholar Now it happened that one evening little Hans was sitting by his fireside when a loud rap came at the door It was a very wild right and the wind was blowing and roaring round the house so terribly that at first he thought it was merely the storm But a second rap came and then a third louder than either of the others It is some poor traveler said little Hans to himself and he ran to the door There stood the Miller with a lantern in one hand and a big stick in the other Dear little Hans cried the Miller I am in great trouble My little boy has fallen off a ladder and hurt himself and I am going for the Doctor But he lives so far away and it is such a bad night that it has just occurred to me that it would be much better if you went instead of me You know I am going to give you my wheelbarrow and so it is only fair that you should do something for me in return Certainly cried little Hans I take it quite as a compliment your coming to me and I will start off at once But you must lend me your lantern as the night is so dark that I am afraid I might fall into the ditch I am very sorry answered the Miller but it is my new lantern and it would be a great loss to me if anything happened to it Well never mind I will do without it cried little Hans and he took down his great fur coat and tied a muffler round his throat and started off What a dreadful storm it was The night was so black that little Hans could hardly see and the wind was so strong that he could scarcely stand However he was very courageous and after he had been walking about three hours he arrived at the Doctors house and knocked at the door Who is there cried the Doctor putting his head out of his bedroom window Little Hans Doctor What do you want little Hans The Millers son has fallen from a ladder and has hurt himself and the Miller wants you to come at once All right said the Doctor and he ordered his horse and his big boots and his lantern and came downstairs and rode off in the direction of the Millers house little Hans trudging behind him But the storm grew worse and worse and the rain fell in torrents and little Hans could riot see where he was going or keep up with the horse At last he lost his way and wandered off on the moor which was a very dangerous place as it was full of deep holes and there poor little Hans was drowned His body was found the next day by some goatherds floating in a great pool of water and was brought back by them to the cottage Everybody went to little Hanss funeral as he was so popular and the Miller was the chief mourner As I was his best friend said the Miller it is only fair that I should have the best place so he walked at the head of the procession in a long black cloak and every now and then he wiped his eyes with a big pocket handkerchief Little Hans is certainly a great loss to every one said the Blacksmith when the funeral was over and they were all seated comfortably in the inn drinking spiced wine and eating sweet cakes A great loss to me at any rate answered the Miller why I had as good as given him my wheelbarrow and now I really dont know what to do with it It is very much in my way at home and it is in such bad repair that I could not get anything for it if I sold it I will certainly take care not to give away anything again One always suffers for being generous Well said the Waterrat after a long pause Well that is the end said the Linnet But what became of the Miller asked the Waterrat Oh I really dont know replied the Linnet and I am sure that I dont care It is quite evident then that you have no sympathy in your nature said the Waterrat I am afraid you dont quite see the moral of the story remarked the Linnet The what screamed the Waterrat The moral Do you mean to say that the story has a moral Certainly said the Linnet Well really said the Waterrat in a very angry manner I think you should have told me that before you began If you had done so I certainly would not have listened to you in fact I should have said Pooh like the critic However I can say it now so he shouted out Pooh at the top of his voice gave a whisk with his tail and went back into his hole And how do you like the Waterrat asked the Duck who came paddling up some minutes afterwards He has a great many good points but for my own part I have a mothers feelings and I can never look at a confirmed bachelor without the tears coming into my eyes I am rather afraid that I have annoyed him answered the Linnet The fact is that I told him a story with a moral Ah that is always a very dangerous thing to do said the Duck And I quite agree with her\n"
     ]
    }
   ],
   "source": [
    "import string \n",
    "with open('The devoted friend.txt') as f:\n",
    "    contents = f.read()\n",
    "words = contents.split()\n",
    "#print(len(words))\n",
    "table = str.maketrans(\" \",\" \", string.punctuation)\n",
    "stripped = [w.translate(table) for w in words]\n",
    "#print(stripped)\n",
    "assembled = \" \".join(stripped)\n",
    "print(assembled)"
   ]
  },
  {
   "cell_type": "code",
   "execution_count": 6,
   "id": "e0c08be3",
   "metadata": {},
   "outputs": [
    {
     "name": "stdout",
     "output_type": "stream",
     "text": [
      "The Devoted Friend By Oscar Wilde One morning the old Waterrat put his head out of his hole He had bright beady eyes and stiff grey whiskers and his tail was like a long bit of black indiarubber The little ducks were swimming about in the pond looking just like a lot of yellow canaries and their mother who was pure white with real red legs was trying to teach them how to stand on their heads in the water You will never be in the best society unless you can stand on your heads she kept saying to them and every now and there she showed them how it was done But the little ducks paid no attention to her They were so young that they did not know what an advantage it is to be in society at all What disobedient children cried the old Waterrat they really deserve to be drowned Nothing of the kind answered the Duck every one must make a beginning and parents cannot be too patient Ah I know nothing about the feelings of parents said the Waterrat I am not a family man In fact I have never been married and I never intend to be Love is all very well in its way but friendship is much higher Indeed I know of nothing in the world that is either nobler or rarer than a devoted friendship And what pray is your idea of the duties of a devoted friend asked a Green Linnet who was sitting in a willow tree hard by and had overheard the conversation Yes that is just what I want to know said the Duck and she swam away to the end of the pond and stood upon her head in order to give her children a good example What a silly question cried the Waterrat I should expect my devoted friend to be devoted to me of course And what would you do in return said the little bird swinging upon a silver spray and flapping his tiny wings I dont understand you answered the Waterrat Let me tell you a story on the subject said the Linnet Is the story about me asked the Waterrat If so I will listen to it for I am extremely fond of fiction It is applicable to you answered the Linnet and he flew down and alighting upon the bank he told the story of The Devoted Friend Once upon a time said the Linnet there was an honest little fellow named Hans Was he very distinguished asked the Waterrat No answered the Linnet I dont think he was distinguished at all except for his kind heart and his funny round goodhumoured face He lived in a tiny cottage all by himself and every day he worked in his garden In all the countryside there was no garden so lovely as his Sweet William grew there and Gillyflowers and Shepherdspurses and Fairmaids of France There were damask Roses and yellow Roses lilac Crocuses and gold purple Violets and white Columbine and Ladysmock Marjoram and Wild Basil the Cowslip and the Flowerdeluce the Daffodil and the ClovePink bloomed or blossomed in their proper order as the months went by one flower taking another flowers place so that there were always beautiful things to look at and pleasant odours to smell Little Hans had a great many friends but the most devoted friend of all was big Hugh the Miller Indeed so devoted was the rich Miller to little Hans that he would never go by his garden without leaning over the wall and plucking a large nosegay or a handful of sweet herbs or filling his pockets with plums and cherries if it was the fruit season Real friends should have everything in common the Miller used to say and little Hans nodded and smiled and felt very proud of having a friend with such noble ideas Sometimes indeed the neighbours thought it strange that the rich Miller never gave little Hans anything in return though he had a hundred sacks of flour stored away in his mill and six milch cows and a large flock of woolly sheep but Hans never troubled his head about these things and nothing gave him greater pleasure than to listen to all the wonderful things the Miller used to say about the unselfishness of true friendship So little Hans worked away in his garden During the spring the summer and the autumn he was very happy but when the winter came and he had no fruit or flowers to bring to the market he suffered a brood deal from cold and hunger and often had to go to bed without any supper but a few dried pears or some hard nuts In the winter also he was extremely lonely as the Miller never came to see him then There is no good in my going to see little Hans as long as the snow lasts the Miller used to say to his wife for when people are in trouble they should be left alone and not be bothered by visitors That at least is my idea about friendship and I am sure I am right So I shall wait till the spring comes and then I shall pay him a visit and he will be able to give me a large basket of primroses and that will make him so happy You are certainly very thoughtful about others answered the Wife as she sat in her comfortable armchair by the big pinewood tire very thoughtful indeed It is quite a treat to hear you talk about friendship I am sure the clergyman himself could not say such beautiful things as you do though he does live in a threestoried house and wear a gold ring on his little finger But could we riot ask little Hans up here said the Millers youngest son If poor Hans is in trouble I will give him half my porridge and show him my white rabbits What a silly boy you are cried the Miller I really dont know what is the use of sending you to school You seem not to learn anything Why if little Hans came up here and saw our warm tire and our good supper and our great cask of red wine he might get envious and envy is a most terrible thing and would spoil anybodys nature I certainly will not allow Hanss nature to be spoiled I am his best friend and I will always watch over him and see that he is not led into any temptations Besides if Hans came here he night ask me to let him have some flour on credit and that I could not do Flour is one thing and friendship is another and they should not be confused Why the words are spelt differently and mean quite different things Everybody can see that How well you talk said the Millers Wife pouring herself out a large glass of warm ale really I feel quite drowsy It is just like being in church Lots of people act well answered the Miller but very few people talk well which shows that talking is much the more difficult thing of the two and much the finer thing also and he looked sternly across the table at his little son who felt so ashamed of himself that he hung his head down and grew quite scarlet and began to cry into his tea However he was so young that you must excuse him Is that the end of the story asked the Waterrat Certainly not answered the Linnet that is the beginning Then you are quite behind the age said the Waterrat Every good storyteller nowadays starts with the end and then goes on to the beginning and concludes with the middle That is the new method I heard all about it the other day from a critic who was walking round the pond with a young man He spoke of the matter at great length and I am sure he must have been right for he had blue spectacles and a bald head and whenever the young man made any remark he always answered Pooh But pray go on with your story I like the Miller immensely I have all kinds of beautiful sentiments myself so there is a great sympathy between us Well said the Linnet hopping now on one leg and now on the other as soon as the winter was over and the primroses began to open their pale yellow stars the miller said to his wife that he would go down and see little Hans Why what a good heart you have cried his Wife you are always thinking of others And mind you take the big basket with you for the flowers So the Miller tied the sails of the windmill together with a strong iron chain and went down the hill with the basket on his arm Good morning little Hans said the Miller Good morning said Hans leaning on his spade and smiling from ear to ear And how have you been all the winter said the Miller Well really cried Hans it is very good of you to ask very good indeed I am afraid I had rather a hard time of it but now the spring has come and I am quite happy and all my flowers are doing well We often talked of you during the winter Hans said the Miller and wondered how you were getting on That was kind of you said Hans I was half afraid you had forgotten me Hans I am surprised at you said the Miller friendship never forgets That is the wonderful thing about it but I am afraid you dont understand the poetry of life How lovely your primroses are looking bythebye They are certainly very lovely said Hans and it is a most lucky thing for me that I have so many I am going to bring them into the market and sell them to the Burgomasters daughter and buy back my wheelbarrow with the money Buy back your wheelbarrow You dont mean to say you have sold it What a very stupid thing to do Well the fact is said Hans that I was obliged to You see the winter was a very bad time for me and I really had no money at all to buy bread with So I first sold the silver buttons off my Sunday coat and then I sold my silver chain and then I sold my big pipe and at last I sold my wheelbarrow But I am going to buy them all back again now Hans said the Miller I will give you my wheelbarrow It is not in very good repair indeed one side is gone and there is something wrong with the wheelspokes but in spite of that I will give it to you I know it is very generous of me and a great many people would think me extremely foolish for parting with it but I am not like the rest of the world I think that generosity is the essence of friendship and besides I have got a new wheelbarrow for myself Yes you may set your mind at ease I will give you my wheelbarrow Well really that is generous of you said little Hans and his funny round face glowed all over with pleasure I can easily put it in repair as I have a plank of wood in the house A plank of wood said the Miller why that is just what I want for the roof of my barn There is a very large hole in it and the corn will all get damp if I dont stop it up How lucky you mentioned it It is quite remarkable how one good action always breeds another I have given you my wheelbarrow and now you are going to give me your plank Of course the wheelbarrow is worth far more than the plank but true friendship never notices things like that Pray get it at once and I will set to work at my barn this very day Certainly cried little Hans and he ran into the shed and dragged the plank out It is not a very big plank said the Miller looking at it and I am afraid that after I have mended my barnroof there wont be any left for you to mend the wheelbarrow with but of course that is not my fault And now as I have given you my wheelbarrow I am sure you would like to give me some flowers in return Here is the basket and mind you till it quite full Quite full said little Hans rather sorrowfully for it was really a very big basket and he knew that if he tilled it he would have no flowers left for the market and he was very anxious to get his silver buttons back Well really answered the Miller as I have given you my wheelbarrow I dont think that it is much to ask you for a few flowers I may be wrong but I should have thought that friendship true friendship was quite free from selfishness of any kind My dear friend my best friend cried little Hans you are welcome to all the flowers in my garden I would much sooner have your good opinion than my silver buttons any day and he ran and plucked all his pretty primroses and tilled the Millers basket Goodbye little Hans said the Miller as he went up the hill with the plank on his shoulder and the big basket in his hand Goodbye said little Hans and he began to dig away quite merrily he was so pleased about the wheelbarrow The next day he was nailing up some honeysuckle against the porch when he heard the Millers voice calling to him from the road So he jumped off the ladder and ran down the garden and looked over the wall There was the Miller with a large sack of flour on his back Dear little Hans said the Miller would you mind carrying this sack of flour for me to market Oh I am so sorry said Hans but I am really very busy today I have got all my creepers to nail up and all my flowers to water and all my grass to roll Well really said the Miller I think that considering that I am going to give you my wheelbarrow it is rather unfriendly of you to refuse Oh dont say that cried little Hans I wouldnt be unfriendly for the whole world and he ran in for his cap and trudged off with the big sack on his shoulders It was a very hot day and the road was terribly dusty and before Hans had reached the sixth milestone he was so tired that he had to sit down and rest However he went on bravely and at last he reached the market After he had waited there some time he sold the sack of flour for a very good price and then he returned home at once for he was afraid that if he stopped too late he might meet some robbers on the way It has certainly been a hard day said little Hans to himself as he was going to bed but I am glad I did not refuse the Miller for he is my best friend and besides he is going to give me his wheelbarrow Early the next morning the Miller came down to get the money for his sack of flour but little Hans was so tired that he was still in bed Upon my word said the Miller you are very lazy Really considering that I am going to give you my wheelbarrow I think you might work harder Idleness is a great sin and I certainly dont like any of my friends to be idle or sluggish You must riot mind my speaking quite plainly to you Of course I should not dream of doing so if I were riot your friend But what is the good of friendship if one cannot say exactly what one means Anybody can say charming things and try to please and to flatter but a true friend always says unpleasant things and does riot mind giving pain Indeed if he is a really true friend he prefers it for he knows that then he is doing good I am very sorry said little Hans rubbing his eyes and pulling off his nightcap but I was so tired that I thought I would lie in bed for a little time and listen to the birds singing Do you know that I always work better after hearing the birds sing Well I am glad of that said the Miller clapping little Hans on the back for I want you to come up to the mill as soon as you are dressed and mend my barnroof for me Poor little Hans was very anxious to go and work in his garden for his flowers had not been watered for two days but he did not like to refuse the Miller as he was such a good friend to him Do you think it would be unfriendly of me if I said I was busy he inquired in a shy and timid voice Well really answered the Miller I do not think it is much to ask of you considering that I am going to give you my wheelbarrow but of course if you refuse I will go and do it myself Oh on no account cried little Hans and he jumped out of bed and dressed himself and went up to the barn He worked there all day long till sunset and at sunset the Miller came to see how he was getting on Have you mended the hole in the roof yet little Hans cried the Miller in a cheery voice It is quite mended answered little Hans coming down the ladder Ah said the Miller there is no work so delightful as the work one does for others It is certainly a great privilege to hear you talk answered little Hans sitting down and wiping his forehead a very great privilege But I am afraid I shall never have such beautiful ideas as you have Oh they will come to you said the Miller but you must take more pains At present you have only the practice of friendship some day you will have the theory also Do you really think I shall asked little Hans I have no doubt of it answered the Miller but now that you have mended the roof you had better go home and rest for I want you to drive my sheep to the mountain tomorrow Poor little Hans was afraid to say anything to this and early the next morning the Miller brought his sheep round to the cottage and Hans started off with them to the mountain It took him the whole day to get there and back and when he returned he was so tired that he went off to sleep in his chair and did not wake up till it was broad daylight What a delightful time I shall have in my garden he said and he went to work at once But somehow he was never able to look after his flowers at all for his friend the Miller was always coming round and sending him off on long errands or getting him to help at the mill Little Hans was very much distressed at times as he was afraid his flowers would think he had forgotten them but he consoled himself by the reflection that the Miller was his best friend Besides he used to say he is going to give me his wheelbarrow and that is an act of pure generosity So little Hans worked away for the Miller and the Miller said all kinds of beautiful things about friendship which Hans took down in a notebook and used to read over at night for he was a very good scholar Now it happened that one evening little Hans was sitting by his fireside when a loud rap came at the door It was a very wild right and the wind was blowing and roaring round the house so terribly that at first he thought it was merely the storm But a second rap came and then a third louder than either of the others It is some poor traveler said little Hans to himself and he ran to the door There stood the Miller with a lantern in one hand and a big stick in the other Dear little Hans cried the Miller I am in great trouble My little boy has fallen off a ladder and hurt himself and I am going for the Doctor But he lives so far away and it is such a bad night that it has just occurred to me that it would be much better if you went instead of me You know I am going to give you my wheelbarrow and so it is only fair that you should do something for me in return Certainly cried little Hans I take it quite as a compliment your coming to me and I will start off at once But you must lend me your lantern as the night is so dark that I am afraid I might fall into the ditch I am very sorry answered the Miller but it is my new lantern and it would be a great loss to me if anything happened to it Well never mind I will do without it cried little Hans and he took down his great fur coat and tied a muffler round his throat and started off What a dreadful storm it was The night was so black that little Hans could hardly see and the wind was so strong that he could scarcely stand However he was very courageous and after he had been walking about three hours he arrived at the Doctors house and knocked at the door Who is there cried the Doctor putting his head out of his bedroom window Little Hans Doctor What do you want little Hans The Millers son has fallen from a ladder and has hurt himself and the Miller wants you to come at once All right said the Doctor and he ordered his horse and his big boots and his lantern and came downstairs and rode off in the direction of the Millers house little Hans trudging behind him But the storm grew worse and worse and the rain fell in torrents and little Hans could riot see where he was going or keep up with the horse At last he lost his way and wandered off on the moor which was a very dangerous place as it was full of deep holes and there poor little Hans was drowned His body was found the next day by some goatherds floating in a great pool of water and was brought back by them to the cottage Everybody went to little Hanss funeral as he was so popular and the Miller was the chief mourner As I was his best friend said the Miller it is only fair that I should have the best place so he walked at the head of the procession in a long black cloak and every now and then he wiped his eyes with a big pocket handkerchief Little Hans is certainly a great loss to every one said the Blacksmith when the funeral was over and they were all seated comfortably in the inn drinking spiced wine and eating sweet cakes A great loss to me at any rate answered the Miller why I had as good as given him my wheelbarrow and now I really dont know what to do with it It is very much in my way at home and it is in such bad repair that I could not get anything for it if I sold it I will certainly take care not to give away anything again One always suffers for being generous Well said the Waterrat after a long pause Well that is the end said the Linnet But what became of the Miller asked the Waterrat Oh I really dont know replied the Linnet and I am sure that I dont care It is quite evident then that you have no sympathy in your nature said the Waterrat I am afraid you dont quite see the moral of the story remarked the Linnet The what screamed the Waterrat The moral Do you mean to say that the story has a moral Certainly said the Linnet Well really said the Waterrat in a very angry manner I think you should have told me that before you began If you had done so I certainly would not have listened to you in fact I should have said Pooh like the critic However I can say it now so he shouted out Pooh at the top of his voice gave a whisk with his tail and went back into his hole And how do you like the Waterrat asked the Duck who came paddling up some minutes afterwards He has a great many good points but for my own part I have a mothers feelings and I can never look at a confirmed bachelor without the tears coming into my eyes I am rather afraid that I have annoyed him answered the Linnet The fact is that I told him a story with a moral Ah that is always a very dangerous thing to do said the Duck And I quite agree with her\n"
     ]
    }
   ],
   "source": [
    "print(assembled)"
   ]
  },
  {
   "cell_type": "code",
   "execution_count": 59,
   "id": "1d242fed",
   "metadata": {},
   "outputs": [],
   "source": [
    "import nltk\n",
    "from nltk.stem import PorterStemmer\n",
    "from nltk.corpus import stopwords\n",
    "from nltk.tokenize import word_tokenize \n",
    "\n",
    "stop_words = set(stopwords.words(\"english\"))\n",
    "stemmer = PorterStemmer()\n",
    "#print(stop_words)\n",
    "words = word_tokenize(str(assembled))\n",
    "\n",
    "filtered_words = []\n",
    "m = {}\n",
    "\n",
    "for word in words:\n",
    "    if word not in stop_words:\n",
    "        #stemmed_word = stemmer.stem(word)\n",
    "        filtered_words.append(word)\n",
    "        new_assembled = \" \".join(filtered_words)\n",
    "        \n",
    "#print(new_assembled)        "
   ]
  },
  {
   "cell_type": "code",
   "execution_count": 84,
   "id": "b2da1791",
   "metadata": {},
   "outputs": [
    {
     "name": "stdout",
     "output_type": "stream",
     "text": [
      "{'Waterrat': 15, 'like': 11, 'little': 48, 'never': 13, 'But': 12, 'know': 10, 'cried': 14, 'really': 16, 'answered': 16, 'one': 12, 'I': 125, 'said': 48, 'friendship': 14, 'friend': 15, 'Linnet': 12, 'give': 15, 'good': 17, 'would': 15, 'dont': 13, 'It': 15, 'Hans': 59, 'think': 11, 'day': 11, 'went': 10, 'flowers': 12, 'always': 10, 'great': 15, 'big': 11, 'Miller': 47, 'say': 12, 'came': 10, 'see': 10, 'going': 13, 'quite': 16, 'Well': 12, 'afraid': 11, 'wheelbarrow': 19}\n",
      "['But', 'Hans', 'I', 'It', 'Linnet', 'Miller', 'Waterrat', 'Well', 'afraid', 'always', 'answered', 'big', 'came', 'cried', 'day', 'dont', 'flowers', 'friend', 'friendship', 'give', 'going', 'good', 'great', 'know', 'like', 'little', 'never', 'one', 'quite', 'really', 'said', 'say', 'see', 'think', 'went', 'wheelbarrow', 'would']\n"
     ]
    }
   ],
   "source": [
    "m = {}\n",
    "maxs = word_tokenize(str(new_assembled))\n",
    "for i in maxs:\n",
    "    if i not in m.keys():\n",
    "        m[i] = 0\n",
    "    m[i] = m[i] + 1 \n",
    "m = dict((k, v) for k, v in m.items() if v >=10)  \n",
    "#print(stop_words)\n",
    "print(m)\n",
    "print(sorted(m))  "
   ]
  },
  {
   "cell_type": "code",
   "execution_count": 82,
   "id": "bb5d3b4c",
   "metadata": {},
   "outputs": [],
   "source": [
    "m = {}\n",
    "for i in words:\n",
    "    if i not in m.keys():\n",
    "        m[i] = 0\n",
    "    m[i] = m[i] + 1 \n",
    "m = dict((k, v) for k, v in m.items() if v >=50)  \n",
    "#print(stop_words)\n",
    "#print(m)\n",
    "#print(sorted(m))  "
   ]
  },
  {
   "cell_type": "code",
   "execution_count": 30,
   "id": "2b1603e2",
   "metadata": {},
   "outputs": [
    {
     "name": "stdout",
     "output_type": "stream",
     "text": [
      "The list printed sorting by address: \n",
      "[{'name': 'Nick', 'address': 'Chittoor'}, {'name': 'Nandy', 'address': 'Kilimani complex'}, {'name': 'James', 'address': 'Wroblewskiego'}]\n",
      "\r\n"
     ]
    }
   ],
   "source": [
    "lis = [{ \"name\" : \"Nandy\", \"address\" :'Kilimani complex'},\n",
    "{ \"name\" : \"James\", \"address\" :'Wroblewskiego'},\n",
    "{ \"name\" : \"Nick\" , \"address\" : 'Chittoor' }]\n",
    "print (\"The list printed sorting by address: \")\n",
    "print (sorted(lis, key = lambda i:i[\"address\"]))\n",
    "print (\"\\r\")"
   ]
  },
  {
   "cell_type": "code",
   "execution_count": 1,
   "id": "6ebfcfeb",
   "metadata": {},
   "outputs": [
    {
     "name": "stdout",
     "output_type": "stream",
     "text": [
      "*** Introductory Examples for the NLTK Book ***\n",
      "Loading text1, ..., text9 and sent1, ..., sent9\n",
      "Type the name of the text or sentence to view it.\n",
      "Type: 'texts()' or 'sents()' to list the materials.\n",
      "text1: Moby Dick by Herman Melville 1851\n",
      "text2: Sense and Sensibility by Jane Austen 1811\n",
      "text3: The Book of Genesis\n",
      "text4: Inaugural Address Corpus\n",
      "text5: Chat Corpus\n",
      "text6: Monty Python and the Holy Grail\n",
      "text7: Wall Street Journal\n",
      "text8: Personals Corpus\n",
      "text9: The Man Who Was Thursday by G . K . Chesterton 1908\n"
     ]
    }
   ],
   "source": [
    "from nltk.book import *"
   ]
  },
  {
   "cell_type": "code",
   "execution_count": 33,
   "id": "c1ffdd94",
   "metadata": {},
   "outputs": [
    {
     "name": "stdout",
     "output_type": "stream",
     "text": [
      "The word knight appears 5 times in text 6.\n",
      "The word knight appears 1 times in text 7.\n"
     ]
    }
   ],
   "source": [
    "word_to_count = \"knight\"\n",
    "print(\"The word %s appears %d times in text 6.\" % ( word_to_count, text6.count( word_to_count ) ))\n",
    "print(\"The word %s appears %d times in text 7.\" % ( word_to_count, text7.count( word_to_count ) ))"
   ]
  },
  {
   "cell_type": "code",
   "execution_count": 38,
   "id": "707241bd",
   "metadata": {},
   "outputs": [
    {
     "name": "stdout",
     "output_type": "stream",
     "text": [
      "{'whinny', 'Launcelot', 'wind', 'depressing', '...]', 'retreat', 'underwear', 'bum', 'grin', 'Gawain', 'didn', 'Y', 'rewr', 'Dis', 'Hya', 'runes', 'd', 'wounded', 'cartoon', 'Quick', 'Winter', 'lapin', 'WIFE', 'Amen', 'horrendous', 'valor', 'trusty', 'unhealthy', 'snore', 'brush', 'formidable', 'Castle', 'strangers', 'CART', 'Go', 'aren', 'bed', 'Tell', 'vain', 'Speak', 'hamster', 'proceed', 'halves', 'tart', 'dying', 'ignore', 'fellows', 'NI', 'twang', 'ZOOT', 'Never', 'minstrels', 'eh', 'temptress', 'DIRECTOR', 'wasn', 'reared', 'dance', 'keen', 'Battle', 'joyful', 'Eternal', 'eisrequiem', 'room', 'um', 'clllank', 'twenty', 'sing', 'Whoa', 'whop', 'Halt', 'Gorge', 'Umm', 'eet', 'roar', 'CHARACTERS', 'bones', 'Hyy', 'aptly', 'buggered', 'sloths', 'suppose', 'Aaaaaah', 'pweeng', 'relics', 'ni', 'aunties', 'thank', 'Yay', 'derives', 'dad', 'Well', 'fatal', 'triumphs', 'carved', 'rocks', 'bastard', 'curtains', '[...', 'Thpppt', 'N', 'cruel', 'Prepare', 'wart', 'sons', 'centuries', 'Burn', 'seldom', 'flight', 'Nay', 'aquatic', 'Anybody', 'Aauuuuugh', 'Yapping', 'tracts', 'Welcome', 'Alice', 'pure', 'dub', 'reasonable', 'Hiyah', 'travellers', 'Quoi', 'sequin', 'warm', 'Grail', 'pram', 'taunt', 'bois', 'marry', 'Would', 'twong', 'Loimbard', 'CAMERAMAN', 'vests', 'Exactly', 'married', 'bent', 'bi', 'gonna', 'Idiom', 'marrying', 'invincible', 'p', 'Cut', 'DINGO', 'ecky', 'feast', 'King', 'Mother', 'Um', 'distress', 'Ridden', 'conclusions', 'brave', 'wetting', 'GUESTS', 'mortally', 'knock', 'couldn', '!)', 'fart', 'Umhm', 'hacked', 'aaaah', 'Tall', 'angels', 'crone', 'chickened', 'smack', 'Concorde', 'ha', 'Good', 'wedding', 'folk', 'afoot', 'Wayy', 'VILLAGER', 'Huy', 'Yeaaah', 'medieval', 'intermission', 'yelling', 'Bloody', 'rodent', 'Thppt', 'cereals', 'east', 'vache', 'fifty', 'mud', 'donaeis', 'headoff', 'WOMAN', 'Behold', 'song', 'DENNIS', 'retold', 'woods', 'clap', 'impeccable', 'woosh', 'Dramatically', 'Hooray', 'Robinson', 'Winston', 'buggering', 'Ecky', 'Seek', 'smashed', 'raped', 'Cider', 'cannot', 'tit', 'Thank', 'purest', 'grovel', 'Dappy', 'Picture', 'Uther', 'o', 'Keep', 'eats', 'guarded', 'nostrils', 'yel', 'Cherries', 'havin', 'biscuits', 'liver', 'Oooooooh', 'spanked', 'squeak', 'm', 'bats', 'conclusion', 'RANDOM', 'castanets', 'Churches', 'sonny', 'samite', 's', 'Olfin', 'floats', 'Bors', 'Mercea', 'Knights', 'hadn', 'thy', 'inferior', 'Uhh', 'Crapper', 'Explain', 'Try', 'strand', 'Morning', 'doesn', 'KNIGHTS', 'mayhem', 'coconuts', 'dogma', 'Erm', 'lobbed', 'Walk', 'zoosh', 'unclog', 'strewn', 'bottoms', 'hills', 'banana', 'unladen', 'ethereal', 'icy', 'husk', 'islands', 'Thee', 'Stay', \".'\", 'stops', 'PERSON', 'mayest', 'hmm', 'mumble', 'yours', 'VILLAGERS', 'LOVELY', 'tie', 'Princess', 'ANIMATOR', 'Thy', 'haste', 'knights', 'miss', 'Guards', 'swallows', 'INSPECTOR', 'ungallant', '..', '.)', 'hall', 'hiyaah', 'tragic', 'Hoa', 'Anarcho', 'pig', 'Bravest', 'sovereign', 'wanna', 'Beyond', 'kick', 'goodem', 'Summer', 'Hand', 'grenade', 'newt', 'KING', 'groveling', 'perilous', 'Ives', 'biters', 'elderberries', 'Defeat', 're', 'splash', 'remembered', 'SIR', 'lord', 'armor', 'thwonk', 'Eee', 'BRIDGEKEEPER', 'Sorry', 'pansy', 'automatically', 'bet', 'Britons', 'supposed', 'nibble', 'valleys', 'streak', 'peril', 'PRINCE', 'Yeah', 'forest', 'false', 'Charge', 'snuff', 'indefatigable', 'Consult', 'Huh', 'BRIDE', 'sod', 'thou', 'smelt', 'ho', 'Mind', 'HEAD', 'Shut', 'Shall', 'Hey', 'bird', 'hasn', 'quarrel', 'Aramaic', 'Antioch', 'leg', 'WINSTON', 'uuggggggh', 'pointy', 'Practice', 'anging', 'daughter', 'mangled', 'pond', 'enchanter', 'haven', 'arrange', 'Leaving', 'scribble', 'clue', 'MIDGET', 'bows', 'swords', 'Saint', 'bitching', 'approaching', 'DEAD', 'Help', 'elbows', 'eis', 'Hiyya', 'cave', 'aaugh', 'sneaking', 'PRINCESS', 'bother', 'hoo', 'SOLDIER', 'wom', 'Assyria', 'tropical', 'masses', 'Haw', 'legendary', 'Ay', 'ceremony', 'Maynard', 'nnnnniggets', 'w', 'ham', 'OFFICER', 'splat', 'quack', 'pikang', 'Auuuuuuuugh', 'brunettes', 'autocracy', 'U', 'relax', 'Supposing', 'oh', 'chastity', 'unsingable', 'LUCKY', 'ferocity', 'Pin', 'drilllll', 'throat', 'Autumn', 'Cornwall', 'Aaaaugh', 'Fine', 'suffice', 'bride', 'zhiv', 'l', 'CARTOON', 'Quiet', 'totally', 'ROGER', 'horse', 'Which', 'pestilence', 'git', 'Gallahad', 'scene', 'threw', 'Ector', 'holy', ',--', 'laden', 'liar', 'frontal', '!,', 'smashing', 'daring', 'dorsal', 'Divine', 'j', 'Thppppt', 'WITCH', 'remember', 'AMAZING', 'lies', 'Ni', 'Surely', 'looney', 'rhymes', 'See', 'Packing', 'Excalibur', 'undressing', 'gallantly', 'carving', 'Away', 'aloft', 'dungeon', 'Oooo', 'Brave', 'velocity', 'earth', 'Himself', 'tops', 'Ask', 'owli', 'plover', 'Angnor', 'Round', 'spake', 'wedlock', 'Hurry', 'Bread', 'Aggh', 'GREEN', 'Aaaaaaaaah', 'Hm', 'Silly', 'beacon', 'Skip', 'Course', 'Isn', 'g', 'shrubber', 'syndicalist', 'impersonate', 'witch', 'Lady', 'mangy', 'Yup', 'suggesting', 'Off', 'yeah', 'ju', 'wayy', 'traveller', 'lived', 'sworn', 'boil', 'Eh', 'wounding', 'awhile', 'logically', 'herring', 'mad', 'dressing', 'nasty', '?!', 'SHRUBBER', 'Robin', 'consulted', 'Aaah', 'Peril', 'miserable', 'diaphragm', 'reads', 'kings', 'i', 'Running', 'Augh', 'chops', 'farcical', 'earthquakes', 'Pure', 'bastards', 'kills', 'eccentric', 'quests', 'MAN', 'sponge', 'Aauuugh', 'temperate', 'Ohh', 'object', 'MIDDLE', 'foe', 'Brother', 'imprisoned', 'Dragon', 'forget', 'honored', 'Greetings', 'disheartened', 'Erbert', 'sire', 'Knight', 'Will', 'awaaay', 'sword', 'BORS', 'Allo', 'dine', 'cop', 'legally', 'syndicalism', 'thud', 'clang', 'ride', 'll', 'shrubbery', 'shaped', 'wooden', 'guiding', 'commands', 'routines', 'listen', 'anchovies', 'Listen', 'fooling', 'siren', 'noise', 'Looks', 'somewhere', 'Aaauggh', 'ridden', 'HEADS', 'MONKS', 'Gable', 'ptoo', 'Chickennn', 'strange', 'Hang', 'illegitimate', 'Bad', 'alight', 'Let', 'Build', 'Pendragon', 'clad', 'wouldn', 'tail', 'shit', 'thonk', 'Nothing', 'sawwwww', 'pitched', 'Arimathea', 'terribly', 'hell', 'Hic', 'Aaaah', 'til', 'footwork', 'True', 'hopeless', 'Nu', 'Bring', 'towards', 'commune', 'heroic', 'lie', ']', 'Excuse', 't', 'Piglet', 'leads', 'kingdom', 'Farewell', 'clop', 'ALL', 'swamp', 'Mud', 'Hah', 'outwit', 'behold', 'Grenade', 'Armaments', 'flesh', 'thump', 'OLD', 'CRONE', 'k', 'pissing', 'O', 'Huyah', 'wise', 'est', 'delirious', 'scimitar', 'teeth', 'mac', 'throwing', 'bravest', 'requiem', 'oo', 'individually', 'Throw', 'oral', 'Spring', 'gouged', 'cadeau', 'ours', \"'!\", 'knees', 'binding', 'alarm', 'sacred', 'amazes', 'Ewing', 'grips', 'c', 'Oooohoohohooo', 'bosom', '...?', 'gravy', 'approacheth', 've', 'illustrious', 'Did', 'LAUNCELOT', 'visually', 'Wait', 'SECOND', 'king', 'GUARD', 'legs', 'kneecaps', 'tonight', 'defeator', 'Agh', 'danger', 'chickening', 'isn', 'gurgle', 'killer', 'daft', 'feint', 'ARTHUR', 'sun', 'sniff', 'Riiight', 'dragging', 'Iiiives', 'nnniggets', 'Heee', 'Said', 'bridgekeeper', 'carp', 'Death', 'guard', 'chu', 'chorus', 'hast', 'sample', 'keeper', 'dull', 'Bedwere', 'nearer', 'Waa', '[', 'fruit', 'niggets', 'Camelot', 'mooo', 'Oui', 'Ages', 'Psalms', 'dictatorship', 'Aah', 'NARRATOR', 'Father', 'Look', 'mightiest', 'stew', 'wiper', 'singing', 'Hiyaah', 'mercy', 'nineteen', 'creak', 'migratory', 'bits', 'dictating', 'coconut', 'Til', 'bicker', 'naughty', 'apologise', 'blondes', 'Table', 'ye', 'Tis', 'Monsieur', 'Ere', 'depart', 'baaaa', 'Shrubberies', 'Silence', 'birds', 'e', 'CONCORDE', 'lambs', 'bugger', 'Rheged', 'domine', 'ROBIN', 'howl', 'Together', 'Hee', 'valiant', 'Bravely', 'handsome', 'Pull', 'bonk', '!]', 'averting', 'summon', 'un', 'PIGLET', 'blanket', 'Badon', 'aaaaaah', 'Torment', 'Twenty', 'lair', 'Remove', 'wishes', 'bangin', 'magne', 'boing', 'clank', 'GIRLS', 'CROWD', 'Are', 'Doctor', 'Saxons', 'peasant', 'rabbit', 'ponds', 'Chicken', 'aside', 'Stand', 'GUEST', 'profane', 'creep', 'scots', 'servant', 'opera', 'behaviour', 'HISTORIAN', 'cart', 'cough', 'ARMY', 'Didn', 'climes', 'heh', 'grip', 'CRASH', 'Prince', 'MINSTREL', 'dunno', 'Aagh', 'FATHER', \",'\", 'Must', 'Anyway', 'trough', \"'...\", 'ratios', 'Iiiiives', 'lobbest', 'PRISONER', 'mashed', 'RIGHT', 'bint', 'donkey', 'hat', 'Attila', 'thirds', 'rode', 'accompanied', 'FRENCH', 'uuup', 'anarcho', 'shimmering', 'Victory', 'dappy', 'Very', 'enemies', 'brained', 'dare', 'liege', 'bowels', 'breath', 'non', 'starling', 'Follow', 'lads', 'Run', 'nick', 'mile', 'clever', 'rrrr', 'TIM', 'Chaste', 'busy', 'Uugh', 'forty', 'pause', 'spooky', 'dress', 'tinder', 'keepers', 'lonely', 'Mine', 'breadth', 'rejoicing', 'Aaaugh', 'CRAPPER', 'MAYNARD', 'dangerous', 'repressing', 'accent', 'GOD', 'Schools', 'rescue', 'distributing', 'dynamite', 'quest', 'Alright', 'Fetchez', 'wherein', 'ooh', 'Midget', 'wicked', 'Patsy', 'em', '--...', 'mandate', 'ain', 'watery', 'spanking', 'accomplished', 'Steady', 'tear', 'Beast', 'awaaaaay', 'Shrubber', 'sir', 'frighten', 'Please', 'gra', 'scott', 'STUNNER', 'cheesy', 'suspenseful', 'perpetuating', 'BROTHER', 'snap', 'Pie', 'jokes', 'badger', 'bunny', 'CUSTOMER', 'bravely', 'CHARACTER', 'Aaauugh', 'Zoot', 'repressed', 'chord', 'cross', 'S', 'resting', 'whispering', 'heeh', 'ehh', 'Swamp', 'dona', 'Clear', 'imperialist', 'snows', 'Found', 'Ulk', 'auntie', 'BLACK', 'Aaagh', 'warmer', 'Come', 'Jesus', 'HERBERT', 'adversary', 'Enchanter', 'Honestly', 'GALAHAD', 'haaa', 'tempered', 'testicles', 'u', 'stuffed', 'silly', 'forgive', 'moistened', 'Really', 'Apples', 'dresser', 'wipers', 'Be', 'Holy', 'pussy', 'Message', 'oooh', 'Therefore', 'Lancelot', 'Galahad', 'filth', 'etc', 'giggle', 'Christ', 'hospitality', 'PATSY', 'Thou', 'Ahh', 'Chop', 'LEFT', 'BEDEVERE', 'spoken', 'scratch', 'gay', 'Thsss', 'Ho', 'haw', 'SCENE', \"',\", 'uhh', 'fwump', 'nightfall', 'idiom', 'feathers', 'oui', 'Fiends', 'chanting', 'ruffians', 'Say', 'ENCHANTER', 'hee', 'autonomous', 'SENTRY', 'fortune', 'Woa', 'er', 'pray', 'varletesses', 'Aauuuves', 'comin', 'tap', 'clunk', 'spank', 'ere', 'Our', 'clack', 'shrubberies', 'bladders', 'wood', 'Shh', 'silence', 'harmless', 'Neee', 'VOICE', 'y', 'Aaaaaaaah', 'n', 'stab', 'dear', 'discovers', 'Hmm', 'Un', 'Camaaaaaargue', 'pen', 'bleed', '(', 'zoop', 'Hallo', \"'.\", 'bite', 'PARTY', 'auuuuuuuugh', 'aaggggh', 'grail', 'wonderful', 'tale', 'horn', 'soiled', 'wet', 'Ha', 'ninepence', 'Forgive', 'Ayy', 'Firstly', 'Heh', 'burst', 'shivering', 'excepting', 'closest', 'Ah', 'excuse', 'exploiting', 'Hello', 'flint', 'Dingo', 'shalt', 'Forward', 'forth', 'bleeder', 'martin', 'beside', 'Tale', 'lad', 'Tim', 'bathing', 'Yes', 'Bedevere', 'terrible', 'Ow', 'mate', 'orangutans', 'plain', 'Guy', 'Ooh', 'spam', 'Quite', 'emperor', 'mystic', 'Stop', 'hello', 'whoever', 'mer', 'GUARDS', 'Between', 'unplugged', 'Ninepence', 'Caerbannog', 'Anthrax', 'KNIGHT', 'ladies', 'animal', 'avenged', 'uh', 'va', 'creeper', 'packing', 'dogs', 'Almighty', 'SUN', 'pimples', 'scales', 'Uh', 'C', 'Lie', 'outdoors', 'leaps', 'OTHER', 'thine', 'occasion', 'lunged', 'kneeling', 'sixteen', 'Lucky', 'Nador', 'trumpets', 'zoo', 'Hoo', 'don', 'Uuh', 'taunting', 'Quickly', 'Oooh', 'unarmed', 'sister', 'Yeaah', 'W', 'Splendid', 'Bones', 'animator', 'settles', 'Aauuggghhh', 'weighs', 'Bristol', 'mooooooo', 'carve', 'outdated', 'thirty', 'Does', 'Action', 'Mmm', 'glad', 'Iesu', 'scarper', \"'?\", 'vouchsafed', 'MASTER', 'limbs', 'verses', 'Thpppppt', 'Get'}\n"
     ]
    }
   ],
   "source": [
    "word_diff = set(text6) - set(text7)\n",
    "print(word_diff)"
   ]
  },
  {
   "cell_type": "code",
   "execution_count": 2,
   "id": "18c92b5c",
   "metadata": {},
   "outputs": [
    {
     "name": "stdout",
     "output_type": "stream",
     "text": [
      "143\n"
     ]
    }
   ],
   "source": [
    "intersection = set(text1) & set(text2) & set(text3) & set(text4) & set(text5) & set(text6) & set(text7) & set(text8) & set(text9)\n",
    "print(len(intersection))"
   ]
  },
  {
   "cell_type": "code",
   "execution_count": 41,
   "id": "51610ff6",
   "metadata": {},
   "outputs": [
    {
     "name": "stdout",
     "output_type": "stream",
     "text": [
      " YOUR sense of honour and honesty would have led you, I know, when aware of your situation, to attempt all the economy that would appear to you possible: and, perhaps, as long as your frugality retrenched only on your own comfort, you might have been suffered to practice it, but beyond that-- and how little could the utmost of your single management do to stop the ruin which had begun before your marriage?-- Beyond THAT, had you endeavoured, however reasonably, to abridge HIS enjoyments, is it not to be feared, that instead of prevailing on feelings so selfish to consent to it, you would have lessened your own influence on his heart, and made him regret the connection which had involved him in such difficulties?\" Marianne's lips quivered, and she repeated the word \"Selfish?\" in a tone that implied--\"do you really think him selfish?\" \"The whole of his behaviour,\" replied Elinor, \"from the beginning to the end of the affair, has been grounded on selfishness\n"
     ]
    }
   ],
   "source": [
    "import re\n",
    "from nltk.corpus import gutenberg\n",
    "\n",
    "text2 = Text(gutenberg.words(\"austen-sense.txt\"))\n",
    "new_text2 = gutenberg.raw(\"austen-sense.txt\")\n",
    "Horolifics = ['Mr.',\"Mrs.\",' Miss.',' Ms.',' Mx.',' Sir.', 'Dr.','Cllr.',' Lady.','Lord.','Mr President.', 'General.',' Captain.',' Father.',' Doctor.']\n",
    "m = [word for word in new_text2.split() if word not in Horolifics]\n",
    "#print(m)\n",
    "sentences = \" \".join(m)\n",
    "sentence_list = sentences.split(\".\")\n",
    "#print(re.findall(r\"\\b Sir+\",m)\n",
    "#print(sentence_list)\n",
    "length_of_sentence = [len(i) for i in sentence_list]\n",
    "#print(new_text2)\n",
    "print(sentence_list[length_of_sentence.index(max(length_of_sentence))])\n"
   ]
  },
  {
   "cell_type": "code",
   "execution_count": null,
   "id": "4aeb2187",
   "metadata": {},
   "outputs": [],
   "source": []
  }
 ],
 "metadata": {
  "kernelspec": {
   "display_name": "Python 3 (ipykernel)",
   "language": "python",
   "name": "python3"
  },
  "language_info": {
   "codemirror_mode": {
    "name": "ipython",
    "version": 3
   },
   "file_extension": ".py",
   "mimetype": "text/x-python",
   "name": "python",
   "nbconvert_exporter": "python",
   "pygments_lexer": "ipython3",
   "version": "3.9.12"
  }
 },
 "nbformat": 4,
 "nbformat_minor": 5
}
